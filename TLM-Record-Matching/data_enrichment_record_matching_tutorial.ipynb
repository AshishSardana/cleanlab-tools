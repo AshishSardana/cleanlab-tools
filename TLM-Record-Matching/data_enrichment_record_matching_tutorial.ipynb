{
 "cells": [
  {
   "cell_type": "markdown",
   "id": "c0c3a063-349d-46f7-b702-a39993465c1a",
   "metadata": {},
   "source": [
    "# Data Enrichment: Record Matching"
   ]
  },
  {
   "cell_type": "markdown",
   "id": "8f8aa5ec-a2e9-41e0-a416-6958e53000ed",
   "metadata": {},
   "source": [
    "Record matching involves identifying records in two different data tables that refer to the same entity. This is a crucial task for ensuring accurate data integration, eliminating duplicates, and maintaining high data quality.\n",
    "\n",
    "Large Language Models (LLMs) bring powerful capabilities to this complex problem. By leveraging the extensive world knowledge embedded in these pre-trained models, organizations can achieve record matching with unparalleled accuracy and efficiency.\n",
    "\n",
    "Accurate record matching is vital in real-world applications such as data integration, improving data quality, customer relationship management (CRM), healthcare, fraud detection/prevention, and compliance/reporting.\n",
    "\n",
    "This tutorial demonstrates how to use Cleanlab’s Data Enrichment to reliably match records between two different data tables, achieving higher levels of accuracy than existing methods.\n",
    "\n",
    "In particular, **Cleanlab's Data Enrichment allows you to boost the recall of your record matching, while meeting precision requirements that you’d otherwise have to apply overly stringent blocking and string-similarity-thresholds to meet.**\n",
    "\n",
    "\n",
    "Here is a short overview of steps (the user workflow) we are going to follow in this tutorial:\n",
    "\n",
    "1. Use blocking based on exact string match in particular column(s) to produce an initial crude set of candidate-matches.\n",
    "2. Filter these candidate-matches to a smaller set based on fuzzy string-similarity measures applied to particular column(s) where matched records are expected to have syntactically similar values.\n",
    "3. Filter the candidate-matches even further based on Cleanlab's Data Enrichment, which assesses the semantic similarity in column(s) expected to be particularly meaningful.\n",
    "\n",
    "If we solely rely on blocking and fuzzy string similarity, the resulting predicted matches between records have either too many false positive or negative results. Cleanlab's AI system is instead able to semantically understand each record to better predict the true set of matched records."
   ]
  },
  {
   "attachments": {},
   "cell_type": "markdown",
   "id": "d34cf3db-0a7c-4f6d-98eb-7a2093af03a5",
   "metadata": {},
   "source": [
    "## Setup\n",
    "\n",
    "To run Cleanlab Data Enrichment, make sure you have a [Cleanlab account](https://app.cleanlab.ai/). Sign up for one [here](https://cleanlab.ai/signup/) if you haven't yet. If you've already signed up, check your email for a personal login link.\n",
    "\n",
    "The Python client can be installed using pip:"
   ]
  },
  {
   "cell_type": "code",
   "execution_count": 39,
   "id": "8eee618c-12ee-4932-b2e6-e7a5458d0425",
   "metadata": {},
   "outputs": [],
   "source": [
    "!pip install --upgrade cleanlab-studio\n",
    "!pip install recordlinkage==0.16"
   ]
  },
  {
   "cell_type": "markdown",
   "id": "fe39ff61-eac2-4e5a-859f-dc2cd2a7e937",
   "metadata": {},
   "source": [
    "Once installed, let's load this package and other dependencies."
   ]
  },
  {
   "cell_type": "code",
   "execution_count": 2,
   "id": "53b3f24d-d7fb-43c1-b835-4fdf0c554d42",
   "metadata": {},
   "outputs": [],
   "source": [
    "import recordlinkage\n",
    "from recordlinkage.datasets import load_febrl4\n",
    "import pandas as pd\n",
    "import numpy as np\n",
    "import random\n",
    "random.seed(42)\n",
    "\n",
    "from cleanlab_studio import Studio\n",
    "from cleanlab_studio.utils.data_enrichment.enrich import enrich_data\n",
    "\n",
    "\n",
    "pd.set_option(\"display.max_columns\", None)\n",
    "pd.set_option(\"display.max_colwidth\", None)"
   ]
  },
  {
   "cell_type": "markdown",
   "id": "19f26b2d-d73f-4a77-bb07-39d1bbc96654",
   "metadata": {},
   "source": [
    "We then initalize our Cleanlab client."
   ]
  },
  {
   "cell_type": "code",
   "execution_count": 3,
   "id": "e71c13aa-f520-4236-b2fa-d6eb5ae9bb48",
   "metadata": {},
   "outputs": [],
   "source": [
    "# Get API key from here: https://app.cleanlab.ai/account after creating an account.\n",
    "studio = Studio(\"YOUR API KEY HERE\")"
   ]
  },
  {
   "cell_type": "markdown",
   "id": "1228b6e8-cf85-41f1-ba67-18a4f5c2015b",
   "metadata": {},
   "source": [
    "## Load in data"
   ]
  },
  {
   "cell_type": "markdown",
   "id": "775e794c-fc30-41af-9ac8-ed335fc25296",
   "metadata": {},
   "source": [
    "Now let's load in our data, represented as `Table A` and `Table B`. \n",
    "\n",
    "These record tables represent two different tables, where each row represents a person, from the Freely Extensible Biomedical Record Linkage (Febrl) package. As mentioned in the [source](https://recordlinkage.readthedocs.io/en/latest/ref-datasets.html) of the data, the combined dataset of `Table A` and `Table B` has 10000 records (5000 originals and 5000 duplicates, with one duplicate per original) but to generate these two tables, the originals have been split from the duplicates, into `Table A` (containing the 5000 original records) and `Table B` (containing the 5000 duplicate records). We will be using these two data sets for testing record linkage procedures in this tutorial."
   ]
  },
  {
   "cell_type": "code",
   "execution_count": 4,
   "id": "096e113d-e0fb-42fb-8ba7-14cc2c1a01aa",
   "metadata": {},
   "outputs": [],
   "source": [
    "!wget -nc https://cleanlab-public.s3.amazonaws.com/Datasets/recordlinkage_data/recordlinkage_table_A.csv\n",
    "!wget -nc https://cleanlab-public.s3.amazonaws.com/Datasets/recordlinkage_data/recordlinkage_table_B.csv"
   ]
  },
  {
   "cell_type": "code",
   "execution_count": 5,
   "id": "cb2bbcf3-47b2-4dc2-b048-d502a78a3fe7",
   "metadata": {},
   "outputs": [
    {
     "name": "stdout",
     "output_type": "stream",
     "text": [
      "(5000, 6) (5000, 4)\n"
     ]
    }
   ],
   "source": [
    "dfA, dfB = pd.read_csv(\"recordlinkage_table_A.csv\", index_col=[0]), pd.read_csv(\"recordlinkage_table_B.csv\", index_col=[0])\n",
    "print(dfA.shape, dfB.shape)"
   ]
  },
  {
   "cell_type": "code",
   "execution_count": 6,
   "id": "97e66667-7925-48c2-86fe-c730136de300",
   "metadata": {},
   "outputs": [
    {
     "data": {
      "text/html": [
       "<div>\n",
       "<style scoped>\n",
       "    .dataframe tbody tr th:only-of-type {\n",
       "        vertical-align: middle;\n",
       "    }\n",
       "\n",
       "    .dataframe tbody tr th {\n",
       "        vertical-align: top;\n",
       "    }\n",
       "\n",
       "    .dataframe thead th {\n",
       "        text-align: right;\n",
       "    }\n",
       "</style>\n",
       "<table border=\"1\" class=\"dataframe\">\n",
       "  <thead>\n",
       "    <tr style=\"text-align: right;\">\n",
       "      <th></th>\n",
       "      <th>given_name</th>\n",
       "      <th>surname</th>\n",
       "      <th>street_number</th>\n",
       "      <th>street_address</th>\n",
       "      <th>postcode</th>\n",
       "      <th>state</th>\n",
       "    </tr>\n",
       "    <tr>\n",
       "      <th>rec_id</th>\n",
       "      <th></th>\n",
       "      <th></th>\n",
       "      <th></th>\n",
       "      <th></th>\n",
       "      <th></th>\n",
       "      <th></th>\n",
       "    </tr>\n",
       "  </thead>\n",
       "  <tbody>\n",
       "    <tr>\n",
       "      <th>rec-1070-org</th>\n",
       "      <td>michaela</td>\n",
       "      <td>neumann</td>\n",
       "      <td>8.0</td>\n",
       "      <td>stanley street</td>\n",
       "      <td>4223</td>\n",
       "      <td>nsw</td>\n",
       "    </tr>\n",
       "  </tbody>\n",
       "</table>\n",
       "</div>"
      ],
      "text/plain": [
       "             given_name  surname  street_number  street_address  postcode  \\\n",
       "rec_id                                                                      \n",
       "rec-1070-org   michaela  neumann            8.0  stanley street      4223   \n",
       "\n",
       "             state  \n",
       "rec_id              \n",
       "rec-1070-org   nsw  "
      ]
     },
     "execution_count": 6,
     "metadata": {},
     "output_type": "execute_result"
    }
   ],
   "source": [
    "# Check what first DataFrame columns look like\n",
    "dfA.head(1)"
   ]
  },
  {
   "cell_type": "code",
   "execution_count": 7,
   "id": "9fd154b2-8782-43ad-a4a8-c2a65faf2d6d",
   "metadata": {},
   "outputs": [
    {
     "data": {
      "text/html": [
       "<div>\n",
       "<style scoped>\n",
       "    .dataframe tbody tr th:only-of-type {\n",
       "        vertical-align: middle;\n",
       "    }\n",
       "\n",
       "    .dataframe tbody tr th {\n",
       "        vertical-align: top;\n",
       "    }\n",
       "\n",
       "    .dataframe thead th {\n",
       "        text-align: right;\n",
       "    }\n",
       "</style>\n",
       "<table border=\"1\" class=\"dataframe\">\n",
       "  <thead>\n",
       "    <tr style=\"text-align: right;\">\n",
       "      <th></th>\n",
       "      <th>given_name</th>\n",
       "      <th>surname</th>\n",
       "      <th>suburb</th>\n",
       "      <th>address_form</th>\n",
       "    </tr>\n",
       "    <tr>\n",
       "      <th>rec_id</th>\n",
       "      <th></th>\n",
       "      <th></th>\n",
       "      <th></th>\n",
       "      <th></th>\n",
       "    </tr>\n",
       "  </thead>\n",
       "  <tbody>\n",
       "    <tr>\n",
       "      <th>rec-561-dup-0</th>\n",
       "      <td>elton</td>\n",
       "      <td>NaN</td>\n",
       "      <td>windermere</td>\n",
       "      <td>my current address is 3 light setreet windermere 3212 vic</td>\n",
       "    </tr>\n",
       "  </tbody>\n",
       "</table>\n",
       "</div>"
      ],
      "text/plain": [
       "              given_name surname      suburb  \\\n",
       "rec_id                                         \n",
       "rec-561-dup-0      elton     NaN  windermere   \n",
       "\n",
       "                                                             address_form  \n",
       "rec_id                                                                     \n",
       "rec-561-dup-0  my current address is 3 light setreet windermere 3212 vic   "
      ]
     },
     "execution_count": 7,
     "metadata": {},
     "output_type": "execute_result"
    }
   ],
   "source": [
    "# Check what second DataFrame columns look like\n",
    "dfB.head(1)"
   ]
  },
  {
   "cell_type": "markdown",
   "id": "d36fd80a-cad0-4897-9eb1-72018d336eb4",
   "metadata": {},
   "source": [
    "## Basic Record Linkage using Blocking + Fuzzy String Matching\n",
    "\n",
    "As mentioned in [the official recordlinkage package tutorial](https://recordlinkage.readthedocs.io/en/latest/guides/link_two_dataframes.html), we can use the `recordlinkage` library to link two datasets.\n",
    "\n",
    "The steps presented in the tutorial are:\n",
    "\n",
    "1. **Indexation:** Candidate pairs are generated by exact matching on the given_name column in `Table A` and `Table B`.\n",
    "2. **Comparison:** Similarity features are computed for candidate pairs, with exact matching on given_name and fuzzy matching on surname.\n",
    "3. **Classification:** Pairs matching on all criteria are selected as final matches.\n",
    "\n",
    "\n",
    "For fuzzy string matching, we make use of the [Jaro-Winkler similarity](https://en.wikipedia.org/wiki/Jaro%E2%80%93Winkler_distance)."
   ]
  },
  {
   "cell_type": "code",
   "execution_count": 8,
   "id": "09ffbdfd-a860-477f-82f3-fb7cb1888179",
   "metadata": {},
   "outputs": [
    {
     "name": "stdout",
     "output_type": "stream",
     "text": [
      "Number of matches after exact match blocking: 77249\n"
     ]
    },
    {
     "data": {
      "text/plain": [
       "2.0     3078\n",
       "1.0    74171\n",
       "Name: count, dtype: int64"
      ]
     },
     "metadata": {},
     "output_type": "display_data"
    }
   ],
   "source": [
    "# Indexation step\n",
    "blocking_columns = [\"given_name\"]  # Columns to block for exact match between datasets\n",
    "filtering_columns = [\"surname\"]  # Columns to filter by for fuzzy string matching between datasets\n",
    "filter_threshold = 0.95  # Threshold of similarity for fuzzy string matching\n",
    "\n",
    "indexer = recordlinkage.Index()\n",
    "indexer.block(blocking_columns)\n",
    "candidate_links = indexer.index(dfA, dfB)\n",
    "print(f\"Number of matches after exact match blocking: {len(candidate_links)}\")\n",
    "\n",
    "# Comparison string similarity filter step\n",
    "compare_cl = recordlinkage.Compare()\n",
    "for column in blocking_columns:\n",
    "    compare_cl.exact(column, column, label=column)\n",
    "\n",
    "for column in filtering_columns:\n",
    "    if column in blocking_columns:\n",
    "        continue\n",
    "    compare_cl.string(\n",
    "        column, column, method=\"jarowinkler\", threshold=filter_threshold, label=column\n",
    "    )\n",
    "\n",
    "features = compare_cl.compute(candidate_links, dfA, dfB)\n",
    "display(features.sum(axis=1).value_counts().sort_index(ascending=False))\n",
    "\n",
    "# Classification step\n",
    "matches = features[features.sum(axis=1) == len(blocking_columns) + len(filtering_columns)]"
   ]
  },
  {
   "cell_type": "markdown",
   "id": "443d8dda-9ee5-4ed0-b8f0-ea780cbfc278",
   "metadata": {},
   "source": [
    "There are 3078 candidate links with a total score of 2. This means these links have passed both the exact match on `given_name` and the fuzzy string match on `surname`.\n",
    "\n",
    "There are 74171 candidate links with a total score of 1. This means these links have passed either the exact match on `given_name` or the fuzzy string match on `surname`, but not both."
   ]
  },
  {
   "cell_type": "markdown",
   "id": "57cb4339-6221-4281-819a-2789d879ddb1",
   "metadata": {},
   "source": [
    "Let's now use the matched indices from `Table A` and `Table B` we obtained in the classification step prior as a filter to obtain our possible matches after fuzzy string matching and exact match blocking."
   ]
  },
  {
   "cell_type": "code",
   "execution_count": 9,
   "id": "6483151f-fc85-4d1e-b3f7-28c4fa598240",
   "metadata": {},
   "outputs": [],
   "source": [
    "dfA_index = matches.index.get_level_values('rec_id_1')\n",
    "dfB_index = matches.index.get_level_values('rec_id_2')\n",
    "\n",
    "dfA_filtered = dfA.loc[dfA_index].reset_index()\n",
    "dfB_filtered = dfB.loc[dfB_index].reset_index()\n",
    "\n",
    "df_possible_matches = dfA_filtered.join(dfB_filtered, lsuffix='_a', rsuffix='_b')"
   ]
  },
  {
   "cell_type": "code",
   "execution_count": 10,
   "id": "86f9f349-b9f4-468f-90d8-be4d2ad851d7",
   "metadata": {},
   "outputs": [
    {
     "name": "stdout",
     "output_type": "stream",
     "text": [
      "Number of matches after fuzzy string matching and exact match blocking: 3078\n"
     ]
    }
   ],
   "source": [
    "print(f\"Number of matches after fuzzy string matching and exact match blocking: {len(df_possible_matches)}\")"
   ]
  },
  {
   "cell_type": "markdown",
   "id": "a3cc7161-ab07-4c94-9a04-92b2bfa7a258",
   "metadata": {},
   "source": [
    "## Use Cleanlab's Data Enrichment to filter candidate-matches even further"
   ]
  },
  {
   "cell_type": "code",
   "execution_count": 11,
   "id": "44b06886-3130-414a-bff9-5b415eae680e",
   "metadata": {},
   "outputs": [],
   "source": [
    "# Specify prompt for Data Enrichment\n",
    "prompt = '''\n",
    "Help me identify if Information1 and Information2 belong to the same person. The information does not need to match exactly. \n",
    "\n",
    "If Information1 and Information2 both belong to the same person, return True. Otherwise, return False. \n",
    "\n",
    "Please be as accurate as possible, the world depends on it.\n",
    "\n",
    "Here are some example Information and Output pairs:\n",
    "\n",
    "Example1:\n",
    "\n",
    "Information1:\n",
    "Given Name: mitchell\n",
    "Surname: maxon\n",
    "Street Number: 47\n",
    "Address: 47 edkins street\n",
    "lochaoair\n",
    "north ryde, 3355\n",
    "Suburb: north ryde\n",
    "Postcode: 3355\n",
    "\n",
    "Information2:\n",
    "Given Name: mitchell\n",
    "Surname: \n",
    "Postcode: 3355\n",
    "State: nsw\n",
    "\n",
    "Example1 Output: True\n",
    "\n",
    "Example2:\n",
    "\n",
    "Information1:\n",
    "Given Name: sophie\n",
    "Surname: manson\n",
    "Street Number: 14\n",
    "Address: 14 elizabeth xrescen\n",
    "lochaoair\n",
    "manorhouse, 3465\n",
    "Suburb: manorhouse\n",
    "Postcode: 3465\n",
    "\n",
    "Information2:\n",
    "Given Name: sophie\n",
    "Surname: millar\n",
    "Postcode: 4592\n",
    "State: vic\n",
    "\n",
    "Example2 Output: False\n",
    "\n",
    "Example3:\n",
    "\n",
    "Information1:\n",
    "Given Name: jayed\n",
    "Surname: millar\n",
    "Street Number: 6\n",
    "Address: 6 meredith c ircuit\n",
    "lochaoair\n",
    "thornbury, 6014\n",
    "Suburb: thornbury\n",
    "Postcode: 6014\n",
    "\n",
    "Information2:\n",
    "Given Name: jayed\n",
    "Surname: millar\n",
    "Postcode: \n",
    "State: vic\n",
    "\n",
    "Example3 Output: True\n",
    "\n",
    "....\n",
    "\n",
    "Now here is Information1 and Information2 to verify:\n",
    "\n",
    "Information1:\n",
    "Given Name: {given_name_a}\n",
    "Surname: {surname_a}\n",
    "Street Number: {street_number}\n",
    "Address: {street_address}\n",
    "Postcode: {postcode}\n",
    "State: {state}\n",
    "\n",
    "Information2:\n",
    "Given Name: {given_name_b}\n",
    "Surname: {surname_b}\n",
    "Suburb: {suburb}\n",
    "Address Form: {address_form}\n",
    "\n",
    "Output:\n",
    "'''"
   ]
  },
  {
   "cell_type": "markdown",
   "id": "bad60960-df7c-4e9e-88c1-51a2e3b4e105",
   "metadata": {},
   "source": [
    "### Run Data Enrichment on possible matches so far"
   ]
  },
  {
   "cell_type": "markdown",
   "id": "9a530b05-0e33-4f70-a0e7-90ae19024cc8",
   "metadata": {},
   "source": [
    "To run Cleanlab Data Enrichment, we make use of the `enrich_data` function specified below from our [Python API](https://github.com/cleanlab/cleanlab-studio/blob/main/cleanlab_studio/utils/data_enrichment/enrich.py). We are passing the following arguments:\n",
    "\n",
    "**Required Arguments:**\n",
    "\n",
    "- `studio`, our Cleanlab Studio object we instantiated\n",
    "- `data`, the DataFrame containing the original data we are enriching\n",
    "- `prompt`, the prompt we want to use to enrich our data\n",
    "\n",
    "**Optional Arguments:**\n",
    "- `subset_indices`, what subset of the supplied data rows to generate metadata for. We set this to `None` which means we will run data enrichment on our full dataset for the given input prompt\n",
    "- `new_column_name`, an optional name for the returned enriched column. Name acts as a prefix appended to all additional columns that are returned\n",
    "- `**kwargs`, optional keywords arguments, including\n",
    "  \n",
    "    - `quality_preset`: we specify `quality_preset=\"high\"` to improve our data enrichment responses at the expense of higher runtimes and higher token cost (the default quality is `medium`, see more details about the various presets [here](https://help.cleanlab.ai/reference/python/studio/\\#method-tlm)).\n",
    "    - `contrain_outputs`: If specified, every entry in the `metadata` column will exactly match one of these values."
   ]
  },
  {
   "cell_type": "code",
   "execution_count": 12,
   "id": "02123009-fd6d-4434-bef3-a1911da5bc8e",
   "metadata": {},
   "outputs": [
    {
     "name": "stderr",
     "output_type": "stream",
     "text": [
      "Querying TLM... 100%|████████████████████████████████████████████████████████████████████████████████████████████████████████████████████████████████████████████|"
     ]
    },
    {
     "name": "stdout",
     "output_type": "stream",
     "text": [
      "CPU times: user 17min 26s, sys: 5min 39s, total: 23min 6s\n",
      "Wall time: 1h 10min 30s\n"
     ]
    },
    {
     "name": "stderr",
     "output_type": "stream",
     "text": [
      "\n"
     ]
    }
   ],
   "source": [
    "%%time\n",
    "\n",
    "df = enrich_data(\n",
    "    studio, \n",
    "    df_possible_matches, \n",
    "    prompt, \n",
    "    subset_indices=None, \n",
    "    constrain_outputs=[\"True\", \"False\"],\n",
    "    quality_preset='high'\n",
    ")"
   ]
  },
  {
   "cell_type": "markdown",
   "id": "3c77d8cf-2c14-4d1d-97a9-683fa243b15e",
   "metadata": {},
   "source": [
    "When the Data Enrichment is complete, you will notice three new columns in the dataset: \n",
    "\n",
    "- `metadata`, a column with the response that we prompted for (after processing the response with any specified regex operations or constrained output operations)\n",
    "- `metadata_trustworthiness`, a corresponding trustworthiness score, which quantifies how confident you can be that the response is correct\n",
    "- `metadata_log`, if `regex` or specific outputs (via `constrain_outputs`) are specified, there will also be a log column which returns the raw response string from the LLM (before any other operations)\n",
    "\n",
    "Note that the trustworthiness score corresponds to the original response string, and not to response that has been processed with any additional string handling.\n",
    "\n",
    "We can also join the results with the original DataFrame:"
   ]
  },
  {
   "cell_type": "code",
   "execution_count": 13,
   "id": "87032a04-3ab2-463b-8937-36c5270e7aa9",
   "metadata": {},
   "outputs": [
    {
     "data": {
      "text/html": [
       "<div>\n",
       "<style scoped>\n",
       "    .dataframe tbody tr th:only-of-type {\n",
       "        vertical-align: middle;\n",
       "    }\n",
       "\n",
       "    .dataframe tbody tr th {\n",
       "        vertical-align: top;\n",
       "    }\n",
       "\n",
       "    .dataframe thead th {\n",
       "        text-align: right;\n",
       "    }\n",
       "</style>\n",
       "<table border=\"1\" class=\"dataframe\">\n",
       "  <thead>\n",
       "    <tr style=\"text-align: right;\">\n",
       "      <th></th>\n",
       "      <th>rec_id_1</th>\n",
       "      <th>given_name_a</th>\n",
       "      <th>surname_a</th>\n",
       "      <th>street_number</th>\n",
       "      <th>street_address</th>\n",
       "      <th>postcode</th>\n",
       "      <th>state</th>\n",
       "      <th>rec_id_2</th>\n",
       "      <th>given_name_b</th>\n",
       "      <th>surname_b</th>\n",
       "      <th>suburb</th>\n",
       "      <th>address_form</th>\n",
       "      <th>metadata</th>\n",
       "      <th>metadata_trustworthiness</th>\n",
       "      <th>metadata_log</th>\n",
       "    </tr>\n",
       "  </thead>\n",
       "  <tbody>\n",
       "    <tr>\n",
       "      <th>0</th>\n",
       "      <td>rec-2371-org</td>\n",
       "      <td>michaela</td>\n",
       "      <td>dunstone</td>\n",
       "      <td>37.0</td>\n",
       "      <td>deane street</td>\n",
       "      <td>2065</td>\n",
       "      <td>vic</td>\n",
       "      <td>rec-2371-dup-0</td>\n",
       "      <td>michaela</td>\n",
       "      <td>dunstone</td>\n",
       "      <td>woodcroft</td>\n",
       "      <td>37 deane street 2065 vic</td>\n",
       "      <td>True</td>\n",
       "      <td>0.999852</td>\n",
       "      <td>True</td>\n",
       "    </tr>\n",
       "    <tr>\n",
       "      <th>1</th>\n",
       "      <td>rec-3024-org</td>\n",
       "      <td>michaela</td>\n",
       "      <td>wilkins</td>\n",
       "      <td>1.0</td>\n",
       "      <td>hoseason street</td>\n",
       "      <td>3782</td>\n",
       "      <td>nsw</td>\n",
       "      <td>rec-3024-dup-0</td>\n",
       "      <td>michaela</td>\n",
       "      <td>wilkns</td>\n",
       "      <td>jamdstown</td>\n",
       "      <td>street 2  \\nstate nsw</td>\n",
       "      <td>True</td>\n",
       "      <td>0.650150</td>\n",
       "      <td>True</td>\n",
       "    </tr>\n",
       "    <tr>\n",
       "      <th>2</th>\n",
       "      <td>rec-4652-org</td>\n",
       "      <td>michaela</td>\n",
       "      <td>mcandrew</td>\n",
       "      <td>25.0</td>\n",
       "      <td>parker street</td>\n",
       "      <td>3128</td>\n",
       "      <td>vic</td>\n",
       "      <td>rec-4652-dup-0</td>\n",
       "      <td>michaela</td>\n",
       "      <td>mcandrew</td>\n",
       "      <td>avondale hdights</td>\n",
       "      <td>25 parker smreet 3121 vic</td>\n",
       "      <td>True</td>\n",
       "      <td>0.999852</td>\n",
       "      <td>True</td>\n",
       "    </tr>\n",
       "    <tr>\n",
       "      <th>3</th>\n",
       "      <td>rec-4795-org</td>\n",
       "      <td>michaela</td>\n",
       "      <td>wasley</td>\n",
       "      <td>10.0</td>\n",
       "      <td>lake place</td>\n",
       "      <td>2192</td>\n",
       "      <td>nsw</td>\n",
       "      <td>rec-4795-dup-0</td>\n",
       "      <td>michaela</td>\n",
       "      <td>wasley</td>\n",
       "      <td>coombabah</td>\n",
       "      <td>10 lake place 2192 nsw coombabah Once again, I live at: 10 lake place 2192 nsw coombabah</td>\n",
       "      <td>True</td>\n",
       "      <td>0.999852</td>\n",
       "      <td>True</td>\n",
       "    </tr>\n",
       "    <tr>\n",
       "      <th>4</th>\n",
       "      <td>rec-1016-org</td>\n",
       "      <td>courtney</td>\n",
       "      <td>painter</td>\n",
       "      <td>12.0</td>\n",
       "      <td>pinkerton circuit</td>\n",
       "      <td>4560</td>\n",
       "      <td>vic</td>\n",
       "      <td>rec-1016-dup-0</td>\n",
       "      <td>courtney</td>\n",
       "      <td>painter</td>\n",
       "      <td>richlands</td>\n",
       "      <td>12 pinkerton circuit 4560 vci richlands</td>\n",
       "      <td>True</td>\n",
       "      <td>0.999852</td>\n",
       "      <td>True</td>\n",
       "    </tr>\n",
       "  </tbody>\n",
       "</table>\n",
       "</div>"
      ],
      "text/plain": [
       "       rec_id_1 given_name_a surname_a  street_number     street_address  \\\n",
       "0  rec-2371-org     michaela  dunstone           37.0       deane street   \n",
       "1  rec-3024-org     michaela   wilkins            1.0    hoseason street   \n",
       "2  rec-4652-org     michaela  mcandrew           25.0      parker street   \n",
       "3  rec-4795-org     michaela    wasley           10.0         lake place   \n",
       "4  rec-1016-org     courtney   painter           12.0  pinkerton circuit   \n",
       "\n",
       "   postcode state        rec_id_2 given_name_b surname_b            suburb  \\\n",
       "0      2065   vic  rec-2371-dup-0     michaela  dunstone         woodcroft   \n",
       "1      3782   nsw  rec-3024-dup-0     michaela    wilkns         jamdstown   \n",
       "2      3128   vic  rec-4652-dup-0     michaela  mcandrew  avondale hdights   \n",
       "3      2192   nsw  rec-4795-dup-0     michaela    wasley         coombabah   \n",
       "4      4560   vic  rec-1016-dup-0     courtney   painter         richlands   \n",
       "\n",
       "                                                                                address_form  \\\n",
       "0                                                                  37 deane street 2065 vic    \n",
       "1                                                                     street 2  \\nstate nsw    \n",
       "2                                                                 25 parker smreet 3121 vic    \n",
       "3  10 lake place 2192 nsw coombabah Once again, I live at: 10 lake place 2192 nsw coombabah    \n",
       "4                                                   12 pinkerton circuit 4560 vci richlands    \n",
       "\n",
       "  metadata  metadata_trustworthiness metadata_log  \n",
       "0     True                  0.999852         True  \n",
       "1     True                  0.650150         True  \n",
       "2     True                  0.999852         True  \n",
       "3     True                  0.999852         True  \n",
       "4     True                  0.999852         True  "
      ]
     },
     "execution_count": 13,
     "metadata": {},
     "output_type": "execute_result"
    }
   ],
   "source": [
    "enriched_df = df_possible_matches.join(df)\n",
    "enriched_df.head()"
   ]
  },
  {
   "cell_type": "code",
   "execution_count": 14,
   "id": "a8a2426b-e8e7-4e21-b05b-e3ae0f91ae66",
   "metadata": {},
   "outputs": [
    {
     "name": "stdout",
     "output_type": "stream",
     "text": [
      "(3078, 15)\n"
     ]
    }
   ],
   "source": [
    "print(enriched_df.shape)"
   ]
  },
  {
   "cell_type": "markdown",
   "id": "57052e5c-705d-4320-9b82-62c82562b53e",
   "metadata": {},
   "source": [
    "Now let's check how many data points we have `True` in the response that we prompted for using Data Enrichment. \n",
    "\n",
    "These represent cases where Data Enrichment thinks there are matching records and are the end result for the user."
   ]
  },
  {
   "cell_type": "code",
   "execution_count": 25,
   "id": "a6675c6b-88f3-4788-a0de-aa6c5ba0879f",
   "metadata": {},
   "outputs": [
    {
     "name": "stdout",
     "output_type": "stream",
     "text": [
      "(2895, 15)\n"
     ]
    }
   ],
   "source": [
    "print(enriched_df.query(\"metadata == 'True'\").shape)"
   ]
  },
  {
   "cell_type": "markdown",
   "id": "90ca3bdd-d9d4-4cfb-9065-bd1feacce9aa",
   "metadata": {},
   "source": [
    "### Use Cleanlab Trustworthiness Score to Filter Record Matches"
   ]
  },
  {
   "cell_type": "markdown",
   "id": "d8486358-eab8-45fd-b21b-7b69e5f7ce6b",
   "metadata": {},
   "source": [
    "We can also use the [Trustworthiness Score](https://help.cleanlab.ai/tutorials/tlm/#how-does-the-tlm-trustworthiness-score-work) obtained via Data Enrichment to further filter our record matches based on a threshold. \n",
    "\n",
    "This threshold can be determined by sorting the results by the trustworthiness score and then looking for a cutoff point in the results when record matches go from true positives (a match) and true negatives (not a match) to false positives and false negatives.\n",
    "\n",
    "\n",
    "**Note:** We suggest you play around with this threshold to achieve optimal results for your data. For record matches, you should choose a threshold where you see examples that are false positives (matches) around this trustworthiness score threshold."
   ]
  },
  {
   "cell_type": "code",
   "execution_count": 26,
   "id": "15b2e1c0-9efb-4058-99b2-bbf08fd8dce1",
   "metadata": {},
   "outputs": [
    {
     "data": {
      "text/html": [
       "<div>\n",
       "<style scoped>\n",
       "    .dataframe tbody tr th:only-of-type {\n",
       "        vertical-align: middle;\n",
       "    }\n",
       "\n",
       "    .dataframe tbody tr th {\n",
       "        vertical-align: top;\n",
       "    }\n",
       "\n",
       "    .dataframe thead th {\n",
       "        text-align: right;\n",
       "    }\n",
       "</style>\n",
       "<table border=\"1\" class=\"dataframe\">\n",
       "  <thead>\n",
       "    <tr style=\"text-align: right;\">\n",
       "      <th></th>\n",
       "      <th>rec_id_1</th>\n",
       "      <th>given_name_a</th>\n",
       "      <th>surname_a</th>\n",
       "      <th>street_number</th>\n",
       "      <th>street_address</th>\n",
       "      <th>postcode</th>\n",
       "      <th>state</th>\n",
       "      <th>rec_id_2</th>\n",
       "      <th>given_name_b</th>\n",
       "      <th>surname_b</th>\n",
       "      <th>suburb</th>\n",
       "      <th>address_form</th>\n",
       "      <th>metadata</th>\n",
       "      <th>metadata_trustworthiness</th>\n",
       "      <th>metadata_log</th>\n",
       "    </tr>\n",
       "  </thead>\n",
       "  <tbody>\n",
       "    <tr>\n",
       "      <th>0</th>\n",
       "      <td>rec-2371-org</td>\n",
       "      <td>michaela</td>\n",
       "      <td>dunstone</td>\n",
       "      <td>37.0</td>\n",
       "      <td>deane street</td>\n",
       "      <td>2065</td>\n",
       "      <td>vic</td>\n",
       "      <td>rec-2371-dup-0</td>\n",
       "      <td>michaela</td>\n",
       "      <td>dunstone</td>\n",
       "      <td>woodcroft</td>\n",
       "      <td>37 deane street 2065 vic</td>\n",
       "      <td>True</td>\n",
       "      <td>0.999852</td>\n",
       "      <td>True</td>\n",
       "    </tr>\n",
       "    <tr>\n",
       "      <th>1998</th>\n",
       "      <td>rec-1350-org</td>\n",
       "      <td>james</td>\n",
       "      <td>reid</td>\n",
       "      <td>30.0</td>\n",
       "      <td>snodgrass crescent</td>\n",
       "      <td>2261</td>\n",
       "      <td>qld</td>\n",
       "      <td>rec-1350-dup-0</td>\n",
       "      <td>james</td>\n",
       "      <td>reid</td>\n",
       "      <td>belmont</td>\n",
       "      <td>30 snodgrass crescent 2261 qld belmont Once again, I live at: 30 snodgrass crescent 2261 qld belmont</td>\n",
       "      <td>True</td>\n",
       "      <td>0.999852</td>\n",
       "      <td>True</td>\n",
       "    </tr>\n",
       "    <tr>\n",
       "      <th>1898</th>\n",
       "      <td>rec-4937-org</td>\n",
       "      <td>chelsea</td>\n",
       "      <td>blake</td>\n",
       "      <td>21.0</td>\n",
       "      <td>chandler street</td>\n",
       "      <td>2360</td>\n",
       "      <td>nsw</td>\n",
       "      <td>rec-4937-dup-0</td>\n",
       "      <td>chelsea</td>\n",
       "      <td>blake</td>\n",
       "      <td>swan hill</td>\n",
       "      <td>my current address is 21 chandler street swan hill 2306</td>\n",
       "      <td>True</td>\n",
       "      <td>0.999852</td>\n",
       "      <td>True</td>\n",
       "    </tr>\n",
       "    <tr>\n",
       "      <th>1899</th>\n",
       "      <td>rec-3491-org</td>\n",
       "      <td>chelsea</td>\n",
       "      <td>malcolmson</td>\n",
       "      <td>12.0</td>\n",
       "      <td>chalker circuit</td>\n",
       "      <td>6233</td>\n",
       "      <td>vic</td>\n",
       "      <td>rec-3491-dup-0</td>\n",
       "      <td>chelsea</td>\n",
       "      <td>malcolmson</td>\n",
       "      <td>moonah west</td>\n",
       "      <td>12 chalker circuit 6233 vkc moonah west Once again, I live at: 12 chalker circuit 6233 vkc moonah west</td>\n",
       "      <td>True</td>\n",
       "      <td>0.999852</td>\n",
       "      <td>True</td>\n",
       "    </tr>\n",
       "    <tr>\n",
       "      <th>1901</th>\n",
       "      <td>rec-967-org</td>\n",
       "      <td>chelsea</td>\n",
       "      <td>miles</td>\n",
       "      <td>23.0</td>\n",
       "      <td>illawarra court</td>\n",
       "      <td>2230</td>\n",
       "      <td>qld</td>\n",
       "      <td>rec-967-dup-0</td>\n",
       "      <td>chelsea</td>\n",
       "      <td>miles</td>\n",
       "      <td>greensborough</td>\n",
       "      <td>23 illawarra court 2204 qld greensborough</td>\n",
       "      <td>True</td>\n",
       "      <td>0.999852</td>\n",
       "      <td>True</td>\n",
       "    </tr>\n",
       "  </tbody>\n",
       "</table>\n",
       "</div>"
      ],
      "text/plain": [
       "          rec_id_1 given_name_a   surname_a  street_number  \\\n",
       "0     rec-2371-org     michaela    dunstone           37.0   \n",
       "1998  rec-1350-org        james        reid           30.0   \n",
       "1898  rec-4937-org      chelsea       blake           21.0   \n",
       "1899  rec-3491-org      chelsea  malcolmson           12.0   \n",
       "1901   rec-967-org      chelsea       miles           23.0   \n",
       "\n",
       "          street_address  postcode state        rec_id_2 given_name_b  \\\n",
       "0           deane street      2065   vic  rec-2371-dup-0     michaela   \n",
       "1998  snodgrass crescent      2261   qld  rec-1350-dup-0        james   \n",
       "1898     chandler street      2360   nsw  rec-4937-dup-0      chelsea   \n",
       "1899     chalker circuit      6233   vic  rec-3491-dup-0      chelsea   \n",
       "1901     illawarra court      2230   qld   rec-967-dup-0      chelsea   \n",
       "\n",
       "       surname_b         suburb  \\\n",
       "0       dunstone      woodcroft   \n",
       "1998        reid        belmont   \n",
       "1898       blake      swan hill   \n",
       "1899  malcolmson    moonah west   \n",
       "1901       miles  greensborough   \n",
       "\n",
       "                                                                                                 address_form  \\\n",
       "0                                                                                   37 deane street 2065 vic    \n",
       "1998    30 snodgrass crescent 2261 qld belmont Once again, I live at: 30 snodgrass crescent 2261 qld belmont    \n",
       "1898                                                my current address is 21 chandler street swan hill 2306     \n",
       "1899  12 chalker circuit 6233 vkc moonah west Once again, I live at: 12 chalker circuit 6233 vkc moonah west    \n",
       "1901                                                               23 illawarra court 2204 qld greensborough    \n",
       "\n",
       "     metadata  metadata_trustworthiness metadata_log  \n",
       "0        True                  0.999852         True  \n",
       "1998     True                  0.999852         True  \n",
       "1898     True                  0.999852         True  \n",
       "1899     True                  0.999852         True  \n",
       "1901     True                  0.999852         True  "
      ]
     },
     "execution_count": 26,
     "metadata": {},
     "output_type": "execute_result"
    }
   ],
   "source": [
    "sorted_enriched_df = enriched_df.sort_values(by=\"metadata_trustworthiness\", ascending=False)\n",
    "sorted_enriched_df.head()"
   ]
  },
  {
   "cell_type": "markdown",
   "id": "258dec83-177e-4389-9e67-e45831c949b7",
   "metadata": {},
   "source": [
    "Now let's check how many responses have `True` (predicted match) using Data Enrichment and also in which the response trustworthiness score is >= 0.95, which represent the most trustworthy responses from Data Enrichment. "
   ]
  },
  {
   "cell_type": "code",
   "execution_count": 28,
   "id": "2da7787c-a27d-4f94-950e-70fff20e27ea",
   "metadata": {},
   "outputs": [
    {
     "data": {
      "text/html": [
       "<div>\n",
       "<style scoped>\n",
       "    .dataframe tbody tr th:only-of-type {\n",
       "        vertical-align: middle;\n",
       "    }\n",
       "\n",
       "    .dataframe tbody tr th {\n",
       "        vertical-align: top;\n",
       "    }\n",
       "\n",
       "    .dataframe thead th {\n",
       "        text-align: right;\n",
       "    }\n",
       "</style>\n",
       "<table border=\"1\" class=\"dataframe\">\n",
       "  <thead>\n",
       "    <tr style=\"text-align: right;\">\n",
       "      <th></th>\n",
       "      <th>rec_id_1</th>\n",
       "      <th>given_name_a</th>\n",
       "      <th>surname_a</th>\n",
       "      <th>street_number</th>\n",
       "      <th>street_address</th>\n",
       "      <th>postcode</th>\n",
       "      <th>state</th>\n",
       "      <th>rec_id_2</th>\n",
       "      <th>given_name_b</th>\n",
       "      <th>surname_b</th>\n",
       "      <th>suburb</th>\n",
       "      <th>address_form</th>\n",
       "      <th>metadata</th>\n",
       "      <th>metadata_trustworthiness</th>\n",
       "      <th>metadata_log</th>\n",
       "    </tr>\n",
       "  </thead>\n",
       "  <tbody>\n",
       "    <tr>\n",
       "      <th>0</th>\n",
       "      <td>rec-2371-org</td>\n",
       "      <td>michaela</td>\n",
       "      <td>dunstone</td>\n",
       "      <td>37.0</td>\n",
       "      <td>deane street</td>\n",
       "      <td>2065</td>\n",
       "      <td>vic</td>\n",
       "      <td>rec-2371-dup-0</td>\n",
       "      <td>michaela</td>\n",
       "      <td>dunstone</td>\n",
       "      <td>woodcroft</td>\n",
       "      <td>37 deane street 2065 vic</td>\n",
       "      <td>True</td>\n",
       "      <td>0.999852</td>\n",
       "      <td>True</td>\n",
       "    </tr>\n",
       "    <tr>\n",
       "      <th>1998</th>\n",
       "      <td>rec-1350-org</td>\n",
       "      <td>james</td>\n",
       "      <td>reid</td>\n",
       "      <td>30.0</td>\n",
       "      <td>snodgrass crescent</td>\n",
       "      <td>2261</td>\n",
       "      <td>qld</td>\n",
       "      <td>rec-1350-dup-0</td>\n",
       "      <td>james</td>\n",
       "      <td>reid</td>\n",
       "      <td>belmont</td>\n",
       "      <td>30 snodgrass crescent 2261 qld belmont Once again, I live at: 30 snodgrass crescent 2261 qld belmont</td>\n",
       "      <td>True</td>\n",
       "      <td>0.999852</td>\n",
       "      <td>True</td>\n",
       "    </tr>\n",
       "    <tr>\n",
       "      <th>1898</th>\n",
       "      <td>rec-4937-org</td>\n",
       "      <td>chelsea</td>\n",
       "      <td>blake</td>\n",
       "      <td>21.0</td>\n",
       "      <td>chandler street</td>\n",
       "      <td>2360</td>\n",
       "      <td>nsw</td>\n",
       "      <td>rec-4937-dup-0</td>\n",
       "      <td>chelsea</td>\n",
       "      <td>blake</td>\n",
       "      <td>swan hill</td>\n",
       "      <td>my current address is 21 chandler street swan hill 2306</td>\n",
       "      <td>True</td>\n",
       "      <td>0.999852</td>\n",
       "      <td>True</td>\n",
       "    </tr>\n",
       "    <tr>\n",
       "      <th>1899</th>\n",
       "      <td>rec-3491-org</td>\n",
       "      <td>chelsea</td>\n",
       "      <td>malcolmson</td>\n",
       "      <td>12.0</td>\n",
       "      <td>chalker circuit</td>\n",
       "      <td>6233</td>\n",
       "      <td>vic</td>\n",
       "      <td>rec-3491-dup-0</td>\n",
       "      <td>chelsea</td>\n",
       "      <td>malcolmson</td>\n",
       "      <td>moonah west</td>\n",
       "      <td>12 chalker circuit 6233 vkc moonah west Once again, I live at: 12 chalker circuit 6233 vkc moonah west</td>\n",
       "      <td>True</td>\n",
       "      <td>0.999852</td>\n",
       "      <td>True</td>\n",
       "    </tr>\n",
       "    <tr>\n",
       "      <th>1901</th>\n",
       "      <td>rec-967-org</td>\n",
       "      <td>chelsea</td>\n",
       "      <td>miles</td>\n",
       "      <td>23.0</td>\n",
       "      <td>illawarra court</td>\n",
       "      <td>2230</td>\n",
       "      <td>qld</td>\n",
       "      <td>rec-967-dup-0</td>\n",
       "      <td>chelsea</td>\n",
       "      <td>miles</td>\n",
       "      <td>greensborough</td>\n",
       "      <td>23 illawarra court 2204 qld greensborough</td>\n",
       "      <td>True</td>\n",
       "      <td>0.999852</td>\n",
       "      <td>True</td>\n",
       "    </tr>\n",
       "  </tbody>\n",
       "</table>\n",
       "</div>"
      ],
      "text/plain": [
       "          rec_id_1 given_name_a   surname_a  street_number  \\\n",
       "0     rec-2371-org     michaela    dunstone           37.0   \n",
       "1998  rec-1350-org        james        reid           30.0   \n",
       "1898  rec-4937-org      chelsea       blake           21.0   \n",
       "1899  rec-3491-org      chelsea  malcolmson           12.0   \n",
       "1901   rec-967-org      chelsea       miles           23.0   \n",
       "\n",
       "          street_address  postcode state        rec_id_2 given_name_b  \\\n",
       "0           deane street      2065   vic  rec-2371-dup-0     michaela   \n",
       "1998  snodgrass crescent      2261   qld  rec-1350-dup-0        james   \n",
       "1898     chandler street      2360   nsw  rec-4937-dup-0      chelsea   \n",
       "1899     chalker circuit      6233   vic  rec-3491-dup-0      chelsea   \n",
       "1901     illawarra court      2230   qld   rec-967-dup-0      chelsea   \n",
       "\n",
       "       surname_b         suburb  \\\n",
       "0       dunstone      woodcroft   \n",
       "1998        reid        belmont   \n",
       "1898       blake      swan hill   \n",
       "1899  malcolmson    moonah west   \n",
       "1901       miles  greensborough   \n",
       "\n",
       "                                                                                                 address_form  \\\n",
       "0                                                                                   37 deane street 2065 vic    \n",
       "1998    30 snodgrass crescent 2261 qld belmont Once again, I live at: 30 snodgrass crescent 2261 qld belmont    \n",
       "1898                                                my current address is 21 chandler street swan hill 2306     \n",
       "1899  12 chalker circuit 6233 vkc moonah west Once again, I live at: 12 chalker circuit 6233 vkc moonah west    \n",
       "1901                                                               23 illawarra court 2204 qld greensborough    \n",
       "\n",
       "     metadata  metadata_trustworthiness metadata_log  \n",
       "0        True                  0.999852         True  \n",
       "1998     True                  0.999852         True  \n",
       "1898     True                  0.999852         True  \n",
       "1899     True                  0.999852         True  \n",
       "1901     True                  0.999852         True  "
      ]
     },
     "execution_count": 28,
     "metadata": {},
     "output_type": "execute_result"
    }
   ],
   "source": [
    "high_confidence_matches_df = sorted_enriched_df.query(\"metadata == 'True' and metadata_trustworthiness >= 0.95\")\n",
    "high_confidence_matches_df.head()"
   ]
  },
  {
   "cell_type": "code",
   "execution_count": 29,
   "id": "3093a47f-d6c5-4f3d-8010-ffc1309287db",
   "metadata": {},
   "outputs": [
    {
     "name": "stdout",
     "output_type": "stream",
     "text": [
      "(2138, 15)\n"
     ]
    }
   ],
   "source": [
    "print(high_confidence_matches_df.shape)"
   ]
  },
  {
   "cell_type": "markdown",
   "id": "2d2870b0-67b3-46dc-84b3-34b40705781e",
   "metadata": {},
   "source": [
    "## Performance Evaluation"
   ]
  },
  {
   "cell_type": "markdown",
   "id": "2b986bd9-48fe-4a82-81a2-461139b2fd3d",
   "metadata": {},
   "source": [
    "As seen above, we already have shown the sets of predicted matches using our approaches of blocking, fuzzy string-matching, and Cleanlab's Data Enrichment on `Table A` and `Table B`. Those predicted matches are the end result of our approach, so the process of calculating potential record matches ends there.\n",
    "\n",
    "We will now see why this is a good workflow (to achieve high accuracy in record matching) by first showing how to evaluate our performance of record matching. This section is specific to this tutorial and you may not be able to evaluate performance like this in your own applications. Here we happen to know the ground-truth set of matches, so we can evaluate how good our predicted set of matches actually is.\n",
    "\n",
    "Now we will download and load the set of ground-truth matches (`true_links`) that we will use to evaluate record matching accuracy. Once again, this kind of information will not available for most use cases. The `true_links` are 1:1 matches of a record ID `rec-n-org` for indices ranging from 0 <= n <= 4999 and its corresponding ground truth record `rec-n-dup-0` also for indices ranging from 0 <= n <= 4999 as seen in the following steps."
   ]
  },
  {
   "cell_type": "code",
   "execution_count": 19,
   "id": "56469a72-abdb-458d-bc02-e552f676734d",
   "metadata": {},
   "outputs": [],
   "source": [
    "!wget -nc https://cleanlab-public.s3.amazonaws.com/Datasets/recordlinkage_data/recordlinkage_true_links.csv"
   ]
  },
  {
   "cell_type": "markdown",
   "id": "ba3a530b-1242-4f89-b3b3-8052edffc6b3",
   "metadata": {},
   "source": [
    "For the ground truth matches below, we'll use the multi-index directly which contains the correct pair of records for each match:"
   ]
  },
  {
   "cell_type": "code",
   "execution_count": 30,
   "id": "b29907ef-4e9f-4e6b-aba3-b1f64ab70ee8",
   "metadata": {},
   "outputs": [
    {
     "data": {
      "text/plain": [
       "MultiIndex([(   'rec-0-org',    'rec-0-dup-0'),\n",
       "            (   'rec-1-org',    'rec-1-dup-0'),\n",
       "            (   'rec-2-org',    'rec-2-dup-0'),\n",
       "            (   'rec-3-org',    'rec-3-dup-0'),\n",
       "            (   'rec-4-org',    'rec-4-dup-0'),\n",
       "            (   'rec-5-org',    'rec-5-dup-0'),\n",
       "            (   'rec-6-org',    'rec-6-dup-0'),\n",
       "            (   'rec-7-org',    'rec-7-dup-0'),\n",
       "            (   'rec-8-org',    'rec-8-dup-0'),\n",
       "            (   'rec-9-org',    'rec-9-dup-0'),\n",
       "            ...\n",
       "            ('rec-4990-org', 'rec-4990-dup-0'),\n",
       "            ('rec-4991-org', 'rec-4991-dup-0'),\n",
       "            ('rec-4992-org', 'rec-4992-dup-0'),\n",
       "            ('rec-4993-org', 'rec-4993-dup-0'),\n",
       "            ('rec-4994-org', 'rec-4994-dup-0'),\n",
       "            ('rec-4995-org', 'rec-4995-dup-0'),\n",
       "            ('rec-4996-org', 'rec-4996-dup-0'),\n",
       "            ('rec-4997-org', 'rec-4997-dup-0'),\n",
       "            ('rec-4998-org', 'rec-4998-dup-0'),\n",
       "            ('rec-4999-org', 'rec-4999-dup-0')],\n",
       "           length=5000)"
      ]
     },
     "execution_count": 30,
     "metadata": {},
     "output_type": "execute_result"
    }
   ],
   "source": [
    "# Load in ground-truth set of matches\n",
    "true_links = pd.read_csv(\"recordlinkage_true_links.csv\").set_index(['Unnamed: 0', 'Unnamed: 1']).index.set_names([None, None])\n",
    "true_links"
   ]
  },
  {
   "cell_type": "markdown",
   "id": "a6a6d06a-feb3-4d8c-bf4b-9d4c54c35729",
   "metadata": {},
   "source": [
    "Now let's calculate the accuracy of our record matching approach from the predicted matches using Cleanlab's Data Enrichment against our ground-truth matches."
   ]
  },
  {
   "cell_type": "code",
   "execution_count": 31,
   "id": "1807286e-92c8-400a-84cd-9e3136d39b37",
   "metadata": {},
   "outputs": [],
   "source": [
    "# Obtain only record id columns \n",
    "de_matches = high_confidence_matches_df.reset_index()[['rec_id_1', 'rec_id_2']]"
   ]
  },
  {
   "cell_type": "code",
   "execution_count": 32,
   "id": "af178d28-5bce-4a24-b31d-689a117c96f1",
   "metadata": {},
   "outputs": [],
   "source": [
    "# Convert predicted matches to MultiIndex\n",
    "de_predicted_links = pd.MultiIndex.from_frame(de_matches)"
   ]
  },
  {
   "cell_type": "code",
   "execution_count": 1,
   "id": "57e37837-ccb2-496a-8ce8-89625dee14a2",
   "metadata": {},
   "outputs": [
    {
     "name": "stdout",
     "output_type": "stream",
     "text": [
      "Cleanlab Precision: 0.99\n",
      "Cleanlab Recall: 0.42\n",
      "Cleanlab F1-Score: 0.59\n"
     ]
    }
   ],
   "source": [
    "# Evaluate using the recordlinkage library's evaluation functions\n",
    "de_precision = recordlinkage.precision(true_links, de_predicted_links)\n",
    "de_recall = recordlinkage.recall(true_links, de_predicted_links)\n",
    "de_fscore = recordlinkage.fscore(true_links, de_predicted_links)\n",
    "\n",
    "# Print the metrics\n",
    "print(f\"Cleanlab Precision: {de_precision:.2f}\")\n",
    "print(f\"Cleanlab Recall: {de_recall:.2f}\")\n",
    "print(f\"Cleanlab F1-Score: {de_fscore:.2f}\")"
   ]
  },
  {
   "cell_type": "markdown",
   "id": "bba18026-fa2d-4ca7-982b-518b4e430d60",
   "metadata": {},
   "source": [
    "## Another round of fuzzy string matching\n",
    "\n",
    "We now have created a set of possible matches with `df_possible_matches` so far using blocking + fuzzy string matching, obtained our set of high confidence matches (`high_confidence_matches_df`) via Cleanlab's Data Enrichment, and evaluated the performance of Cleanlab's Data Enrichment for record matching against ground-truth matches (that you have available in this tutorial but likely do not have available in practice).\n",
    "\n",
    "Now, to get a similar number of predicted matches as from Cleanlab's Data Enrichment approach (to enable fair comparison), we will run another round of additional fuzzy string matching to find a more curated set of possible matches that can be compared to the possible matches found through Data Enrichment.\n",
    "\n",
    "We use a `filter_threshold` of 0.99 (on using fuzzy string matching with the `surname` column) to find this curated set that is closer to the number of matches found through Data Enrichment. "
   ]
  },
  {
   "cell_type": "code",
   "execution_count": 34,
   "id": "1ad86c27-fe24-4886-b77a-aceb912d7ce0",
   "metadata": {},
   "outputs": [
    {
     "name": "stdout",
     "output_type": "stream",
     "text": [
      "Number of matches after additional fuzzy string matching: 2574\n"
     ]
    }
   ],
   "source": [
    "filter_threshold = 0.99  # Threshold of similarity for fuzzy string matching\n",
    "\n",
    "# Apply fuzzy string matching using recordlinkage.Compare on possible matches\n",
    "df_A = df_possible_matches[['rec_id_1', 'surname_a']].copy().rename(columns={'rec_id_1': 'rec_id', 'surname_a': 'surname'})\n",
    "df_B = df_possible_matches[['rec_id_2', 'surname_b']].copy().rename(columns={'rec_id_2': 'rec_id', 'surname_b': 'surname'})\n",
    "\n",
    "# Create a new index based on the current df_possible_matches\n",
    "candidate_links_possible = pd.MultiIndex.from_arrays([df_A.index, df_B.index])\n",
    "\n",
    "compare_cl = recordlinkage.Compare()\n",
    "compare_cl.string('surname', 'surname', method='jarowinkler', threshold=filter_threshold, label='surname')\n",
    "\n",
    "# Compute features for possible matches\n",
    "features_possible = compare_cl.compute(candidate_links_possible, df_A, df_B)\n",
    "\n",
    "# Filter matches based on the fuzzy string matching\n",
    "matches_possible = features_possible[features_possible.sum(axis=1) >= 1]\n",
    "\n",
    "print(f\"Number of matches after additional fuzzy string matching: {len(matches_possible)}\")\n",
    "\n",
    "# Convert matches to a DataFrame\n",
    "matches_df_possible = matches_possible.index.to_frame(index=False)\n",
    "\n",
    "# Ensure the indices are correctly mapped to the original rec_ids\n",
    "matches_df_possible['rec_id_1'] = df_possible_matches.loc[matches_df_possible[0], 'rec_id_1'].values\n",
    "matches_df_possible['rec_id_2'] = df_possible_matches.loc[matches_df_possible[1], 'rec_id_2'].values"
   ]
  },
  {
   "cell_type": "code",
   "execution_count": 35,
   "id": "a3321347-5d0e-449b-8fe5-a4cbf47b3066",
   "metadata": {},
   "outputs": [
    {
     "data": {
      "text/html": [
       "<div>\n",
       "<style scoped>\n",
       "    .dataframe tbody tr th:only-of-type {\n",
       "        vertical-align: middle;\n",
       "    }\n",
       "\n",
       "    .dataframe tbody tr th {\n",
       "        vertical-align: top;\n",
       "    }\n",
       "\n",
       "    .dataframe thead th {\n",
       "        text-align: right;\n",
       "    }\n",
       "</style>\n",
       "<table border=\"1\" class=\"dataframe\">\n",
       "  <thead>\n",
       "    <tr style=\"text-align: right;\">\n",
       "      <th></th>\n",
       "      <th>rec_id_1</th>\n",
       "      <th>rec_id_2</th>\n",
       "    </tr>\n",
       "  </thead>\n",
       "  <tbody>\n",
       "    <tr>\n",
       "      <th>0</th>\n",
       "      <td>rec-2371-org</td>\n",
       "      <td>rec-2371-dup-0</td>\n",
       "    </tr>\n",
       "    <tr>\n",
       "      <th>1</th>\n",
       "      <td>rec-4652-org</td>\n",
       "      <td>rec-4652-dup-0</td>\n",
       "    </tr>\n",
       "    <tr>\n",
       "      <th>2</th>\n",
       "      <td>rec-4795-org</td>\n",
       "      <td>rec-4795-dup-0</td>\n",
       "    </tr>\n",
       "    <tr>\n",
       "      <th>3</th>\n",
       "      <td>rec-1016-org</td>\n",
       "      <td>rec-1016-dup-0</td>\n",
       "    </tr>\n",
       "    <tr>\n",
       "      <th>4</th>\n",
       "      <td>rec-2463-org</td>\n",
       "      <td>rec-2463-dup-0</td>\n",
       "    </tr>\n",
       "  </tbody>\n",
       "</table>\n",
       "</div>"
      ],
      "text/plain": [
       "       rec_id_1        rec_id_2\n",
       "0  rec-2371-org  rec-2371-dup-0\n",
       "1  rec-4652-org  rec-4652-dup-0\n",
       "2  rec-4795-org  rec-4795-dup-0\n",
       "3  rec-1016-org  rec-1016-dup-0\n",
       "4  rec-2463-org  rec-2463-dup-0"
      ]
     },
     "execution_count": 35,
     "metadata": {},
     "output_type": "execute_result"
    }
   ],
   "source": [
    "predicted_matches = matches_df_possible.reset_index()[['rec_id_1', 'rec_id_2']]\n",
    "predicted_matches.head()"
   ]
  },
  {
   "cell_type": "code",
   "execution_count": 36,
   "id": "cb879237-d3d4-481e-a59d-f0cdbddbaa36",
   "metadata": {},
   "outputs": [],
   "source": [
    "# Convert predicted matches to MultiIndex\n",
    "predicted_links = pd.MultiIndex.from_frame(predicted_matches)"
   ]
  },
  {
   "cell_type": "markdown",
   "id": "28c127be-5136-4177-90e3-d4488d06732c",
   "metadata": {},
   "source": [
    "### Compare Data Enrichment accuracy to fuzzy string matching accuracy for record matching"
   ]
  },
  {
   "cell_type": "code",
   "execution_count": 37,
   "id": "f715808d-5650-4543-b848-42c5ddf7c96a",
   "metadata": {},
   "outputs": [],
   "source": [
    "subset_predicted_links = predicted_links[:high_confidence_matches_df.shape[0]]"
   ]
  },
  {
   "cell_type": "code",
   "execution_count": 2,
   "id": "151228c6-9043-4e1e-828b-21cb0fa2554c",
   "metadata": {},
   "outputs": [
    {
     "name": "stdout",
     "output_type": "stream",
     "text": [
      "Additional Fuzzy String Filter Precision: 0.89\n",
      "Additional Fuzzy String Filter Recall: 0.38\n",
      "Additional Fuzzy String Filter F1-Score: 0.53\n"
     ]
    }
   ],
   "source": [
    "# Evaluate using the recordlinkage library's evaluation functions\n",
    "precision = recordlinkage.precision(true_links, subset_predicted_links)\n",
    "recall = recordlinkage.recall(true_links, subset_predicted_links)\n",
    "fscore = recordlinkage.fscore(true_links, subset_predicted_links)\n",
    "\n",
    "# Print the metrics\n",
    "print(f\"Additional Fuzzy String Filter Precision: {precision:.2f}\")\n",
    "print(f\"Additional Fuzzy String Filter Recall: {recall:.2f}\")\n",
    "print(f\"Additional Fuzzy String Filter F1-Score: {fscore:.2f}\")"
   ]
  },
  {
   "cell_type": "markdown",
   "id": "7528fc13-0ae6-4b6c-b05c-8d29a2ad5998",
   "metadata": {},
   "source": [
    "We can see that the performance metrics are better across the board when using Cleanlab's Data Enrichment compared to blocking + fuzzy string matching.\n",
    "\n",
    "To summarize, **Cleanlab's Data Enrichment allows you to boost the recall of your record matching, while meeting precision requirements that you’d otherwise have to apply overly stringent blocking and string-similarity-thresholds to meet.**"
   ]
  }
 ],
 "metadata": {
  "kernelspec": {
   "display_name": "mturk-env",
   "language": "python",
   "name": "mturk-env"
  },
  "language_info": {
   "codemirror_mode": {
    "name": "ipython",
    "version": 3
   },
   "file_extension": ".py",
   "mimetype": "text/x-python",
   "name": "python",
   "nbconvert_exporter": "python",
   "pygments_lexer": "ipython3",
   "version": "3.11.9"
  }
 },
 "nbformat": 4,
 "nbformat_minor": 5
}
