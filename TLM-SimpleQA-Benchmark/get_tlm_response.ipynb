{
 "cells": [
  {
   "cell_type": "markdown",
   "id": "cf3ab210-ed11-4500-b829-18a44402fcc6",
   "metadata": {},
   "source": [
    "# Obtaining TLM Responses for SimpleQA Dataset"
   ]
  },
  {
   "cell_type": "code",
   "execution_count": null,
   "id": "4c0d1617",
   "metadata": {},
   "outputs": [],
   "source": [
    "# Set your API key\n",
    "import os\n",
    "os.environ[\"CLEANLAB_TLM_API_KEY\"] = \"<API key>\"  # Get your API key from: https://tlm.cleanlab.ai/"
   ]
  },
  {
   "cell_type": "code",
   "execution_count": 1,
   "id": "cf73e3c8-b9e9-4b78-bdf1-0d6a28a27bc9",
   "metadata": {},
   "outputs": [],
   "source": [
    "import pandas as pd\n",
    "from cleanlab_tlm import TLM"
   ]
  },
  {
   "cell_type": "code",
   "execution_count": 2,
   "id": "6165fafc-48a5-4fc8-a207-c0738fed6ea0",
   "metadata": {
    "scrolled": true
   },
   "outputs": [
    {
     "data": {
      "text/html": [
       "<div>\n",
       "<style scoped>\n",
       "    .dataframe tbody tr th:only-of-type {\n",
       "        vertical-align: middle;\n",
       "    }\n",
       "\n",
       "    .dataframe tbody tr th {\n",
       "        vertical-align: top;\n",
       "    }\n",
       "\n",
       "    .dataframe thead th {\n",
       "        text-align: right;\n",
       "    }\n",
       "</style>\n",
       "<table border=\"1\" class=\"dataframe\">\n",
       "  <thead>\n",
       "    <tr style=\"text-align: right;\">\n",
       "      <th></th>\n",
       "      <th>metadata</th>\n",
       "      <th>problem</th>\n",
       "      <th>answer</th>\n",
       "    </tr>\n",
       "  </thead>\n",
       "  <tbody>\n",
       "    <tr>\n",
       "      <th>0</th>\n",
       "      <td>{'topic': 'Science and technology', 'answer_ty...</td>\n",
       "      <td>Who received the IEEE Frank Rosenblatt Award i...</td>\n",
       "      <td>Michio Sugeno</td>\n",
       "    </tr>\n",
       "    <tr>\n",
       "      <th>1</th>\n",
       "      <td>{'topic': 'Science and technology', 'answer_ty...</td>\n",
       "      <td>Who was awarded the Oceanography Society's Jer...</td>\n",
       "      <td>Annick Bricaud</td>\n",
       "    </tr>\n",
       "    <tr>\n",
       "      <th>2</th>\n",
       "      <td>{'topic': 'Geography', 'answer_type': 'Place',...</td>\n",
       "      <td>What's the name of the women's liberal arts co...</td>\n",
       "      <td>Radcliffe College</td>\n",
       "    </tr>\n",
       "    <tr>\n",
       "      <th>3</th>\n",
       "      <td>{'topic': 'Sports', 'answer_type': 'Person', '...</td>\n",
       "      <td>In whose honor was the Leipzig 1877 tournament...</td>\n",
       "      <td>Adolf Anderssen</td>\n",
       "    </tr>\n",
       "    <tr>\n",
       "      <th>4</th>\n",
       "      <td>{'topic': 'Art', 'answer_type': 'Person', 'url...</td>\n",
       "      <td>According to Karl Küchler, what did Empress El...</td>\n",
       "      <td>Poet Henrich Heine.</td>\n",
       "    </tr>\n",
       "  </tbody>\n",
       "</table>\n",
       "</div>"
      ],
      "text/plain": [
       "                                            metadata  \\\n",
       "0  {'topic': 'Science and technology', 'answer_ty...   \n",
       "1  {'topic': 'Science and technology', 'answer_ty...   \n",
       "2  {'topic': 'Geography', 'answer_type': 'Place',...   \n",
       "3  {'topic': 'Sports', 'answer_type': 'Person', '...   \n",
       "4  {'topic': 'Art', 'answer_type': 'Person', 'url...   \n",
       "\n",
       "                                             problem               answer  \n",
       "0  Who received the IEEE Frank Rosenblatt Award i...        Michio Sugeno  \n",
       "1  Who was awarded the Oceanography Society's Jer...       Annick Bricaud  \n",
       "2  What's the name of the women's liberal arts co...    Radcliffe College  \n",
       "3  In whose honor was the Leipzig 1877 tournament...      Adolf Anderssen  \n",
       "4  According to Karl Küchler, what did Empress El...  Poet Henrich Heine.  "
      ]
     },
     "execution_count": 2,
     "metadata": {},
     "output_type": "execute_result"
    }
   ],
   "source": [
    "url = \"https://openaipublic.blob.core.windows.net/simple-evals/simple_qa_test_set.csv\"\n",
    "data = pd.read_csv(url)\n",
    "data.head()"
   ]
  },
  {
   "cell_type": "markdown",
   "id": "6001f900-f40c-493d-9dd6-e2952c6e8481",
   "metadata": {},
   "source": [
    "## Prompt TLM\n",
    "Using TLM on `medium` quality preset is the same as directly querying OpenAI for responses, but also returns a trustworthiness score."
   ]
  },
  {
   "cell_type": "code",
   "execution_count": 4,
   "id": "b472a5e4-feb2-47cc-bfc6-aa76fb0a6296",
   "metadata": {},
   "outputs": [
    {
     "name": "stderr",
     "output_type": "stream",
     "text": [
      "Querying TLM... 100%|████████████████████████████████████████████████████████████████████████████████████████████████████████████████████████|\n"
     ]
    }
   ],
   "source": [
    "tlm = TLM(\"medium\", options={\"model\": \"gpt-4o\"})\n",
    "tlm_results = tlm.try_prompt(data[\"problem\"].tolist())"
   ]
  },
  {
   "cell_type": "code",
   "execution_count": 5,
   "id": "789a0d32-646a-4070-9c68-0c48a0b056af",
   "metadata": {},
   "outputs": [
    {
     "data": {
      "text/html": [
       "<div>\n",
       "<style scoped>\n",
       "    .dataframe tbody tr th:only-of-type {\n",
       "        vertical-align: middle;\n",
       "    }\n",
       "\n",
       "    .dataframe tbody tr th {\n",
       "        vertical-align: top;\n",
       "    }\n",
       "\n",
       "    .dataframe thead th {\n",
       "        text-align: right;\n",
       "    }\n",
       "</style>\n",
       "<table border=\"1\" class=\"dataframe\">\n",
       "  <thead>\n",
       "    <tr style=\"text-align: right;\">\n",
       "      <th></th>\n",
       "      <th>metadata</th>\n",
       "      <th>problem</th>\n",
       "      <th>answer</th>\n",
       "      <th>response</th>\n",
       "      <th>trustworthiness_score</th>\n",
       "    </tr>\n",
       "  </thead>\n",
       "  <tbody>\n",
       "    <tr>\n",
       "      <th>0</th>\n",
       "      <td>{'topic': 'Science and technology', 'answer_ty...</td>\n",
       "      <td>Who received the IEEE Frank Rosenblatt Award i...</td>\n",
       "      <td>Michio Sugeno</td>\n",
       "      <td>The IEEE Frank Rosenblatt Award was establishe...</td>\n",
       "      <td>0.597950</td>\n",
       "    </tr>\n",
       "    <tr>\n",
       "      <th>1</th>\n",
       "      <td>{'topic': 'Science and technology', 'answer_ty...</td>\n",
       "      <td>Who was awarded the Oceanography Society's Jer...</td>\n",
       "      <td>Annick Bricaud</td>\n",
       "      <td>In 2018, the Oceanography Society's Jerlov Awa...</td>\n",
       "      <td>0.275720</td>\n",
       "    </tr>\n",
       "    <tr>\n",
       "      <th>2</th>\n",
       "      <td>{'topic': 'Geography', 'answer_type': 'Place',...</td>\n",
       "      <td>What's the name of the women's liberal arts co...</td>\n",
       "      <td>Radcliffe College</td>\n",
       "      <td>The women's liberal arts college in Cambridge,...</td>\n",
       "      <td>0.597658</td>\n",
       "    </tr>\n",
       "    <tr>\n",
       "      <th>3</th>\n",
       "      <td>{'topic': 'Sports', 'answer_type': 'Person', '...</td>\n",
       "      <td>In whose honor was the Leipzig 1877 tournament...</td>\n",
       "      <td>Adolf Anderssen</td>\n",
       "      <td>The Leipzig 1877 chess tournament was organize...</td>\n",
       "      <td>0.352430</td>\n",
       "    </tr>\n",
       "    <tr>\n",
       "      <th>4</th>\n",
       "      <td>{'topic': 'Art', 'answer_type': 'Person', 'url...</td>\n",
       "      <td>According to Karl Küchler, what did Empress El...</td>\n",
       "      <td>Poet Henrich Heine.</td>\n",
       "      <td>Empress Elizabeth of Austria's favorite sculpt...</td>\n",
       "      <td>0.970854</td>\n",
       "    </tr>\n",
       "  </tbody>\n",
       "</table>\n",
       "</div>"
      ],
      "text/plain": [
       "                                            metadata  \\\n",
       "0  {'topic': 'Science and technology', 'answer_ty...   \n",
       "1  {'topic': 'Science and technology', 'answer_ty...   \n",
       "2  {'topic': 'Geography', 'answer_type': 'Place',...   \n",
       "3  {'topic': 'Sports', 'answer_type': 'Person', '...   \n",
       "4  {'topic': 'Art', 'answer_type': 'Person', 'url...   \n",
       "\n",
       "                                             problem               answer  \\\n",
       "0  Who received the IEEE Frank Rosenblatt Award i...        Michio Sugeno   \n",
       "1  Who was awarded the Oceanography Society's Jer...       Annick Bricaud   \n",
       "2  What's the name of the women's liberal arts co...    Radcliffe College   \n",
       "3  In whose honor was the Leipzig 1877 tournament...      Adolf Anderssen   \n",
       "4  According to Karl Küchler, what did Empress El...  Poet Henrich Heine.   \n",
       "\n",
       "                                            response  trustworthiness_score  \n",
       "0  The IEEE Frank Rosenblatt Award was establishe...               0.597950  \n",
       "1  In 2018, the Oceanography Society's Jerlov Awa...               0.275720  \n",
       "2  The women's liberal arts college in Cambridge,...               0.597658  \n",
       "3  The Leipzig 1877 chess tournament was organize...               0.352430  \n",
       "4  Empress Elizabeth of Austria's favorite sculpt...               0.970854  "
      ]
     },
     "execution_count": 5,
     "metadata": {},
     "output_type": "execute_result"
    }
   ],
   "source": [
    "results_df = pd.concat([data, pd.DataFrame(tlm_results)], axis=1)\n",
    "results_df.head()"
   ]
  },
  {
   "cell_type": "code",
   "execution_count": 6,
   "id": "189b222f-6957-461f-8aa2-83a6796b2301",
   "metadata": {},
   "outputs": [],
   "source": [
    "results_df.to_csv(\"results/gpt-4o-baseline-responses.csv\", index=None)"
   ]
  },
  {
   "cell_type": "markdown",
   "id": "4d31d0a1-ad15-4a11-a9cc-12398adade26",
   "metadata": {},
   "source": [
    "## Filter results using TLM Trustworthiness Score"
   ]
  },
  {
   "cell_type": "code",
   "execution_count": 7,
   "id": "a92a3bf1-b3e2-4d99-aeab-241edc9fe0ed",
   "metadata": {},
   "outputs": [],
   "source": [
    "def filter_responses(results_df, threshold):\n",
    "    filtered_results = results_df.copy()\n",
    "    filter_idx = filtered_results[filtered_results[\"trustworthiness_score\"] < threshold].index\n",
    "    filtered_results.loc[filter_idx, \"response\"] = \"I'm sorry, I don’t know the answer to that question.\"\n",
    "\n",
    "    return filtered_results"
   ]
  },
  {
   "cell_type": "code",
   "execution_count": 8,
   "id": "c3621820-5f4a-48fb-88a1-4796c92df9bb",
   "metadata": {},
   "outputs": [],
   "source": [
    "# filter results at threshold = 0.25\n",
    "filter_25 = filter_responses(results_df, 0.25)\n",
    "\n",
    "# filter results at threshold = 0.8\n",
    "filter_80 = filter_responses(results_df, 0.8)\n",
    "\n",
    "filter_25.to_csv(\"results/gpt-4o-baseline-25-responses.csv\", index=None)\n",
    "filter_80.to_csv(\"results/gpt-4o-baseline-80-responses.csv\", index=None)"
   ]
  },
  {
   "cell_type": "markdown",
   "id": "6af9950d-082e-4a0f-8412-635b9e927fa5",
   "metadata": {},
   "source": [
    "## Repeat the same process for `best` quality preset\n",
    "Using TLM on `best` quality preset improves the LLM responses."
   ]
  },
  {
   "cell_type": "code",
   "execution_count": 9,
   "id": "79fe3fb8-0ae4-4e61-8e34-e43e682d1917",
   "metadata": {},
   "outputs": [
    {
     "name": "stderr",
     "output_type": "stream",
     "text": [
      "Querying TLM... 100%|████████████████████████████████████████████████████████████████████████████████████████████████████████████████████████|\n"
     ]
    }
   ],
   "source": [
    "tlm_best = TLM(\"best\", options={\"model\": \"gpt-4o\"})\n",
    "tlm_best_results = tlm_best.try_prompt(data[\"problem\"].tolist())\n",
    "\n",
    "results_best_df = pd.concat([data, pd.DataFrame(tlm_best_results)], axis=1)\n",
    "results_best_df.to_csv(\"results/gpt-4o-best-responses.csv\", index=None)"
   ]
  },
  {
   "cell_type": "code",
   "execution_count": 10,
   "id": "71ae8069-117b-4fa1-9ac1-34e189d54bc8",
   "metadata": {},
   "outputs": [],
   "source": [
    "# filter results at threshold = 0.25\n",
    "filter_best_25 = filter_responses(results_best_df, 0.25)\n",
    "\n",
    "# filter results at threshold = 0.8\n",
    "filter_best_80 = filter_responses(results_best_df, 0.8)\n",
    "\n",
    "filter_best_25.to_csv(\"results/gpt-4o-best-25-responses.csv\", index=None)\n",
    "filter_best_80.to_csv(\"results/gpt-4o-best-80-responses.csv\", index=None)"
   ]
  }
 ],
 "metadata": {
  "kernelspec": {
   "display_name": "Python 3 (ipykernel)",
   "language": "python",
   "name": "python3"
  },
  "language_info": {
   "codemirror_mode": {
    "name": "ipython",
    "version": 3
   },
   "file_extension": ".py",
   "mimetype": "text/x-python",
   "name": "python",
   "nbconvert_exporter": "python",
   "pygments_lexer": "ipython3",
   "version": "3.10.14"
  }
 },
 "nbformat": 4,
 "nbformat_minor": 5
}
