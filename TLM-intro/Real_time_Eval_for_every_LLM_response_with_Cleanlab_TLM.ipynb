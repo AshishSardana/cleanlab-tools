{
  "cells": [
    {
      "cell_type": "markdown",
      "source": [
        "Install Cleanlab"
      ],
      "metadata": {
        "id": "9L_hSZ2zOWWP"
      }
    },
    {
      "cell_type": "code",
      "source": [
        "%pip install --upgrade cleanlab-studio"
      ],
      "metadata": {
        "id": "_V8qJHRTJdBW"
      },
      "execution_count": null,
      "outputs": []
    },
    {
      "cell_type": "code",
      "source": [
        "from cleanlab_studio import Studio\n",
        "\n",
        "studio = Studio(\"<YOUR_API_KEY>\")  # Get your API key from https://tlm.cleanlab.ai\n",
        "\n",
        "tlm = studio.TLM(options={\"log\": [\"explanation\"]})\n",
        "\n",
        "# Use TLM like GPT (with more accurate results). Returns response, trustworthiness score, explanation\n",
        "out = tlm.prompt(\"What's the third month of the year alphabetically?\")\n",
        "print(out['response'], \"\\n\")\n",
        "print(out['log']['explanation'], \"\\n\")"
      ],
      "metadata": {
        "id": "Cwns730hK4a-",
        "outputId": "13632afc-a66b-499c-9ec0-5ee1260f0873",
        "colab": {
          "base_uri": "https://localhost:8080/"
        }
      },
      "execution_count": null,
      "outputs": [
        {
          "output_type": "stream",
          "name": "stdout",
          "text": [
            "The third month of the year alphabetically is \"March.\" The months in alphabetical order are:\n",
            "\n",
            "1. April\n",
            "2. August\n",
            "3. December\n",
            "4. February\n",
            "5. January\n",
            "6. July\n",
            "7. June\n",
            "8. March\n",
            "9. May\n",
            "10. November\n",
            "11. October\n",
            "12. September \n",
            "\n",
            "The answer provided states that \"March\" is the third month of the year alphabetically. However, when listing the months in alphabetical order, \"March\" is actually the eighth month. Therefore,  incorrect. \n",
            "This response is untrustworthy due to lack of consistency in possible responses from the model. Here's one inconsistent alternate response that the model considered (which may not be accurate either): \n",
            "December. \n",
            "\n",
            "{'trustworthiness_score': 0.9997738711822411, 'log': {'explanation': 'Did not find a reason to doubt trustworthiness.'}}\n"
          ]
        }
      ]
    },
    {
      "cell_type": "markdown",
      "source": [
        "## You can also use TLM to score the trustworthiness of any response to a given prompt.\n",
        "Use `tlm.get_trustworthiness_score` which returns a numerical value between 0-1.\n",
        "\n",
        "How to interpret the score:\n",
        " - `1.0 >= trustworthiness > 0.9` -- highly reliable reponse you can fully trust\n",
        " - `0.9 >= trustworthiness > 0.7` -- sometimes a bad retrieval (if RAG), hallucination, or wrong reponse\n",
        " - `0.7 >= trustworthiness > 0.3` -- likely a bad retrieval (if RAG), hallucination, or wrong reponse\n",
        " - `0.3 >= trustworthiness >= 0.0` -- near-always a bad retrieval (if RAG), hallucination, or wrong reponse"
      ],
      "metadata": {
        "id": "uwCJ4aDNLcr8"
      }
    },
    {
      "cell_type": "code",
      "source": [
        "# TLM returns a high score when the LLM/RAG/Agent is accurate\n",
        "trustworthiness_score = tlm.get_trustworthiness_score(\"What's the first month of the year?\", response=\"January\")\n",
        "print(trustworthiness_score)"
      ],
      "metadata": {
        "id": "s1Nx0LxGLbGw",
        "outputId": "ffae34f9-1ef6-4427-d78a-1b16a6c16a1f",
        "colab": {
          "base_uri": "https://localhost:8080/"
        }
      },
      "execution_count": null,
      "outputs": [
        {
          "output_type": "stream",
          "name": "stdout",
          "text": [
            "{'trustworthiness_score': 0.9997738711822411, 'log': {'explanation': 'Did not find a reason to doubt trustworthiness.'}}\n"
          ]
        }
      ]
    },
    {
      "cell_type": "code",
      "source": [
        "# TLM returns a low score when the LLM/RAG/Agent is untrustworthy\n",
        "trustworthiness_score = tlm.get_trustworthiness_score(\"What's the first month of the year?\", response=\"February\")\n",
        "print(trustworthiness_score)"
      ],
      "metadata": {
        "id": "ZTgsT_j8LZqk",
        "outputId": "cd2582e6-5f00-44ab-8828-cc1e20f94b9d",
        "colab": {
          "base_uri": "https://localhost:8080/"
        }
      },
      "execution_count": null,
      "outputs": [
        {
          "output_type": "stream",
          "name": "stdout",
          "text": [
            "{'trustworthiness_score': 0.04739682241488771, 'log': {'explanation': \"The first month of the year is January, not February. Therefore,  factually incorrect. \\nThis response is untrustworthy due to lack of consistency in possible responses from the model. Here's one inconsistent alternate response that the model considered (which may not be accurate either): \\nJanuary.\"}}\n"
          ]
        }
      ]
    }
  ],
  "metadata": {
    "colab": {
      "toc_visible": true,
      "provenance": []
    },
    "kernelspec": {
      "display_name": "Python 3",
      "name": "python3"
    }
  },
  "nbformat": 4,
  "nbformat_minor": 0
}