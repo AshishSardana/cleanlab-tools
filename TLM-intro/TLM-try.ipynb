{
 "cells": [
  {
   "cell_type": "code",
   "execution_count": null,
   "id": "c7be8499",
   "metadata": {},
   "outputs": [],
   "source": [
    "%pip install --upgrade cleanlab-studio"
   ]
  },
  {
   "cell_type": "code",
   "execution_count": null,
   "id": "8b8354d3",
   "metadata": {},
   "outputs": [],
   "source": [
    "from cleanlab_studio import Studio\n",
    "\n",
    "studio = Studio(\"<YOUR_API_KEY_HERE>\")  # Get your API key from https://tlm.cleanlab.ai"
   ]
  },
  {
   "cell_type": "code",
   "execution_count": null,
   "id": "f4722d29",
   "metadata": {},
   "outputs": [],
   "source": [
    "tlm = studio.TLM(options={\"log\": [\"explanation\"]})"
   ]
  },
  {
   "cell_type": "code",
   "execution_count": null,
   "id": "4f22e5c7",
   "metadata": {},
   "outputs": [],
   "source": [
    "# Use TLM like GPT (with more accurate results). Returns response, trustworthiness score, explanation\n",
    "out = tlm.prompt(\"What's the third month of the year alphabetically?\")\n",
    "print(out['response'], \"\\n\")\n",
    "print(out['log']['explanation'], \"\\n\")"
   ]
  },
  {
   "cell_type": "markdown",
   "id": "96441118",
   "metadata": {},
   "source": [
    "You can also use TLM to score the trustworthiness of any response to a given prompt. Returns numerical value between 0-1"
   ]
  },
  {
   "cell_type": "code",
   "execution_count": null,
   "id": "e50dcbd2",
   "metadata": {},
   "outputs": [],
   "source": [
    "# TLM returns a high score when the LLM/RAG/Agent is accurate\n",
    "trustworthiness_score = tlm.get_trustworthiness_score(\"What's the first month of the year?\", response=\"January\")\n",
    "print(trustworthiness_score)"
   ]
  },
  {
   "cell_type": "code",
   "execution_count": null,
   "id": "ac1ae5e1",
   "metadata": {},
   "outputs": [],
   "source": [
    "# TLM returns a low score when the LLM/RAG/Agent is untrustworthy\n",
    "trustworthiness_score = tlm.get_trustworthiness_score(\"What's the first month of the year?\", response=\"February\")\n",
    "print(trustworthiness_score)"
   ]
  }
 ],
 "metadata": {
  "kernelspec": {
   "display_name": "Python 3 (ipykernel)",
   "language": "python",
   "name": "python3"
  },
  "language_info": {
   "codemirror_mode": {
    "name": "ipython",
    "version": 3
   },
   "file_extension": ".py",
   "mimetype": "text/x-python",
   "name": "python",
   "nbconvert_exporter": "python",
   "pygments_lexer": "ipython3",
   "version": "3.9.18"
  }
 },
 "nbformat": 4,
 "nbformat_minor": 5
}
