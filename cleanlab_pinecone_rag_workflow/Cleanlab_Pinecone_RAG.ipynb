{
 "cells": [
  {
   "cell_type": "markdown",
   "id": "075f77c1-3328-4265-b077-160d496eb048",
   "metadata": {},
   "source": [
    "# How to build a reliable, curated, and accurate RAG system using Cleanlab and Pinecone"
   ]
  },
  {
   "cell_type": "code",
   "execution_count": 125,
   "id": "c70303b2-ce6f-4a03-a460-38bd27e8ae9b",
   "metadata": {},
   "outputs": [],
   "source": [
    "import pandas as pd\n",
    "from sentence_transformers import SentenceTransformer\n",
    "import time\n",
    "from IPython.display import display\n",
    "import warnings\n",
    "import matplotlib.pyplot as plt\n",
    "import os\n",
    "import pinecone\n",
    "import uuid\n",
    "from pinecone import ServerlessSpec\n",
    "from typing import List, Tuple, Dict, Optional\n",
    "\n",
    "warnings.simplefilter(action='ignore', category=FutureWarning)"
   ]
  },
  {
   "cell_type": "code",
   "execution_count": 126,
   "id": "c7ff0b6b-3a2b-4e6a-a41a-b0f7a54e32d2",
   "metadata": {},
   "outputs": [],
   "source": [
    "os.environ[\"PINECONE_API_KEY\"] = \"YOUR PINECONE API KEY HERE\""
   ]
  },
  {
   "cell_type": "markdown",
   "id": "e7183c0f-c96f-4335-bc48-d474628dbe30",
   "metadata": {
    "id": "iMSW1p7td0yB"
   },
   "source": [
    "Below is an example of how to set a Python index serverless specification, this allows us to define the cloud provider and region where we want to deploy our index. You can find a list of all [available providers and regions here](https://docs.pinecone.io/docs/projects)."
   ]
  },
  {
   "cell_type": "code",
   "execution_count": 127,
   "id": "28911e33-870c-4150-8bb8-e12f3352b9e2",
   "metadata": {
    "id": "KpRYFxYXd0yB"
   },
   "outputs": [],
   "source": [
    "cloud = os.environ.get('PINECONE_CLOUD') or 'aws'\n",
    "region = os.environ.get('PINECONE_REGION') or 'us-east-1'\n",
    "\n",
    "spec = ServerlessSpec(cloud=cloud, region=region)"
   ]
  },
  {
   "cell_type": "code",
   "execution_count": 128,
   "id": "4e3d39bd-4726-4bf6-a016-aa0b136936f8",
   "metadata": {},
   "outputs": [],
   "source": [
    "class PineconeRAGPipeline:\n",
    "    def __init__(self, model_name: str = 'paraphrase-MiniLM-L6-v2', index_name: str = 'document-index', cloud: str = 'aws', region: str = 'us-east-1'):\n",
    "        \"\"\"\n",
    "        Initialize the PineconeRAGPipeline with a specified model and index name.\n",
    "        \n",
    "        Args:\n",
    "            model_name (str): Name of the SentenceTransformer model to use.\n",
    "            index_name (str): Name of the Pinecone index to create or connect to.\n",
    "            cloud (str): Cloud provider for Pinecone.\n",
    "            region (str): Region for the Pinecone service.\n",
    "        \"\"\"\n",
    "        self.model = SentenceTransformer(model_name)\n",
    "        self.pc = pinecone.Pinecone(api_key=os.environ.get('PINECONE_API_KEY'))\n",
    "        self.index_name = index_name\n",
    "        \n",
    "        existing_indexes = self.pc.list_indexes()\n",
    "        \n",
    "        if self.index_name not in existing_indexes:\n",
    "            try:\n",
    "                print(f\"Creating new index: {self.index_name}\")\n",
    "                self.pc.create_index(\n",
    "                    name=self.index_name,\n",
    "                    dimension=self.model.get_sentence_embedding_dimension(),\n",
    "                    metric='cosine',\n",
    "                    spec=pinecone.ServerlessSpec(cloud=cloud, region=region)\n",
    "                )\n",
    "            except Exception as e:\n",
    "                if \"ALREADY_EXISTS\" in str(e):\n",
    "                    print(f\"Index {self.index_name} already exists. Connecting to existing index.\")\n",
    "                else:\n",
    "                    raise e\n",
    "        else:\n",
    "            print(f\"Index {self.index_name} already exists. Connecting to existing index.\")\n",
    "        \n",
    "        self.index = self.pc.Index(self.index_name)\n",
    "\n",
    "    def chunk_text(self, text: str, max_tokens: int = 256) -> List[str]:\n",
    "        \"\"\"\n",
    "        Split text into chunks based on a maximum token size.\n",
    "        \n",
    "        Args:\n",
    "            text (str): The document text to be chunked.\n",
    "            max_tokens (int): The maximum number of tokens per chunk.\n",
    "        \n",
    "        Returns:\n",
    "            List[str]: List of text chunks.\n",
    "        \"\"\"\n",
    "        words = text.split()\n",
    "        chunks = []\n",
    "        current_chunk = []\n",
    "        current_chunk_tokens = 0\n",
    "\n",
    "        for word in words:\n",
    "            word_tokens = len(self.model.tokenize([word])['input_ids'][0])\n",
    "            if current_chunk_tokens + word_tokens > max_tokens and current_chunk:\n",
    "                chunks.append(\" \".join(current_chunk))\n",
    "                current_chunk = []\n",
    "                current_chunk_tokens = 0\n",
    "            \n",
    "            current_chunk.append(word)\n",
    "            current_chunk_tokens += word_tokens\n",
    "\n",
    "        if current_chunk:\n",
    "            chunks.append(\" \".join(current_chunk))\n",
    "\n",
    "        for i, chunk in enumerate(chunks):\n",
    "            print(f\"Chunk {i+1} length: {len(chunk)} characters, {len(self.model.tokenize([chunk])['input_ids'][0])} tokens\")\n",
    "\n",
    "        return chunks\n",
    "    \n",
    "    def index_documents(self, df: pd.DataFrame) -> int:\n",
    "        \"\"\"\n",
    "        Index documents from a DataFrame with specific metadata structure.\n",
    "        \n",
    "        Args:\n",
    "            df (pd.DataFrame): DataFrame containing document information and metadata.\n",
    "                               Expected columns: 'text', 'filename', 'topic', 'quality'\n",
    "        \n",
    "        Returns:\n",
    "            int: The number of chunks successfully indexed.\n",
    "        \"\"\"\n",
    "        valid_docs = []\n",
    "        valid_metadata = []\n",
    "        generated_ids = []\n",
    "\n",
    "        print(\"Starting document processing...\")\n",
    "\n",
    "        for idx, row in df.iterrows():\n",
    "            if pd.isna(row['text']) or pd.isna(row['filename']) or pd.isna(row['topic']):\n",
    "                print(f\"Skipping invalid document at index {idx}: {row['filename']}\")\n",
    "                continue\n",
    "            \n",
    "            doc = str(row['text'])\n",
    "            print(f\"Processing document {row['filename']} at index {idx}...\")\n",
    "\n",
    "            chunks = self.chunk_text(doc)\n",
    "\n",
    "            for i, chunk in enumerate(chunks):\n",
    "                chunk_id = str(uuid.uuid4())\n",
    "                chunk_metadata = {\n",
    "                    'filename': row['filename'],\n",
    "                    'topic': row['topic'],\n",
    "                    'chunk_index': i,\n",
    "                    'total_chunks': len(chunks),\n",
    "                    'quality': row['quality'] if not pd.isna(row['quality']) else 'unknown',\n",
    "                    'chunk_id': chunk_id\n",
    "                }\n",
    "                valid_docs.append(chunk)\n",
    "                valid_metadata.append(chunk_metadata)\n",
    "                generated_ids.append(chunk_id)\n",
    "\n",
    "        print(f\"Total chunks to encode: {len(valid_docs)}\")\n",
    "\n",
    "        if not valid_docs:\n",
    "            print(\"No valid documents to index.\")\n",
    "            return 0\n",
    "\n",
    "        doc_embeddings = self.model.encode(valid_docs)\n",
    "\n",
    "        batch_size = 100\n",
    "        for i in range(0, len(valid_docs), batch_size):\n",
    "            batch_docs = valid_docs[i:i+batch_size]\n",
    "            batch_metadata = valid_metadata[i:i+batch_size]\n",
    "            batch_embeddings = doc_embeddings[i:i+batch_size]\n",
    "            \n",
    "            vectors = [\n",
    "                (generated_ids[i+j], embedding.tolist(), {**metadata, 'text': doc[:1000]})\n",
    "                for j, (doc, embedding, metadata) in enumerate(zip(batch_docs, batch_embeddings, batch_metadata))\n",
    "            ]\n",
    "\n",
    "            try:\n",
    "                self.index.upsert(vectors=vectors)\n",
    "                print(f\"Successfully indexed batch of {len(vectors)} chunks.\")\n",
    "            except Exception as e:\n",
    "                print(f\"Error during upsert: {e}\")\n",
    "\n",
    "        print(\"Document indexing completed.\")\n",
    "        return len(valid_docs)\n",
    "\n",
    "    def search(self, query: str, top_k: int = 5, filter_query: Optional[Dict] = None) -> List[Tuple[str, Dict]]:\n",
    "        \"\"\"\n",
    "        Search for the top_k most relevant documents based on the input query and optional filter.\n",
    "        \n",
    "        Args:\n",
    "            query (str): The search query text.\n",
    "            top_k (int): The number of top relevant documents to return.\n",
    "            filter_query (Optional[Dict]): Optional filter query to apply during search.\n",
    "        \n",
    "        Returns:\n",
    "            List[Tuple[str, Dict]]: List of top_k relevant document texts and their metadata.\n",
    "                                    Each tuple contains (document_text, metadata_dict).\n",
    "        \"\"\"\n",
    "        query_embedding = self.model.encode(query)\n",
    "        \n",
    "        try:\n",
    "            results = self.index.query(\n",
    "                vector=query_embedding.tolist(),\n",
    "                top_k=top_k,\n",
    "                filter=filter_query,\n",
    "                include_metadata=True\n",
    "            )\n",
    "            \n",
    "            return [(match.metadata['text'], {k: v for k, v in match.metadata.items() if k != 'text'}) for match in results.matches]\n",
    "        except Exception as e:\n",
    "            print(f\"Error during search: {e}\")\n",
    "            return []\n",
    "\n",
    "    def delete_index(self) -> None:\n",
    "        \"\"\"\n",
    "        Delete the Pinecone index.\n",
    "        \n",
    "        Raises:\n",
    "            Exception: If there's an error during the deletion process.\n",
    "        \"\"\"\n",
    "        try:\n",
    "            self.pc.delete_index(self.index_name)\n",
    "            print(f\"Index '{self.index_name}' has been deleted.\")\n",
    "        except Exception as e:\n",
    "            print(f\"Error deleting index: {e}\")\n",
    "\n",
    "    def extract_chunks_from_index(self) -> pd.DataFrame:\n",
    "        \"\"\"\n",
    "        Extract document chunks and metadata from the Pinecone index into a DataFrame.\n",
    "        \n",
    "        Returns:\n",
    "            pd.DataFrame: DataFrame containing chunk data and metadata.\n",
    "                          Columns include all metadata fields stored in the index.\n",
    "        \n",
    "        Raises:\n",
    "            Exception: If there's an error retrieving chunks from the index.\n",
    "        \"\"\"\n",
    "        stats = self.index.describe_index_stats()\n",
    "        total_vectors = stats.total_vector_count\n",
    "        dimension = stats.dimension\n",
    "        \n",
    "        print(f\"Index name: {self.index_name}\")\n",
    "        print(f\"Total vectors according to stats: {total_vectors}\")\n",
    "        print(f\"Vector dimension: {dimension}\")\n",
    "\n",
    "        try:\n",
    "            results = self.index.query(\n",
    "                vector=[0.0] * dimension,\n",
    "                top_k=10000,\n",
    "                include_values=False,\n",
    "                include_metadata=True\n",
    "            )\n",
    "\n",
    "            chunk_data = [match.metadata for match in results.matches]\n",
    "            chunk_df = pd.DataFrame(chunk_data)\n",
    "\n",
    "            print(f\"Total chunks retrieved: {len(chunk_df)}\")\n",
    "            return chunk_df\n",
    "\n",
    "        except Exception as e:\n",
    "            print(f\"Error retrieving chunks from index: {e}\")\n",
    "            return pd.DataFrame()\n",
    "\n",
    "    def delete_chunks(self, chunk_ids: List[str]) -> None:\n",
    "        \"\"\"\n",
    "        Delete specific chunks from the Pinecone index.\n",
    "\n",
    "        Args:\n",
    "            chunk_ids (List[str]): List of chunk IDs to delete.\n",
    "        \n",
    "        Raises:\n",
    "            Exception: If there's an error during the deletion process.\n",
    "        \"\"\"\n",
    "        try:\n",
    "            self.index.delete(ids=chunk_ids)\n",
    "            print(f\"Successfully deleted {len(chunk_ids)} chunks from the index.\")\n",
    "        except Exception as e:\n",
    "            print(f\"Error deleting chunks: {e}\")\n",
    "            print(f\"Problematic chunk IDs: {chunk_ids}\")\n",
    "\n",
    "        print(f\"Finished deletion process for {len(chunk_ids)} chunks.\")"
   ]
  },
  {
   "cell_type": "markdown",
   "id": "2bf9ee9f-255f-4709-b72c-f81ea118c81a",
   "metadata": {},
   "source": [
    "## Load Documents Data"
   ]
  },
  {
   "cell_type": "code",
   "execution_count": 129,
   "id": "e1c344e8-5feb-447f-a9a5-0490c4b27bb1",
   "metadata": {},
   "outputs": [
    {
     "name": "stdout",
     "output_type": "stream",
     "text": [
      "(139, 5)\n"
     ]
    }
   ],
   "source": [
    "# Read in dataset\n",
    "df = pd.read_csv(\"document-curation-RAG.csv\")\n",
    "print(df.shape)"
   ]
  },
  {
   "cell_type": "code",
   "execution_count": 130,
   "id": "61f490ad",
   "metadata": {},
   "outputs": [
    {
     "data": {
      "text/html": [
       "<div>\n",
       "<style scoped>\n",
       "    .dataframe tbody tr th:only-of-type {\n",
       "        vertical-align: middle;\n",
       "    }\n",
       "\n",
       "    .dataframe tbody tr th {\n",
       "        vertical-align: top;\n",
       "    }\n",
       "\n",
       "    .dataframe thead th {\n",
       "        text-align: right;\n",
       "    }\n",
       "</style>\n",
       "<table border=\"1\" class=\"dataframe\">\n",
       "  <thead>\n",
       "    <tr style=\"text-align: right;\">\n",
       "      <th></th>\n",
       "      <th>index</th>\n",
       "      <th>filename</th>\n",
       "      <th>topic</th>\n",
       "      <th>quality</th>\n",
       "      <th>text</th>\n",
       "    </tr>\n",
       "  </thead>\n",
       "  <tbody>\n",
       "    <tr>\n",
       "      <th>0</th>\n",
       "      <td>1</td>\n",
       "      <td>documents/Blackstone-Third-Quarter-2023-Invest...</td>\n",
       "      <td>finance</td>\n",
       "      <td>good</td>\n",
       "      <td>Blackstone Third Quarter 2023 Investor Call Oc...</td>\n",
       "    </tr>\n",
       "    <tr>\n",
       "      <th>1</th>\n",
       "      <td>2</td>\n",
       "      <td>documents/8k-nike.pdf</td>\n",
       "      <td>finance</td>\n",
       "      <td>good</td>\n",
       "      <td>SECURITIES AND EXCHANGE COMMISSIONFORM 8-K Cur...</td>\n",
       "    </tr>\n",
       "    <tr>\n",
       "      <th>2</th>\n",
       "      <td>3</td>\n",
       "      <td>documents/04-FY24-Q1-NIKE-Press-Release.pdf</td>\n",
       "      <td>finance</td>\n",
       "      <td>good</td>\n",
       "      <td>Investor Contact:Media Contact:Paul TrussellVi...</td>\n",
       "    </tr>\n",
       "    <tr>\n",
       "      <th>3</th>\n",
       "      <td>4</td>\n",
       "      <td>documents/10-K 2022-Apple2.pdf</td>\n",
       "      <td>finance</td>\n",
       "      <td>good</td>\n",
       "      <td>The future principal payments for the Company’...</td>\n",
       "    </tr>\n",
       "    <tr>\n",
       "      <th>4</th>\n",
       "      <td>5</td>\n",
       "      <td>documents/q3-fy22-earnings-presentation.pdf</td>\n",
       "      <td>finance</td>\n",
       "      <td>NaN</td>\n",
       "      <td>Financial\\tpresentation\\tto\\t accompany\\tmanag...</td>\n",
       "    </tr>\n",
       "  </tbody>\n",
       "</table>\n",
       "</div>"
      ],
      "text/plain": [
       "   index                                           filename    topic quality  \\\n",
       "0      1  documents/Blackstone-Third-Quarter-2023-Invest...  finance    good   \n",
       "1      2                              documents/8k-nike.pdf  finance    good   \n",
       "2      3        documents/04-FY24-Q1-NIKE-Press-Release.pdf  finance    good   \n",
       "3      4                     documents/10-K 2022-Apple2.pdf  finance    good   \n",
       "4      5        documents/q3-fy22-earnings-presentation.pdf  finance     NaN   \n",
       "\n",
       "                                                text  \n",
       "0  Blackstone Third Quarter 2023 Investor Call Oc...  \n",
       "1  SECURITIES AND EXCHANGE COMMISSIONFORM 8-K Cur...  \n",
       "2  Investor Contact:Media Contact:Paul TrussellVi...  \n",
       "3  The future principal payments for the Company’...  \n",
       "4  Financial\\tpresentation\\tto\\t accompany\\tmanag...  "
      ]
     },
     "execution_count": 130,
     "metadata": {},
     "output_type": "execute_result"
    }
   ],
   "source": [
    "df.head()"
   ]
  },
  {
   "cell_type": "markdown",
   "id": "69f026d6-fc2d-4b9a-ac5d-eb227ec9462b",
   "metadata": {},
   "source": [
    "## Analyze Documents Data"
   ]
  },
  {
   "cell_type": "code",
   "execution_count": 131,
   "id": "11be0bf8-8eaf-4ff5-af0e-e69a415b01e5",
   "metadata": {},
   "outputs": [
    {
     "name": "stdout",
     "output_type": "stream",
     "text": [
      "Summary Statistics of Text Length:\n",
      "count       139.00000\n",
      "mean       9474.00000\n",
      "std       18093.41533\n",
      "min           0.00000\n",
      "25%        1776.50000\n",
      "50%        3727.00000\n",
      "75%        8104.00000\n",
      "max      143918.00000\n",
      "Name: text_length, dtype: float64\n"
     ]
    },
    {
     "data": {
      "image/png": "[encoded data removed]",
      "text/plain": [
       "<Figure size 1000x600 with 1 Axes>"
      ]
     },
     "metadata": {},
     "output_type": "display_data"
    },
    {
     "data": {
      "image/png": "[encoded data removed]",
      "text/plain": [
       "<Figure size 1000x600 with 1 Axes>"
      ]
     },
     "metadata": {},
     "output_type": "display_data"
    }
   ],
   "source": [
    "# Calculate the length of the text in the 'text' column\n",
    "df['text_length'] = df['text'].apply(lambda x: len(x) if pd.notnull(x) else 0)\n",
    "\n",
    "# Summary statistics\n",
    "length_stats = df['text_length'].describe()\n",
    "print(\"Summary Statistics of Text Length:\")\n",
    "print(length_stats)\n",
    "\n",
    "# Plotting the distribution of text lengths\n",
    "plt.figure(figsize=(10, 6))\n",
    "plt.hist(df['text_length'], bins=20, color='blue', alpha=0.7)\n",
    "plt.title('Distribution of Text Lengths')\n",
    "plt.xlabel('Text Length')\n",
    "plt.ylabel('Frequency')\n",
    "plt.grid(True)\n",
    "plt.show()\n",
    "\n",
    "# Optional: plot a boxplot to see the distribution with outliers\n",
    "plt.figure(figsize=(10, 6))\n",
    "plt.boxplot(df['text_length'], vert=False)\n",
    "plt.title('Boxplot of Text Lengths')\n",
    "plt.xlabel('Text Length')\n",
    "plt.grid(True)\n",
    "plt.show()"
   ]
  },
  {
   "cell_type": "code",
   "execution_count": 132,
   "id": "b4e566c0-c9f1-4d2e-8fdf-ba52cf155495",
   "metadata": {},
   "outputs": [
    {
     "name": "stdout",
     "output_type": "stream",
     "text": [
      "\n",
      "Missing Values in Each Column:\n",
      "index            0\n",
      "filename         0\n",
      "topic            0\n",
      "quality        103\n",
      "text             3\n",
      "text_length      0\n",
      "dtype: int64\n",
      "\n",
      "Quality Column Distribution:\n",
      "quality\n",
      "NaN     103\n",
      "good     18\n",
      "bad      18\n",
      "Name: count, dtype: int64\n",
      "\n",
      "Quality Distribution per Topic:\n",
      "quality  bad  good\n",
      "topic             \n",
      "finance    2     6\n",
      "hr         2     5\n",
      "it         9     1\n",
      "product    2     3\n",
      "sales      3     3\n"
     ]
    }
   ],
   "source": [
    "# Analyze missing values\n",
    "missing_values = df.isnull().sum()\n",
    "print(f\"\\nMissing Values in Each Column:\\n{missing_values}\")\n",
    "\n",
    "# Analyze the 'quality' column\n",
    "quality_counts = df['quality'].value_counts(dropna=False)\n",
    "print(f\"\\nQuality Column Distribution:\\n{quality_counts}\")\n",
    "\n",
    "# Quality distribution per topic\n",
    "quality_topic_distribution = df.pivot_table(index='topic', columns='quality', aggfunc='size', fill_value=0)\n",
    "print(f\"\\nQuality Distribution per Topic:\\n{quality_topic_distribution}\")"
   ]
  },
  {
   "cell_type": "markdown",
   "id": "a2925cae",
   "metadata": {},
   "source": [
    "## Initialize RAG Pipeline on initial documents data"
   ]
  },
  {
   "cell_type": "code",
   "execution_count": 1,
   "id": "076081ad",
   "metadata": {},
   "outputs": [],
   "source": [
    "# Intialize RAG pipeline on unfiltered documents\n",
    "rag_pipeline = PineconeRAGPipeline(index_name='cleanlab-pinecone-index')\n",
    "rag_pipeline.index_documents(df)"
   ]
  },
  {
   "cell_type": "code",
   "execution_count": 134,
   "id": "2783e5b0",
   "metadata": {},
   "outputs": [
    {
     "name": "stdout",
     "output_type": "stream",
     "text": [
      "Index name: cleanlab-pinecone-index\n",
      "Total vectors according to stats: 2716\n",
      "Vector dimension: 384\n",
      "Total chunks retrieved: 2716\n"
     ]
    },
    {
     "data": {
      "text/html": [
       "<div>\n",
       "<style scoped>\n",
       "    .dataframe tbody tr th:only-of-type {\n",
       "        vertical-align: middle;\n",
       "    }\n",
       "\n",
       "    .dataframe tbody tr th {\n",
       "        vertical-align: top;\n",
       "    }\n",
       "\n",
       "    .dataframe thead th {\n",
       "        text-align: right;\n",
       "    }\n",
       "</style>\n",
       "<table border=\"1\" class=\"dataframe\">\n",
       "  <thead>\n",
       "    <tr style=\"text-align: right;\">\n",
       "      <th></th>\n",
       "      <th>chunk_id</th>\n",
       "      <th>chunk_index</th>\n",
       "      <th>filename</th>\n",
       "      <th>quality</th>\n",
       "      <th>text</th>\n",
       "      <th>topic</th>\n",
       "      <th>total_chunks</th>\n",
       "    </tr>\n",
       "  </thead>\n",
       "  <tbody>\n",
       "    <tr>\n",
       "      <th>0</th>\n",
       "      <td>1d38c13a-0dac-4cdd-9c3e-412ca97c871e</td>\n",
       "      <td>4.0</td>\n",
       "      <td>documents/Walmart_2022_Investor_Information.pdf</td>\n",
       "      <td>unknown</td>\n",
       "      <td>follows:2023HighLow1st Quarter(1)$146.94$132.0...</td>\n",
       "      <td>finance</td>\n",
       "      <td>9.0</td>\n",
       "    </tr>\n",
       "    <tr>\n",
       "      <th>1</th>\n",
       "      <td>22f6030f-68ad-424b-9428-dea4dd8d2e1a</td>\n",
       "      <td>5.0</td>\n",
       "      <td>documents/internet_safety.pptx</td>\n",
       "      <td>bad</td>\n",
       "      <td>751-5980 (800) 487-1626 (8 a.m. to 5 p.m. CST,...</td>\n",
       "      <td>it</td>\n",
       "      <td>6.0</td>\n",
       "    </tr>\n",
       "    <tr>\n",
       "      <th>2</th>\n",
       "      <td>afe7e494-26df-4a0e-91f3-16b7d0d66849</td>\n",
       "      <td>139.0</td>\n",
       "      <td>documents/Investor_Transcript_2023-10-26.pdf</td>\n",
       "      <td>unknown</td>\n",
       "      <td>PROVIDE AN ACCURATE TRANSCRIPTION, THERE MAY B...</td>\n",
       "      <td>finance</td>\n",
       "      <td>141.0</td>\n",
       "    </tr>\n",
       "    <tr>\n",
       "      <th>3</th>\n",
       "      <td>4f2ad85b-2a39-4e63-b197-7f5beb6eeeb4</td>\n",
       "      <td>5.0</td>\n",
       "      <td>documents/2012_14.doc</td>\n",
       "      <td>unknown</td>\n",
       "      <td>Pay transactions on HUE01 using the following ...</td>\n",
       "      <td>finance</td>\n",
       "      <td>17.0</td>\n",
       "    </tr>\n",
       "    <tr>\n",
       "      <th>4</th>\n",
       "      <td>b46158c1-6514-4b97-a49e-28024ce58fb2</td>\n",
       "      <td>3.0</td>\n",
       "      <td>documents/01-danby-3cuft-range.pdf</td>\n",
       "      <td>unknown</td>\n",
       "      <td>DetailsWeight63.00kg138.89lbCapacityLoading Ca...</td>\n",
       "      <td>product</td>\n",
       "      <td>5.0</td>\n",
       "    </tr>\n",
       "  </tbody>\n",
       "</table>\n",
       "</div>"
      ],
      "text/plain": [
       "                               chunk_id  chunk_index  \\\n",
       "0  1d38c13a-0dac-4cdd-9c3e-412ca97c871e          4.0   \n",
       "1  22f6030f-68ad-424b-9428-dea4dd8d2e1a          5.0   \n",
       "2  afe7e494-26df-4a0e-91f3-16b7d0d66849        139.0   \n",
       "3  4f2ad85b-2a39-4e63-b197-7f5beb6eeeb4          5.0   \n",
       "4  b46158c1-6514-4b97-a49e-28024ce58fb2          3.0   \n",
       "\n",
       "                                          filename  quality  \\\n",
       "0  documents/Walmart_2022_Investor_Information.pdf  unknown   \n",
       "1                   documents/internet_safety.pptx      bad   \n",
       "2     documents/Investor_Transcript_2023-10-26.pdf  unknown   \n",
       "3                            documents/2012_14.doc  unknown   \n",
       "4               documents/01-danby-3cuft-range.pdf  unknown   \n",
       "\n",
       "                                                text    topic  total_chunks  \n",
       "0  follows:2023HighLow1st Quarter(1)$146.94$132.0...  finance           9.0  \n",
       "1  751-5980 (800) 487-1626 (8 a.m. to 5 p.m. CST,...       it           6.0  \n",
       "2  PROVIDE AN ACCURATE TRANSCRIPTION, THERE MAY B...  finance         141.0  \n",
       "3  Pay transactions on HUE01 using the following ...  finance          17.0  \n",
       "4  DetailsWeight63.00kg138.89lbCapacityLoading Ca...  product           5.0  "
      ]
     },
     "execution_count": 134,
     "metadata": {},
     "output_type": "execute_result"
    }
   ],
   "source": [
    "time.sleep(30)\n",
    "# Extract chunks from the Pinecone index into a DataFrame\n",
    "chunk_df = rag_pipeline.extract_chunks_from_index()\n",
    "\n",
    "# Display the resulting DataFrame\n",
    "chunk_df.head()"
   ]
  },
  {
   "cell_type": "code",
   "execution_count": 135,
   "id": "bcfbd8c5",
   "metadata": {},
   "outputs": [
    {
     "data": {
      "text/plain": [
       "(2716, 7)"
      ]
     },
     "execution_count": 135,
     "metadata": {},
     "output_type": "execute_result"
    }
   ],
   "source": [
    "chunk_df.shape"
   ]
  },
  {
   "cell_type": "code",
   "execution_count": 138,
   "id": "1603f18d",
   "metadata": {},
   "outputs": [
    {
     "name": "stdout",
     "output_type": "stream",
     "text": [
      "The columns in our documents data are: ['chunk_id', 'chunk_index', 'filename', 'quality', 'text', 'topic', 'total_chunks']\n"
     ]
    }
   ],
   "source": [
    "document_data_columns = list(chunk_df.columns)\n",
    "print(f\"The columns in our documents data are: {document_data_columns}\")"
   ]
  },
  {
   "cell_type": "markdown",
   "id": "f07a408d",
   "metadata": {},
   "source": [
    "We can see below that the number of chunks per document varies:"
   ]
  },
  {
   "cell_type": "code",
   "execution_count": 139,
   "id": "94377992",
   "metadata": {},
   "outputs": [
    {
     "name": "stdout",
     "output_type": "stream",
     "text": [
      "filename\n",
      "documents/0-cognism-how-to-sell.pdf                 29.0\n",
      "documents/01-danby-3cuft-range.pdf                   5.0\n",
      "documents/02-Internet_and_Technology_Policy.docx     5.0\n",
      "documents/03-job-offer-worksheet-aug-2019.docx       7.0\n",
      "documents/04-FY24-Q1-NIKE-Press-Release.pdf         26.0\n",
      "                                                    ... \n",
      "documents/unit04.pdf                                22.0\n",
      "documents/v0_FarmFreshFeast_financials.docx          7.0\n",
      "documents/v0_FarmFreshFeast_financials.pdf           7.0\n",
      "documents/what-is-selling.pptx                       7.0\n",
      "documents/work-ez-specs.pdf                          2.0\n",
      "Name: chunk_index, Length: 136, dtype: float64\n"
     ]
    }
   ],
   "source": [
    "chunks_per_doc = chunk_df.groupby('filename')['chunk_index'].max() + 1\n",
    "print(chunks_per_doc)"
   ]
  },
  {
   "cell_type": "markdown",
   "id": "a867163e-9f41-46b8-9dca-055e5593f6bc",
   "metadata": {},
   "source": [
    "## Use Cleanlab Studio to ensure there is no low quality or unacceptable text in our documents (e.g. PII, duplicates, non-English text, toxic language, etc.)"
   ]
  },
  {
   "cell_type": "markdown",
   "id": "98708651",
   "metadata": {},
   "source": [
    "Cleanlab Studio runs many analyses of your dataset to find data issues and provide other useful metadata, including detection of: label issues, outliers, ambiguous examples, well-labeled examples, and more. For this particular use case, we will focus on text-specific data issues that Cleanlab can detect. After Cleanlab Studio runs these analyses on your data, new metadata columns are available to show the issue types detected and the severity of the issue type.\n",
    "\n",
    "We will first ingest the document chunks data obtained from our Pinecone DB into Cleanlab Studio and then run a project to analyze this data and look for the text issue types mentioned. After the project results are ready, we can make use of the `download_cleanlab_columns()` column to download the added metadata columns from the Cleanlab Studio project results.\n",
    "\n",
    "For more details on Cleanlab Studio Metadata you can go [here](https://help.cleanlab.ai/guide/concepts/cleanlab_columns/)."
   ]
  },
  {
   "cell_type": "code",
   "execution_count": 143,
   "id": "629b7d20-8e85-4476-94fe-c00c90a56f94",
   "metadata": {},
   "outputs": [],
   "source": [
    "from cleanlab_studio import Studio\n",
    "\n",
    "API_KEY = \"YOUR API KEY HERE\"\n",
    "studio = Studio(API_KEY)"
   ]
  },
  {
   "cell_type": "markdown",
   "id": "b7be24fe-070b-4879-8345-4993b052d958",
   "metadata": {},
   "source": [
    "### Ingest our documents chunks into Cleanlab Studio"
   ]
  },
  {
   "cell_type": "code",
   "execution_count": 144,
   "id": "70da45d4-b0e6-4aed-9ff5-702bd9341538",
   "metadata": {},
   "outputs": [
    {
     "name": "stderr",
     "output_type": "stream",
     "text": [
      "Uploading dataset...: 100%|██████████|\n",
      "Ingesting Dataset...: 100%|██████████|"
     ]
    },
    {
     "name": "stdout",
     "output_type": "stream",
     "text": [
      "Dataset ID: 1169f187757e43079b5cc9b7d93b482e\n"
     ]
    },
    {
     "name": "stderr",
     "output_type": "stream",
     "text": [
      "\n"
     ]
    }
   ],
   "source": [
    "dataset_id = studio.upload_dataset(\n",
    "    chunk_df,\n",
    "    dataset_name=\"cleanlab_pinecone_RAG_document_chunks\"\n",
    ")\n",
    "print(f\"Dataset ID: {dataset_id}\")"
   ]
  },
  {
   "cell_type": "markdown",
   "id": "b5fc6210-7949-42c8-84ff-c2e56578ba9d",
   "metadata": {},
   "source": [
    "### Launch a Cleanlab Studio Project using our documents data to analyze the text"
   ]
  },
  {
   "cell_type": "code",
   "execution_count": 145,
   "id": "ed715976-dad7-497c-94df-cbe2f4ba48e4",
   "metadata": {},
   "outputs": [],
   "source": [
    "text_column = \"text\""
   ]
  },
  {
   "cell_type": "markdown",
   "id": "ecbce609",
   "metadata": {},
   "source": [
    "We will use Cleanlab Studio’s Python API to analyze and find issues in this documents dataset that does not have labels. This can be useful if you don’t have a single column in your dataset that you want to predict values for but still want to find issues such as low-quality text content (e.g. toxic or unreadable text). In machine learning nomenclature, working with such data is called unsupervised learning (because there is no supervised label to predict)."
   ]
  },
  {
   "cell_type": "code",
   "execution_count": 146,
   "id": "df356f36-dc48-4f9e-82be-413343fee3fc",
   "metadata": {},
   "outputs": [
    {
     "name": "stdout",
     "output_type": "stream",
     "text": [
      "Project successfully created and training has begun! project_id: e769dc99ec174f0ba8abedc786587e22\n"
     ]
    }
   ],
   "source": [
    "project_id = studio.create_project(\n",
    "    dataset_id=dataset_id,\n",
    "    project_name=\"Cleanlab Pinecone RAG Document Chunks Project\",\n",
    "    modality=\"text\",\n",
    "    task_type=\"unsupervised\",\n",
    "    model_type=\"regular\",  \n",
    "    label_column=None,\n",
    "    text_column=text_column\n",
    ")\n",
    "print(f\"Project successfully created and training has begun! project_id: {project_id}\")"
   ]
  },
  {
   "cell_type": "code",
   "execution_count": 147,
   "id": "ba7d6cfe-0b56-4af2-8a91-65cea0d778ba",
   "metadata": {},
   "outputs": [
    {
     "name": "stderr",
     "output_type": "stream",
     "text": [
      "Cleanset Progress: / Step 25/25, Ready for review!\n"
     ]
    }
   ],
   "source": [
    "cleanset_id = studio.get_latest_cleanset_id(project_id)\n",
    "project_status = studio.wait_until_cleanset_ready(cleanset_id)"
   ]
  },
  {
   "cell_type": "code",
   "execution_count": 148,
   "id": "bdde109f-d652-40f0-b564-7b41805efdb4",
   "metadata": {},
   "outputs": [],
   "source": [
    "# Download cleanlab columns from text project\n",
    "cleanlab_columns = studio.download_cleanlab_columns(cleanset_id)"
   ]
  },
  {
   "cell_type": "code",
   "execution_count": 149,
   "id": "fd481b2b-7f3b-4d96-a3e7-50d24bbc5d17",
   "metadata": {},
   "outputs": [
    {
     "name": "stdout",
     "output_type": "stream",
     "text": [
      "Index(['cleanlab_row_ID', 'is_near_duplicate', 'near_duplicate_score',\n",
      "       'near_duplicate_cluster_id', 'is_outlier', 'outlier_score',\n",
      "       'is_empty_text', 'text_num_characters', 'is_PII', 'PII_score',\n",
      "       'PII_types', 'PII_items', 'is_informal', 'informal_score',\n",
      "       'spelling_issue_score', 'grammar_issue_score', 'slang_issue_score',\n",
      "       'is_non_english', 'non_english_score', 'predicted_language', 'is_toxic',\n",
      "       'toxic_score', 'sentiment_score', 'bias_score', 'is_biased',\n",
      "       'gender_bias_score', 'racial_bias_score',\n",
      "       'sexual_orientation_bias_score'],\n",
      "      dtype='object')\n"
     ]
    }
   ],
   "source": [
    "print(cleanlab_columns.columns)"
   ]
  },
  {
   "cell_type": "markdown",
   "id": "e34b66e4-4174-438c-802e-39d72a47c256",
   "metadata": {},
   "source": [
    "## Check for issues detected by Cleanlab Studio in our documents data"
   ]
  },
  {
   "cell_type": "code",
   "execution_count": 150,
   "id": "a4fb647a-71a5-48a8-b5e7-23c2c8c99500",
   "metadata": {},
   "outputs": [
    {
     "data": {
      "text/html": [
       "<div>\n",
       "<style scoped>\n",
       "    .dataframe tbody tr th:only-of-type {\n",
       "        vertical-align: middle;\n",
       "    }\n",
       "\n",
       "    .dataframe tbody tr th {\n",
       "        vertical-align: top;\n",
       "    }\n",
       "\n",
       "    .dataframe thead th {\n",
       "        text-align: right;\n",
       "    }\n",
       "</style>\n",
       "<table border=\"1\" class=\"dataframe\">\n",
       "  <thead>\n",
       "    <tr style=\"text-align: right;\">\n",
       "      <th></th>\n",
       "      <th>chunk_id</th>\n",
       "      <th>chunk_index</th>\n",
       "      <th>filename</th>\n",
       "      <th>quality</th>\n",
       "      <th>text</th>\n",
       "      <th>topic</th>\n",
       "      <th>total_chunks</th>\n",
       "      <th>cleanlab_row_ID</th>\n",
       "      <th>is_near_duplicate</th>\n",
       "      <th>near_duplicate_score</th>\n",
       "      <th>...</th>\n",
       "      <th>non_english_score</th>\n",
       "      <th>predicted_language</th>\n",
       "      <th>is_toxic</th>\n",
       "      <th>toxic_score</th>\n",
       "      <th>sentiment_score</th>\n",
       "      <th>bias_score</th>\n",
       "      <th>is_biased</th>\n",
       "      <th>gender_bias_score</th>\n",
       "      <th>racial_bias_score</th>\n",
       "      <th>sexual_orientation_bias_score</th>\n",
       "    </tr>\n",
       "  </thead>\n",
       "  <tbody>\n",
       "    <tr>\n",
       "      <th>0</th>\n",
       "      <td>1d38c13a-0dac-4cdd-9c3e-412ca97c871e</td>\n",
       "      <td>4.0</td>\n",
       "      <td>documents/Walmart_2022_Investor_Information.pdf</td>\n",
       "      <td>unknown</td>\n",
       "      <td>follows:2023HighLow1st Quarter(1)$146.94$132.0...</td>\n",
       "      <td>finance</td>\n",
       "      <td>9.0</td>\n",
       "      <td>1</td>\n",
       "      <td>False</td>\n",
       "      <td>0.355809</td>\n",
       "      <td>...</td>\n",
       "      <td>0.121850</td>\n",
       "      <td>&lt;NA&gt;</td>\n",
       "      <td>False</td>\n",
       "      <td>0.059357</td>\n",
       "      <td>0.631897</td>\n",
       "      <td>0.157471</td>\n",
       "      <td>False</td>\n",
       "      <td>0.0</td>\n",
       "      <td>0.157471</td>\n",
       "      <td>1.859660e-05</td>\n",
       "    </tr>\n",
       "    <tr>\n",
       "      <th>1</th>\n",
       "      <td>22f6030f-68ad-424b-9428-dea4dd8d2e1a</td>\n",
       "      <td>5.0</td>\n",
       "      <td>documents/internet_safety.pptx</td>\n",
       "      <td>bad</td>\n",
       "      <td>751-5980 (800) 487-1626 (8 a.m. to 5 p.m. CST,...</td>\n",
       "      <td>it</td>\n",
       "      <td>6.0</td>\n",
       "      <td>2</td>\n",
       "      <td>False</td>\n",
       "      <td>0.191369</td>\n",
       "      <td>...</td>\n",
       "      <td>0.392422</td>\n",
       "      <td>&lt;NA&gt;</td>\n",
       "      <td>False</td>\n",
       "      <td>0.082031</td>\n",
       "      <td>0.571747</td>\n",
       "      <td>0.102356</td>\n",
       "      <td>False</td>\n",
       "      <td>0.0</td>\n",
       "      <td>0.102356</td>\n",
       "      <td>1.066208e-03</td>\n",
       "    </tr>\n",
       "    <tr>\n",
       "      <th>2</th>\n",
       "      <td>afe7e494-26df-4a0e-91f3-16b7d0d66849</td>\n",
       "      <td>139.0</td>\n",
       "      <td>documents/Investor_Transcript_2023-10-26.pdf</td>\n",
       "      <td>unknown</td>\n",
       "      <td>PROVIDE AN ACCURATE TRANSCRIPTION, THERE MAY B...</td>\n",
       "      <td>finance</td>\n",
       "      <td>141.0</td>\n",
       "      <td>3</td>\n",
       "      <td>False</td>\n",
       "      <td>0.255100</td>\n",
       "      <td>...</td>\n",
       "      <td>0.041649</td>\n",
       "      <td>&lt;NA&gt;</td>\n",
       "      <td>False</td>\n",
       "      <td>0.121399</td>\n",
       "      <td>0.402893</td>\n",
       "      <td>0.090332</td>\n",
       "      <td>False</td>\n",
       "      <td>0.0</td>\n",
       "      <td>0.090332</td>\n",
       "      <td>7.153000e-07</td>\n",
       "    </tr>\n",
       "    <tr>\n",
       "      <th>3</th>\n",
       "      <td>4f2ad85b-2a39-4e63-b197-7f5beb6eeeb4</td>\n",
       "      <td>5.0</td>\n",
       "      <td>documents/2012_14.doc</td>\n",
       "      <td>unknown</td>\n",
       "      <td>Pay transactions on HUE01 using the following ...</td>\n",
       "      <td>finance</td>\n",
       "      <td>17.0</td>\n",
       "      <td>4</td>\n",
       "      <td>False</td>\n",
       "      <td>0.400400</td>\n",
       "      <td>...</td>\n",
       "      <td>0.037601</td>\n",
       "      <td>&lt;NA&gt;</td>\n",
       "      <td>False</td>\n",
       "      <td>0.063538</td>\n",
       "      <td>0.620850</td>\n",
       "      <td>0.156860</td>\n",
       "      <td>False</td>\n",
       "      <td>0.0</td>\n",
       "      <td>0.156860</td>\n",
       "      <td>1.192000e-07</td>\n",
       "    </tr>\n",
       "    <tr>\n",
       "      <th>4</th>\n",
       "      <td>b46158c1-6514-4b97-a49e-28024ce58fb2</td>\n",
       "      <td>3.0</td>\n",
       "      <td>documents/01-danby-3cuft-range.pdf</td>\n",
       "      <td>unknown</td>\n",
       "      <td>DetailsWeight63.00kg138.89lbCapacityLoading Ca...</td>\n",
       "      <td>product</td>\n",
       "      <td>5.0</td>\n",
       "      <td>5</td>\n",
       "      <td>False</td>\n",
       "      <td>0.307199</td>\n",
       "      <td>...</td>\n",
       "      <td>0.121605</td>\n",
       "      <td>&lt;NA&gt;</td>\n",
       "      <td>False</td>\n",
       "      <td>0.108521</td>\n",
       "      <td>0.708740</td>\n",
       "      <td>0.205078</td>\n",
       "      <td>False</td>\n",
       "      <td>0.0</td>\n",
       "      <td>0.205078</td>\n",
       "      <td>1.251700e-06</td>\n",
       "    </tr>\n",
       "  </tbody>\n",
       "</table>\n",
       "<p>5 rows × 35 columns</p>\n",
       "</div>"
      ],
      "text/plain": [
       "                               chunk_id  chunk_index  \\\n",
       "0  1d38c13a-0dac-4cdd-9c3e-412ca97c871e          4.0   \n",
       "1  22f6030f-68ad-424b-9428-dea4dd8d2e1a          5.0   \n",
       "2  afe7e494-26df-4a0e-91f3-16b7d0d66849        139.0   \n",
       "3  4f2ad85b-2a39-4e63-b197-7f5beb6eeeb4          5.0   \n",
       "4  b46158c1-6514-4b97-a49e-28024ce58fb2          3.0   \n",
       "\n",
       "                                          filename  quality  \\\n",
       "0  documents/Walmart_2022_Investor_Information.pdf  unknown   \n",
       "1                   documents/internet_safety.pptx      bad   \n",
       "2     documents/Investor_Transcript_2023-10-26.pdf  unknown   \n",
       "3                            documents/2012_14.doc  unknown   \n",
       "4               documents/01-danby-3cuft-range.pdf  unknown   \n",
       "\n",
       "                                                text    topic  total_chunks  \\\n",
       "0  follows:2023HighLow1st Quarter(1)$146.94$132.0...  finance           9.0   \n",
       "1  751-5980 (800) 487-1626 (8 a.m. to 5 p.m. CST,...       it           6.0   \n",
       "2  PROVIDE AN ACCURATE TRANSCRIPTION, THERE MAY B...  finance         141.0   \n",
       "3  Pay transactions on HUE01 using the following ...  finance          17.0   \n",
       "4  DetailsWeight63.00kg138.89lbCapacityLoading Ca...  product           5.0   \n",
       "\n",
       "   cleanlab_row_ID  is_near_duplicate  near_duplicate_score  ...  \\\n",
       "0                1              False              0.355809  ...   \n",
       "1                2              False              0.191369  ...   \n",
       "2                3              False              0.255100  ...   \n",
       "3                4              False              0.400400  ...   \n",
       "4                5              False              0.307199  ...   \n",
       "\n",
       "   non_english_score  predicted_language  is_toxic  toxic_score  \\\n",
       "0           0.121850                <NA>     False     0.059357   \n",
       "1           0.392422                <NA>     False     0.082031   \n",
       "2           0.041649                <NA>     False     0.121399   \n",
       "3           0.037601                <NA>     False     0.063538   \n",
       "4           0.121605                <NA>     False     0.108521   \n",
       "\n",
       "   sentiment_score  bias_score  is_biased gender_bias_score racial_bias_score  \\\n",
       "0         0.631897    0.157471      False               0.0          0.157471   \n",
       "1         0.571747    0.102356      False               0.0          0.102356   \n",
       "2         0.402893    0.090332      False               0.0          0.090332   \n",
       "3         0.620850    0.156860      False               0.0          0.156860   \n",
       "4         0.708740    0.205078      False               0.0          0.205078   \n",
       "\n",
       "   sexual_orientation_bias_score  \n",
       "0                   1.859660e-05  \n",
       "1                   1.066208e-03  \n",
       "2                   7.153000e-07  \n",
       "3                   1.192000e-07  \n",
       "4                   1.251700e-06  \n",
       "\n",
       "[5 rows x 35 columns]"
      ]
     },
     "metadata": {},
     "output_type": "display_data"
    }
   ],
   "source": [
    "# Combine DataFrame with Cleanlab columns\n",
    "cleanlab_df = chunk_df.merge(\n",
    "    cleanlab_columns, left_index=True, right_index=True\n",
    ")\n",
    "\n",
    "display(cleanlab_df.head())"
   ]
  },
  {
   "cell_type": "code",
   "execution_count": 151,
   "id": "c667c8f0",
   "metadata": {},
   "outputs": [
    {
     "data": {
      "text/plain": [
       "(2716, 35)"
      ]
     },
     "execution_count": 151,
     "metadata": {},
     "output_type": "execute_result"
    }
   ],
   "source": [
    "cleanlab_df.shape"
   ]
  },
  {
   "cell_type": "code",
   "execution_count": 152,
   "id": "da2d3175-a0da-4350-aed2-ab29be61993d",
   "metadata": {},
   "outputs": [
    {
     "name": "stdout",
     "output_type": "stream",
     "text": [
      "There are 0 outliers in our documents data.\n"
     ]
    },
    {
     "data": {
      "text/html": [
       "<div>\n",
       "<style scoped>\n",
       "    .dataframe tbody tr th:only-of-type {\n",
       "        vertical-align: middle;\n",
       "    }\n",
       "\n",
       "    .dataframe tbody tr th {\n",
       "        vertical-align: top;\n",
       "    }\n",
       "\n",
       "    .dataframe thead th {\n",
       "        text-align: right;\n",
       "    }\n",
       "</style>\n",
       "<table border=\"1\" class=\"dataframe\">\n",
       "  <thead>\n",
       "    <tr style=\"text-align: right;\">\n",
       "      <th></th>\n",
       "      <th>text</th>\n",
       "      <th>outlier_score</th>\n",
       "      <th>is_outlier</th>\n",
       "    </tr>\n",
       "  </thead>\n",
       "  <tbody>\n",
       "  </tbody>\n",
       "</table>\n",
       "</div>"
      ],
      "text/plain": [
       "Empty DataFrame\n",
       "Columns: [text, outlier_score, is_outlier]\n",
       "Index: []"
      ]
     },
     "metadata": {},
     "output_type": "display_data"
    }
   ],
   "source": [
    "outlier_issues = cleanlab_df.query(\"is_outlier\").sort_values(\"outlier_score\", ascending=False)\n",
    "\n",
    "outlier_columns = [\"outlier_score\", \"is_outlier\"]\n",
    "columns_to_display = [text_column] + outlier_columns\n",
    "\n",
    "print(f\"There are {len(outlier_issues)} outliers in our documents data.\")\n",
    "display(outlier_issues.head(5)[columns_to_display])"
   ]
  },
  {
   "cell_type": "code",
   "execution_count": 153,
   "id": "bb8d6288-8ec4-4e42-b939-7e34d818339b",
   "metadata": {},
   "outputs": [
    {
     "name": "stdout",
     "output_type": "stream",
     "text": [
      "There are 150 near (or exact) duplicates in our documents data. Here are some examples below:\n",
      "\n"
     ]
    },
    {
     "data": {
      "text/html": [
       "<div>\n",
       "<style scoped>\n",
       "    .dataframe tbody tr th:only-of-type {\n",
       "        vertical-align: middle;\n",
       "    }\n",
       "\n",
       "    .dataframe tbody tr th {\n",
       "        vertical-align: top;\n",
       "    }\n",
       "\n",
       "    .dataframe thead th {\n",
       "        text-align: right;\n",
       "    }\n",
       "</style>\n",
       "<table border=\"1\" class=\"dataframe\">\n",
       "  <thead>\n",
       "    <tr style=\"text-align: right;\">\n",
       "      <th></th>\n",
       "      <th>text</th>\n",
       "      <th>near_duplicate_score</th>\n",
       "      <th>near_duplicate_cluster_id</th>\n",
       "      <th>is_near_duplicate</th>\n",
       "    </tr>\n",
       "  </thead>\n",
       "  <tbody>\n",
       "    <tr>\n",
       "      <th>14</th>\n",
       "      <td>ElectraSpeedTech - Product SpecificationProduc...</td>\n",
       "      <td>0.883742</td>\n",
       "      <td>0</td>\n",
       "      <td>True</td>\n",
       "    </tr>\n",
       "    <tr>\n",
       "      <th>276</th>\n",
       "      <td>[OUTDATED] ElectraSpeedTech - Product Specific...</td>\n",
       "      <td>0.887206</td>\n",
       "      <td>0</td>\n",
       "      <td>True</td>\n",
       "    </tr>\n",
       "    <tr>\n",
       "      <th>1083</th>\n",
       "      <td>[OUTDATED] ElectraSpeedTech - Product Specific...</td>\n",
       "      <td>0.887206</td>\n",
       "      <td>0</td>\n",
       "      <td>True</td>\n",
       "    </tr>\n",
       "    <tr>\n",
       "      <th>34</th>\n",
       "      <td>to: - Define insider training and understand i...</td>\n",
       "      <td>1.000000</td>\n",
       "      <td>1</td>\n",
       "      <td>True</td>\n",
       "    </tr>\n",
       "    <tr>\n",
       "      <th>132</th>\n",
       "      <td>to: - Define insider training and understand i...</td>\n",
       "      <td>1.000000</td>\n",
       "      <td>1</td>\n",
       "      <td>True</td>\n",
       "    </tr>\n",
       "  </tbody>\n",
       "</table>\n",
       "</div>"
      ],
      "text/plain": [
       "                                                   text  near_duplicate_score  \\\n",
       "14    ElectraSpeedTech - Product SpecificationProduc...              0.883742   \n",
       "276   [OUTDATED] ElectraSpeedTech - Product Specific...              0.887206   \n",
       "1083  [OUTDATED] ElectraSpeedTech - Product Specific...              0.887206   \n",
       "34    to: - Define insider training and understand i...              1.000000   \n",
       "132   to: - Define insider training and understand i...              1.000000   \n",
       "\n",
       "      near_duplicate_cluster_id  is_near_duplicate  \n",
       "14                            0               True  \n",
       "276                           0               True  \n",
       "1083                          0               True  \n",
       "34                            1               True  \n",
       "132                           1               True  "
      ]
     },
     "metadata": {},
     "output_type": "display_data"
    }
   ],
   "source": [
    "near_duplicates = cleanlab_df.query(\"is_near_duplicate\").sort_values(by=[\"near_duplicate_cluster_id\", \"near_duplicate_score\"])\n",
    "\n",
    "near_duplicate_columns = [\"near_duplicate_score\", \"near_duplicate_cluster_id\", \"is_near_duplicate\"]\n",
    "columns_to_display = [text_column] + near_duplicate_columns\n",
    "\n",
    "print(f\"There are {len(near_duplicates)} near (or exact) duplicates in our documents data. Here are some examples below:\\n\")\n",
    "display(near_duplicates.head()[columns_to_display])"
   ]
  },
  {
   "cell_type": "code",
   "execution_count": 154,
   "id": "59f452cd-0b5f-4adf-94e2-3293fe7ba280",
   "metadata": {},
   "outputs": [
    {
     "name": "stdout",
     "output_type": "stream",
     "text": [
      "There are 176 PII issues in our documents data. Here are some examples below:\n",
      "\n"
     ]
    },
    {
     "data": {
      "text/html": [
       "<div>\n",
       "<style scoped>\n",
       "    .dataframe tbody tr th:only-of-type {\n",
       "        vertical-align: middle;\n",
       "    }\n",
       "\n",
       "    .dataframe tbody tr th {\n",
       "        vertical-align: top;\n",
       "    }\n",
       "\n",
       "    .dataframe thead th {\n",
       "        text-align: right;\n",
       "    }\n",
       "</style>\n",
       "<table border=\"1\" class=\"dataframe\">\n",
       "  <thead>\n",
       "    <tr style=\"text-align: right;\">\n",
       "      <th></th>\n",
       "      <th>text</th>\n",
       "      <th>PII_items</th>\n",
       "      <th>PII_types</th>\n",
       "      <th>PII_score</th>\n",
       "      <th>is_PII</th>\n",
       "    </tr>\n",
       "  </thead>\n",
       "  <tbody>\n",
       "    <tr>\n",
       "      <th>1</th>\n",
       "      <td>751-5980 (800) 487-1626 (8 a.m. to 5 p.m. CST,...</td>\n",
       "      <td>[\"(800) 487-1626\", \"dls.stat@dss.mo.gov\"]</td>\n",
       "      <td>[\"email\", \"phone number\"]</td>\n",
       "      <td>0.5</td>\n",
       "      <td>True</td>\n",
       "    </tr>\n",
       "    <tr>\n",
       "      <th>569</th>\n",
       "      <td>and Confirming prospectus requirements. Contac...</td>\n",
       "      <td>[\"(631) 254-7112\"]</td>\n",
       "      <td>[\"phone number\"]</td>\n",
       "      <td>0.5</td>\n",
       "      <td>True</td>\n",
       "    </tr>\n",
       "    <tr>\n",
       "      <th>778</th>\n",
       "      <td>(1)$%(19)(1)%1216%241%272%624%(30)(3)%142%41%(...</td>\n",
       "      <td>[\"2022 5 2021 4\"]</td>\n",
       "      <td>[\"phone number\"]</td>\n",
       "      <td>0.5</td>\n",
       "      <td>True</td>\n",
       "    </tr>\n",
       "    <tr>\n",
       "      <th>2010</th>\n",
       "      <td>(603) 230-5001. After completing Form DP-80, e...</td>\n",
       "      <td>[\"(603) 230-5001\"]</td>\n",
       "      <td>[\"phone number\"]</td>\n",
       "      <td>0.5</td>\n",
       "      <td>True</td>\n",
       "    </tr>\n",
       "    <tr>\n",
       "      <th>2039</th>\n",
       "      <td>JohnsonRole: Senior Sales RepPhone: (408) 555-...</td>\n",
       "      <td>[\"alexjohn@bestbuy.comMailing\", \"mgarcia@bestb...</td>\n",
       "      <td>[\"email\"]</td>\n",
       "      <td>0.5</td>\n",
       "      <td>True</td>\n",
       "    </tr>\n",
       "  </tbody>\n",
       "</table>\n",
       "</div>"
      ],
      "text/plain": [
       "                                                   text  \\\n",
       "1     751-5980 (800) 487-1626 (8 a.m. to 5 p.m. CST,...   \n",
       "569   and Confirming prospectus requirements. Contac...   \n",
       "778   (1)$%(19)(1)%1216%241%272%624%(30)(3)%142%41%(...   \n",
       "2010  (603) 230-5001. After completing Form DP-80, e...   \n",
       "2039  JohnsonRole: Senior Sales RepPhone: (408) 555-...   \n",
       "\n",
       "                                              PII_items  \\\n",
       "1             [\"(800) 487-1626\", \"dls.stat@dss.mo.gov\"]   \n",
       "569                                  [\"(631) 254-7112\"]   \n",
       "778                                   [\"2022 5 2021 4\"]   \n",
       "2010                                 [\"(603) 230-5001\"]   \n",
       "2039  [\"alexjohn@bestbuy.comMailing\", \"mgarcia@bestb...   \n",
       "\n",
       "                      PII_types  PII_score  is_PII  \n",
       "1     [\"email\", \"phone number\"]        0.5    True  \n",
       "569            [\"phone number\"]        0.5    True  \n",
       "778            [\"phone number\"]        0.5    True  \n",
       "2010           [\"phone number\"]        0.5    True  \n",
       "2039                  [\"email\"]        0.5    True  "
      ]
     },
     "metadata": {},
     "output_type": "display_data"
    }
   ],
   "source": [
    "pii_issues = cleanlab_df.query(\"is_PII\").sort_values(\"PII_score\", ascending=False)\n",
    "\n",
    "pii_columns = [\"PII_items\", \"PII_types\", \"PII_score\", \"is_PII\"]\n",
    "columns_to_display = [text_column] + pii_columns\n",
    "\n",
    "print(f\"There are {len(pii_issues)} PII issues in our documents data. Here are some examples below:\\n\")\n",
    "display(pii_issues.head(5)[columns_to_display])"
   ]
  },
  {
   "cell_type": "code",
   "execution_count": 155,
   "id": "ffe9328d",
   "metadata": {},
   "outputs": [
    {
     "data": {
      "text/html": [
       "<div>\n",
       "<style scoped>\n",
       "    .dataframe tbody tr th:only-of-type {\n",
       "        vertical-align: middle;\n",
       "    }\n",
       "\n",
       "    .dataframe tbody tr th {\n",
       "        vertical-align: top;\n",
       "    }\n",
       "\n",
       "    .dataframe thead th {\n",
       "        text-align: right;\n",
       "    }\n",
       "</style>\n",
       "<table border=\"1\" class=\"dataframe\">\n",
       "  <thead>\n",
       "    <tr style=\"text-align: right;\">\n",
       "      <th></th>\n",
       "      <th>text</th>\n",
       "      <th>PII_items</th>\n",
       "      <th>PII_types</th>\n",
       "      <th>PII_score</th>\n",
       "      <th>is_PII</th>\n",
       "    </tr>\n",
       "  </thead>\n",
       "  <tbody>\n",
       "    <tr>\n",
       "      <th>1</th>\n",
       "      <td>751-5980 (800) 487-1626 (8 a.m. to 5 p.m. CST,...</td>\n",
       "      <td>[\"(800) 487-1626\", \"dls.stat@dss.mo.gov\"]</td>\n",
       "      <td>[\"email\", \"phone number\"]</td>\n",
       "      <td>0.5</td>\n",
       "      <td>True</td>\n",
       "    </tr>\n",
       "    <tr>\n",
       "      <th>569</th>\n",
       "      <td>and Confirming prospectus requirements. Contac...</td>\n",
       "      <td>[\"(631) 254-7112\"]</td>\n",
       "      <td>[\"phone number\"]</td>\n",
       "      <td>0.5</td>\n",
       "      <td>True</td>\n",
       "    </tr>\n",
       "    <tr>\n",
       "      <th>778</th>\n",
       "      <td>(1)$%(19)(1)%1216%241%272%624%(30)(3)%142%41%(...</td>\n",
       "      <td>[\"2022 5 2021 4\"]</td>\n",
       "      <td>[\"phone number\"]</td>\n",
       "      <td>0.5</td>\n",
       "      <td>True</td>\n",
       "    </tr>\n",
       "    <tr>\n",
       "      <th>2010</th>\n",
       "      <td>(603) 230-5001. After completing Form DP-80, e...</td>\n",
       "      <td>[\"(603) 230-5001\"]</td>\n",
       "      <td>[\"phone number\"]</td>\n",
       "      <td>0.5</td>\n",
       "      <td>True</td>\n",
       "    </tr>\n",
       "    <tr>\n",
       "      <th>2039</th>\n",
       "      <td>JohnsonRole: Senior Sales RepPhone: (408) 555-...</td>\n",
       "      <td>[\"alexjohn@bestbuy.comMailing\", \"mgarcia@bestb...</td>\n",
       "      <td>[\"email\"]</td>\n",
       "      <td>0.5</td>\n",
       "      <td>True</td>\n",
       "    </tr>\n",
       "    <tr>\n",
       "      <th>...</th>\n",
       "      <td>...</td>\n",
       "      <td>...</td>\n",
       "      <td>...</td>\n",
       "      <td>...</td>\n",
       "      <td>...</td>\n",
       "    </tr>\n",
       "    <tr>\n",
       "      <th>662</th>\n",
       "      <td>that are notpart of a geographic operating seg...</td>\n",
       "      <td>[\"www.secdatabase.com.\"]</td>\n",
       "      <td>[\"URL\"]</td>\n",
       "      <td>0.1</td>\n",
       "      <td>True</td>\n",
       "    </tr>\n",
       "    <tr>\n",
       "      <th>660</th>\n",
       "      <td>reports on Form 10-Q which are available on Na...</td>\n",
       "      <td>[\"http://ir.nasdaq.com\", \"www.sec.gov.\"]</td>\n",
       "      <td>[\"URL\"]</td>\n",
       "      <td>0.1</td>\n",
       "      <td>True</td>\n",
       "    </tr>\n",
       "    <tr>\n",
       "      <th>599</th>\n",
       "      <td>share:Basic$0.94$1.18Diluted$0.93$1.16Weighted...</td>\n",
       "      <td>[\"www.secdatabase.com.\"]</td>\n",
       "      <td>[\"URL\"]</td>\n",
       "      <td>0.1</td>\n",
       "      <td>True</td>\n",
       "    </tr>\n",
       "    <tr>\n",
       "      <th>598</th>\n",
       "      <td>uncertainties that could cause actual results ...</td>\n",
       "      <td>[\"www.secdatabase.com.\"]</td>\n",
       "      <td>[\"URL\"]</td>\n",
       "      <td>0.1</td>\n",
       "      <td>True</td>\n",
       "    </tr>\n",
       "    <tr>\n",
       "      <th>2715</th>\n",
       "      <td>Consider the Environment Before Printing This ...</td>\n",
       "      <td>[\"http://www.nike.com/role/CoverPa\"]</td>\n",
       "      <td>[\"URL\"]</td>\n",
       "      <td>0.1</td>\n",
       "      <td>True</td>\n",
       "    </tr>\n",
       "  </tbody>\n",
       "</table>\n",
       "<p>176 rows × 5 columns</p>\n",
       "</div>"
      ],
      "text/plain": [
       "                                                   text  \\\n",
       "1     751-5980 (800) 487-1626 (8 a.m. to 5 p.m. CST,...   \n",
       "569   and Confirming prospectus requirements. Contac...   \n",
       "778   (1)$%(19)(1)%1216%241%272%624%(30)(3)%142%41%(...   \n",
       "2010  (603) 230-5001. After completing Form DP-80, e...   \n",
       "2039  JohnsonRole: Senior Sales RepPhone: (408) 555-...   \n",
       "...                                                 ...   \n",
       "662   that are notpart of a geographic operating seg...   \n",
       "660   reports on Form 10-Q which are available on Na...   \n",
       "599   share:Basic$0.94$1.18Diluted$0.93$1.16Weighted...   \n",
       "598   uncertainties that could cause actual results ...   \n",
       "2715  Consider the Environment Before Printing This ...   \n",
       "\n",
       "                                              PII_items  \\\n",
       "1             [\"(800) 487-1626\", \"dls.stat@dss.mo.gov\"]   \n",
       "569                                  [\"(631) 254-7112\"]   \n",
       "778                                   [\"2022 5 2021 4\"]   \n",
       "2010                                 [\"(603) 230-5001\"]   \n",
       "2039  [\"alexjohn@bestbuy.comMailing\", \"mgarcia@bestb...   \n",
       "...                                                 ...   \n",
       "662                            [\"www.secdatabase.com.\"]   \n",
       "660            [\"http://ir.nasdaq.com\", \"www.sec.gov.\"]   \n",
       "599                            [\"www.secdatabase.com.\"]   \n",
       "598                            [\"www.secdatabase.com.\"]   \n",
       "2715               [\"http://www.nike.com/role/CoverPa\"]   \n",
       "\n",
       "                      PII_types  PII_score  is_PII  \n",
       "1     [\"email\", \"phone number\"]        0.5    True  \n",
       "569            [\"phone number\"]        0.5    True  \n",
       "778            [\"phone number\"]        0.5    True  \n",
       "2010           [\"phone number\"]        0.5    True  \n",
       "2039                  [\"email\"]        0.5    True  \n",
       "...                         ...        ...     ...  \n",
       "662                     [\"URL\"]        0.1    True  \n",
       "660                     [\"URL\"]        0.1    True  \n",
       "599                     [\"URL\"]        0.1    True  \n",
       "598                     [\"URL\"]        0.1    True  \n",
       "2715                    [\"URL\"]        0.1    True  \n",
       "\n",
       "[176 rows x 5 columns]"
      ]
     },
     "metadata": {},
     "output_type": "display_data"
    }
   ],
   "source": [
    "display(pii_issues[columns_to_display])"
   ]
  },
  {
   "cell_type": "code",
   "execution_count": 156,
   "id": "34f46fa5-88fd-4c3d-89e8-3fd3d1480445",
   "metadata": {},
   "outputs": [
    {
     "name": "stdout",
     "output_type": "stream",
     "text": [
      "There are 187 informal issues in our documents data. Here are some examples below:\n",
      "\n"
     ]
    },
    {
     "data": {
      "text/html": [
       "<div>\n",
       "<style scoped>\n",
       "    .dataframe tbody tr th:only-of-type {\n",
       "        vertical-align: middle;\n",
       "    }\n",
       "\n",
       "    .dataframe tbody tr th {\n",
       "        vertical-align: top;\n",
       "    }\n",
       "\n",
       "    .dataframe thead th {\n",
       "        text-align: right;\n",
       "    }\n",
       "</style>\n",
       "<table border=\"1\" class=\"dataframe\">\n",
       "  <thead>\n",
       "    <tr style=\"text-align: right;\">\n",
       "      <th></th>\n",
       "      <th>text</th>\n",
       "      <th>informal_score</th>\n",
       "      <th>is_informal</th>\n",
       "      <th>spelling_issue_score</th>\n",
       "      <th>grammar_issue_score</th>\n",
       "      <th>slang_issue_score</th>\n",
       "    </tr>\n",
       "  </thead>\n",
       "  <tbody>\n",
       "    <tr>\n",
       "      <th>2055</th>\n",
       "      <td>’04). IAC Travel revenue as if Hotels.com on n...</td>\n",
       "      <td>0.721339</td>\n",
       "      <td>True</td>\n",
       "      <td>0.468085</td>\n",
       "      <td>0.842566</td>\n",
       "      <td>0.726739</td>\n",
       "    </tr>\n",
       "    <tr>\n",
       "      <th>127</th>\n",
       "      <td>Ð²Ñ‹Ñ​Ñ‚Ð°Ð²ÐºÐ°Ñ… Ð¸ ÐºÐ¾Ð½Ñ„ÐµÑ€ÐµÐ½Ñ†Ð¸Ñ​Ñ…...</td>\n",
       "      <td>0.718154</td>\n",
       "      <td>True</td>\n",
       "      <td>1.000000</td>\n",
       "      <td>0.395306</td>\n",
       "      <td>0.900079</td>\n",
       "    </tr>\n",
       "    <tr>\n",
       "      <th>887</th>\n",
       "      <td>LightAluminumLength = 14” Width = 10”Length = ...</td>\n",
       "      <td>0.712504</td>\n",
       "      <td>True</td>\n",
       "      <td>0.647059</td>\n",
       "      <td>0.761268</td>\n",
       "      <td>0.696463</td>\n",
       "    </tr>\n",
       "    <tr>\n",
       "      <th>2063</th>\n",
       "      <td>Ð¿Ñ€ÐµÐ´Ð»Ð°Ð³Ð°ÐµÐ¼.2. Ð£Ñ‡Ð°Ñ​Ñ‚Ð¸Ðµ Ð² Ð²Ñ‹...</td>\n",
       "      <td>0.711850</td>\n",
       "      <td>True</td>\n",
       "      <td>0.941176</td>\n",
       "      <td>0.416568</td>\n",
       "      <td>0.892469</td>\n",
       "    </tr>\n",
       "    <tr>\n",
       "      <th>1028</th>\n",
       "      <td>Ñ„ÐµÑ€Ð¼Ð°Ñ….2. Ð¡ÐµÐ»ÑŒÑ​ÐºÐ¾Ñ…Ð¾Ð·Ñ​Ð¹Ñ​Ñ‚Ð²...</td>\n",
       "      <td>0.700107</td>\n",
       "      <td>True</td>\n",
       "      <td>0.850000</td>\n",
       "      <td>0.443556</td>\n",
       "      <td>0.881711</td>\n",
       "    </tr>\n",
       "  </tbody>\n",
       "</table>\n",
       "</div>"
      ],
      "text/plain": [
       "                                                   text  informal_score  \\\n",
       "2055  ’04). IAC Travel revenue as if Hotels.com on n...        0.721339   \n",
       "127   Ð²Ñ‹Ñ​Ñ‚Ð°Ð²ÐºÐ°Ñ… Ð¸ ÐºÐ¾Ð½Ñ„ÐµÑ€ÐµÐ½Ñ†Ð¸Ñ​Ñ…...        0.718154   \n",
       "887   LightAluminumLength = 14” Width = 10”Length = ...        0.712504   \n",
       "2063  Ð¿Ñ€ÐµÐ´Ð»Ð°Ð³Ð°ÐµÐ¼.2. Ð£Ñ‡Ð°Ñ​Ñ‚Ð¸Ðµ Ð² Ð²Ñ‹...        0.711850   \n",
       "1028  Ñ„ÐµÑ€Ð¼Ð°Ñ….2. Ð¡ÐµÐ»ÑŒÑ​ÐºÐ¾Ñ…Ð¾Ð·Ñ​Ð¹Ñ​Ñ‚Ð²...        0.700107   \n",
       "\n",
       "      is_informal  spelling_issue_score  grammar_issue_score  \\\n",
       "2055         True              0.468085             0.842566   \n",
       "127          True              1.000000             0.395306   \n",
       "887          True              0.647059             0.761268   \n",
       "2063         True              0.941176             0.416568   \n",
       "1028         True              0.850000             0.443556   \n",
       "\n",
       "      slang_issue_score  \n",
       "2055           0.726739  \n",
       "127            0.900079  \n",
       "887            0.696463  \n",
       "2063           0.892469  \n",
       "1028           0.881711  "
      ]
     },
     "metadata": {},
     "output_type": "display_data"
    }
   ],
   "source": [
    "informal_issues = cleanlab_df.query(\"is_informal\").sort_values(\"informal_score\", ascending=False)\n",
    "\n",
    "informal_columns = [\"informal_score\", \"is_informal\", 'spelling_issue_score', 'grammar_issue_score', 'slang_issue_score']\n",
    "columns_to_display = [text_column] + informal_columns\n",
    "\n",
    "print(f\"There are {len(informal_issues)} informal issues in our documents data. Here are some examples below:\\n\")\n",
    "display(informal_issues.head(5)[columns_to_display])"
   ]
  },
  {
   "cell_type": "code",
   "execution_count": 157,
   "id": "e8cae1a8-42ec-4d92-b33b-e51d509d36d3",
   "metadata": {},
   "outputs": [
    {
     "name": "stdout",
     "output_type": "stream",
     "text": [
      "There are 1 biased issues in our documents data.\n"
     ]
    },
    {
     "data": {
      "text/html": [
       "<div>\n",
       "<style scoped>\n",
       "    .dataframe tbody tr th:only-of-type {\n",
       "        vertical-align: middle;\n",
       "    }\n",
       "\n",
       "    .dataframe tbody tr th {\n",
       "        vertical-align: top;\n",
       "    }\n",
       "\n",
       "    .dataframe thead th {\n",
       "        text-align: right;\n",
       "    }\n",
       "</style>\n",
       "<table border=\"1\" class=\"dataframe\">\n",
       "  <thead>\n",
       "    <tr style=\"text-align: right;\">\n",
       "      <th></th>\n",
       "      <th>text</th>\n",
       "      <th>bias_score</th>\n",
       "      <th>is_biased</th>\n",
       "      <th>gender_bias_score</th>\n",
       "      <th>racial_bias_score</th>\n",
       "      <th>sexual_orientation_bias_score</th>\n",
       "    </tr>\n",
       "  </thead>\n",
       "  <tbody>\n",
       "    <tr>\n",
       "      <th>47</th>\n",
       "      <td>Company takes the problem of drug and alcohol ...</td>\n",
       "      <td>0.826465</td>\n",
       "      <td>True</td>\n",
       "      <td>0.826465</td>\n",
       "      <td>0.200439</td>\n",
       "      <td>0.604492</td>\n",
       "    </tr>\n",
       "  </tbody>\n",
       "</table>\n",
       "</div>"
      ],
      "text/plain": [
       "                                                 text  bias_score  is_biased  \\\n",
       "47  Company takes the problem of drug and alcohol ...    0.826465       True   \n",
       "\n",
       "    gender_bias_score  racial_bias_score  sexual_orientation_bias_score  \n",
       "47           0.826465           0.200439                       0.604492  "
      ]
     },
     "metadata": {},
     "output_type": "display_data"
    }
   ],
   "source": [
    "biased_issues = cleanlab_df.query(\"is_biased\").sort_values(\"bias_score\", ascending=False)\n",
    "\n",
    "biased_columns = [\"bias_score\", \"is_biased\", 'gender_bias_score', 'racial_bias_score', 'sexual_orientation_bias_score']\n",
    "columns_to_display = [text_column] + biased_columns\n",
    "\n",
    "print(f\"There are {len(biased_issues)} biased issues in our documents data.\")\n",
    "display(biased_issues.head(5)[columns_to_display])"
   ]
  },
  {
   "cell_type": "code",
   "execution_count": 158,
   "id": "13a7da97-412e-47c5-a3a5-117819a3e177",
   "metadata": {},
   "outputs": [
    {
     "name": "stdout",
     "output_type": "stream",
     "text": [
      "There are 5 toxic issues in our documents data. Here are some examples below:\n",
      "\n"
     ]
    },
    {
     "data": {
      "text/html": [
       "<div>\n",
       "<style scoped>\n",
       "    .dataframe tbody tr th:only-of-type {\n",
       "        vertical-align: middle;\n",
       "    }\n",
       "\n",
       "    .dataframe tbody tr th {\n",
       "        vertical-align: top;\n",
       "    }\n",
       "\n",
       "    .dataframe thead th {\n",
       "        text-align: right;\n",
       "    }\n",
       "</style>\n",
       "<table border=\"1\" class=\"dataframe\">\n",
       "  <thead>\n",
       "    <tr style=\"text-align: right;\">\n",
       "      <th></th>\n",
       "      <th>text</th>\n",
       "      <th>is_toxic</th>\n",
       "      <th>toxic_score</th>\n",
       "    </tr>\n",
       "  </thead>\n",
       "  <tbody>\n",
       "    <tr>\n",
       "      <th>1022</th>\n",
       "      <td>YOU ARE A HORRIBLE CFO why in the world would ...</td>\n",
       "      <td>True</td>\n",
       "      <td>0.858887</td>\n",
       "    </tr>\n",
       "    <tr>\n",
       "      <th>1308</th>\n",
       "      <td>fun of or making derogatory remarks about some...</td>\n",
       "      <td>True</td>\n",
       "      <td>0.840820</td>\n",
       "    </tr>\n",
       "    <tr>\n",
       "      <th>1996</th>\n",
       "      <td>To the HR Department,GO DIE!It's become increa...</td>\n",
       "      <td>True</td>\n",
       "      <td>0.834473</td>\n",
       "    </tr>\n",
       "    <tr>\n",
       "      <th>638</th>\n",
       "      <td>not use social networking accounts to harass, ...</td>\n",
       "      <td>True</td>\n",
       "      <td>0.816895</td>\n",
       "    </tr>\n",
       "    <tr>\n",
       "      <th>57</th>\n",
       "      <td>I hope this email finds you well – though with...</td>\n",
       "      <td>True</td>\n",
       "      <td>0.812500</td>\n",
       "    </tr>\n",
       "  </tbody>\n",
       "</table>\n",
       "</div>"
      ],
      "text/plain": [
       "                                                   text  is_toxic  toxic_score\n",
       "1022  YOU ARE A HORRIBLE CFO why in the world would ...      True     0.858887\n",
       "1308  fun of or making derogatory remarks about some...      True     0.840820\n",
       "1996  To the HR Department,GO DIE!It's become increa...      True     0.834473\n",
       "638   not use social networking accounts to harass, ...      True     0.816895\n",
       "57    I hope this email finds you well – though with...      True     0.812500"
      ]
     },
     "metadata": {},
     "output_type": "display_data"
    }
   ],
   "source": [
    "toxic_issues = cleanlab_df.query(\"is_toxic\").sort_values(\"toxic_score\", ascending=False)\n",
    "\n",
    "toxic_columns = ['is_toxic', 'toxic_score']\n",
    "columns_to_display = [text_column] + toxic_columns\n",
    "\n",
    "print(f\"There are {len(toxic_issues)} toxic issues in our documents data. Here are some examples below:\\n\")\n",
    "display(toxic_issues.head(5)[columns_to_display])"
   ]
  },
  {
   "cell_type": "code",
   "execution_count": 159,
   "id": "79918402-b267-4dad-9969-d8a49e943776",
   "metadata": {},
   "outputs": [
    {
     "name": "stdout",
     "output_type": "stream",
     "text": [
      "There are 55 non English issues in our documents data. Here are some examples below:\n",
      "\n"
     ]
    },
    {
     "data": {
      "text/html": [
       "<div>\n",
       "<style scoped>\n",
       "    .dataframe tbody tr th:only-of-type {\n",
       "        vertical-align: middle;\n",
       "    }\n",
       "\n",
       "    .dataframe tbody tr th {\n",
       "        vertical-align: top;\n",
       "    }\n",
       "\n",
       "    .dataframe thead th {\n",
       "        text-align: right;\n",
       "    }\n",
       "</style>\n",
       "<table border=\"1\" class=\"dataframe\">\n",
       "  <thead>\n",
       "    <tr style=\"text-align: right;\">\n",
       "      <th></th>\n",
       "      <th>text</th>\n",
       "      <th>is_non_english</th>\n",
       "      <th>non_english_score</th>\n",
       "      <th>predicted_language</th>\n",
       "    </tr>\n",
       "  </thead>\n",
       "  <tbody>\n",
       "    <tr>\n",
       "      <th>127</th>\n",
       "      <td>Ð²Ñ‹Ñ​Ñ‚Ð°Ð²ÐºÐ°Ñ… Ð¸ ÐºÐ¾Ð½Ñ„ÐµÑ€ÐµÐ½Ñ†Ð¸Ñ​Ñ…...</td>\n",
       "      <td>True</td>\n",
       "      <td>0.989548</td>\n",
       "      <td>&lt;NA&gt;</td>\n",
       "    </tr>\n",
       "    <tr>\n",
       "      <th>256</th>\n",
       "      <td>Ð¾Ð·Ñ​Ð¹Ñ​Ñ‚Ð²ÐµÐ½Ð½Ñ‹Ñ… Ñ€ÐµÑˆÐµÐ½Ð¸Ð¹ Ð´Ð»Ñ​...</td>\n",
       "      <td>True</td>\n",
       "      <td>0.989083</td>\n",
       "      <td>&lt;NA&gt;</td>\n",
       "    </tr>\n",
       "    <tr>\n",
       "      <th>255</th>\n",
       "      <td>ÐºÐ°Ð¼Ð¿Ð°Ð½Ð¸Ð¸ Ð¸ Ñ€ÐµÐºÐ»Ð°Ð¼Ð½Ñ‹Ðµ Ð°ÐºÑ†Ð...</td>\n",
       "      <td>True</td>\n",
       "      <td>0.988594</td>\n",
       "      <td>&lt;NA&gt;</td>\n",
       "    </tr>\n",
       "    <tr>\n",
       "      <th>2071</th>\n",
       "      <td>Ð²Ð°ÑˆÐ¸Ñ… Ñ†ÐµÐ»ÐµÐ¹ Ð² Ñ​ÐµÐ»ÑŒÑ​ÐºÐ¾Ð¼ Ñ…Ð¾...</td>\n",
       "      <td>True</td>\n",
       "      <td>0.987874</td>\n",
       "      <td>&lt;NA&gt;</td>\n",
       "    </tr>\n",
       "    <tr>\n",
       "      <th>515</th>\n",
       "      <td>Ñ€Ð°Ð·Ñ€Ð°Ð±Ð¾Ñ‚ÐºÐµ ÑƒÐ¼Ð½Ñ‹Ñ… Ñ​ÐµÐ»ÑŒÑ​ÐºÐ¾...</td>\n",
       "      <td>True</td>\n",
       "      <td>0.987554</td>\n",
       "      <td>&lt;NA&gt;</td>\n",
       "    </tr>\n",
       "  </tbody>\n",
       "</table>\n",
       "</div>"
      ],
      "text/plain": [
       "                                                   text  is_non_english  \\\n",
       "127   Ð²Ñ‹Ñ​Ñ‚Ð°Ð²ÐºÐ°Ñ… Ð¸ ÐºÐ¾Ð½Ñ„ÐµÑ€ÐµÐ½Ñ†Ð¸Ñ​Ñ…...            True   \n",
       "256   Ð¾Ð·Ñ​Ð¹Ñ​Ñ‚Ð²ÐµÐ½Ð½Ñ‹Ñ… Ñ€ÐµÑˆÐµÐ½Ð¸Ð¹ Ð´Ð»Ñ​...            True   \n",
       "255   ÐºÐ°Ð¼Ð¿Ð°Ð½Ð¸Ð¸ Ð¸ Ñ€ÐµÐºÐ»Ð°Ð¼Ð½Ñ‹Ðµ Ð°ÐºÑ†Ð...            True   \n",
       "2071  Ð²Ð°ÑˆÐ¸Ñ… Ñ†ÐµÐ»ÐµÐ¹ Ð² Ñ​ÐµÐ»ÑŒÑ​ÐºÐ¾Ð¼ Ñ…Ð¾...            True   \n",
       "515   Ñ€Ð°Ð·Ñ€Ð°Ð±Ð¾Ñ‚ÐºÐµ ÑƒÐ¼Ð½Ñ‹Ñ… Ñ​ÐµÐ»ÑŒÑ​ÐºÐ¾...            True   \n",
       "\n",
       "      non_english_score predicted_language  \n",
       "127            0.989548               <NA>  \n",
       "256            0.989083               <NA>  \n",
       "255            0.988594               <NA>  \n",
       "2071           0.987874               <NA>  \n",
       "515            0.987554               <NA>  "
      ]
     },
     "metadata": {},
     "output_type": "display_data"
    }
   ],
   "source": [
    "non_english_issues = cleanlab_df.query(\"is_non_english\").sort_values(\"non_english_score\", ascending=False)\n",
    "\n",
    "non_english_columns = ['is_non_english', 'non_english_score', 'predicted_language']\n",
    "columns_to_display = [text_column] + non_english_columns\n",
    "\n",
    "print(f\"There are {len(non_english_issues)} non English issues in our documents data. Here are some examples below:\\n\")\n",
    "display(non_english_issues.head(5)[columns_to_display])"
   ]
  },
  {
   "cell_type": "markdown",
   "id": "1d288882",
   "metadata": {},
   "source": [
    "We have observed the capabilities that Cleanlab Studio can provide in detecting these text-specific issues, so let's now:\n",
    "\n",
    "1. Filter for the chunks that have the issues detected by Cleanlab\n",
    "2. Update our Pinecone DB by removing the chunks with any of the issues detected by Cleanlab\n",
    "3. Verify that the update to our Pinecone DB worked"
   ]
  },
  {
   "cell_type": "code",
   "execution_count": 160,
   "id": "c0a1fb73-3d63-4ce1-946c-2d95cd3acb1a",
   "metadata": {},
   "outputs": [],
   "source": [
    "is_columns = [col for col in cleanlab_df.columns if col.startswith('is_')]\n",
    "\n",
    "# Filter out rows where any of the issue type columns have a value of True to get only the rows in which there are no Cleanlab issues detected\n",
    "filtered_df = cleanlab_df[~cleanlab_df[is_columns].any(axis=1)]"
   ]
  },
  {
   "cell_type": "code",
   "execution_count": 161,
   "id": "89748294-c413-4ba8-9edd-85e06abf02f9",
   "metadata": {},
   "outputs": [
    {
     "data": {
      "text/html": [
       "<div>\n",
       "<style scoped>\n",
       "    .dataframe tbody tr th:only-of-type {\n",
       "        vertical-align: middle;\n",
       "    }\n",
       "\n",
       "    .dataframe tbody tr th {\n",
       "        vertical-align: top;\n",
       "    }\n",
       "\n",
       "    .dataframe thead th {\n",
       "        text-align: right;\n",
       "    }\n",
       "</style>\n",
       "<table border=\"1\" class=\"dataframe\">\n",
       "  <thead>\n",
       "    <tr style=\"text-align: right;\">\n",
       "      <th></th>\n",
       "      <th>chunk_id</th>\n",
       "      <th>chunk_index</th>\n",
       "      <th>filename</th>\n",
       "      <th>quality</th>\n",
       "      <th>text</th>\n",
       "      <th>topic</th>\n",
       "      <th>total_chunks</th>\n",
       "    </tr>\n",
       "  </thead>\n",
       "  <tbody>\n",
       "    <tr>\n",
       "      <th>0</th>\n",
       "      <td>1d38c13a-0dac-4cdd-9c3e-412ca97c871e</td>\n",
       "      <td>4.0</td>\n",
       "      <td>documents/Walmart_2022_Investor_Information.pdf</td>\n",
       "      <td>unknown</td>\n",
       "      <td>follows:2023HighLow1st Quarter(1)$146.94$132.0...</td>\n",
       "      <td>finance</td>\n",
       "      <td>9.0</td>\n",
       "    </tr>\n",
       "    <tr>\n",
       "      <th>2</th>\n",
       "      <td>afe7e494-26df-4a0e-91f3-16b7d0d66849</td>\n",
       "      <td>139.0</td>\n",
       "      <td>documents/Investor_Transcript_2023-10-26.pdf</td>\n",
       "      <td>unknown</td>\n",
       "      <td>PROVIDE AN ACCURATE TRANSCRIPTION, THERE MAY B...</td>\n",
       "      <td>finance</td>\n",
       "      <td>141.0</td>\n",
       "    </tr>\n",
       "    <tr>\n",
       "      <th>3</th>\n",
       "      <td>4f2ad85b-2a39-4e63-b197-7f5beb6eeeb4</td>\n",
       "      <td>5.0</td>\n",
       "      <td>documents/2012_14.doc</td>\n",
       "      <td>unknown</td>\n",
       "      <td>Pay transactions on HUE01 using the following ...</td>\n",
       "      <td>finance</td>\n",
       "      <td>17.0</td>\n",
       "    </tr>\n",
       "    <tr>\n",
       "      <th>5</th>\n",
       "      <td>6b374c4f-e0cd-496b-8a85-cecbe74807df</td>\n",
       "      <td>1.0</td>\n",
       "      <td>documents/plug-test-caps.pdf</td>\n",
       "      <td>unknown</td>\n",
       "      <td>Low Pressure Glue-On Test PlugWarranty See war...</td>\n",
       "      <td>product</td>\n",
       "      <td>2.0</td>\n",
       "    </tr>\n",
       "    <tr>\n",
       "      <th>7</th>\n",
       "      <td>aaacbcf1-63eb-4096-b30e-dc936f8d1eee</td>\n",
       "      <td>0.0</td>\n",
       "      <td>documents/NHO 2015 - 2016_6-15.pps</td>\n",
       "      <td>unknown</td>\n",
       "      <td>Tennessee State UniversityNew EmployeeBenefits...</td>\n",
       "      <td>finance</td>\n",
       "      <td>25.0</td>\n",
       "    </tr>\n",
       "  </tbody>\n",
       "</table>\n",
       "</div>"
      ],
      "text/plain": [
       "                               chunk_id  chunk_index  \\\n",
       "0  1d38c13a-0dac-4cdd-9c3e-412ca97c871e          4.0   \n",
       "2  afe7e494-26df-4a0e-91f3-16b7d0d66849        139.0   \n",
       "3  4f2ad85b-2a39-4e63-b197-7f5beb6eeeb4          5.0   \n",
       "5  6b374c4f-e0cd-496b-8a85-cecbe74807df          1.0   \n",
       "7  aaacbcf1-63eb-4096-b30e-dc936f8d1eee          0.0   \n",
       "\n",
       "                                          filename  quality  \\\n",
       "0  documents/Walmart_2022_Investor_Information.pdf  unknown   \n",
       "2     documents/Investor_Transcript_2023-10-26.pdf  unknown   \n",
       "3                            documents/2012_14.doc  unknown   \n",
       "5                     documents/plug-test-caps.pdf  unknown   \n",
       "7               documents/NHO 2015 - 2016_6-15.pps  unknown   \n",
       "\n",
       "                                                text    topic  total_chunks  \n",
       "0  follows:2023HighLow1st Quarter(1)$146.94$132.0...  finance           9.0  \n",
       "2  PROVIDE AN ACCURATE TRANSCRIPTION, THERE MAY B...  finance         141.0  \n",
       "3  Pay transactions on HUE01 using the following ...  finance          17.0  \n",
       "5  Low Pressure Glue-On Test PlugWarranty See war...  product           2.0  \n",
       "7  Tennessee State UniversityNew EmployeeBenefits...  finance          25.0  "
      ]
     },
     "execution_count": 161,
     "metadata": {},
     "output_type": "execute_result"
    }
   ],
   "source": [
    "# Display the filtered DataFrame using only the document data columns\n",
    "filtered_df = filtered_df[document_data_columns]\n",
    "filtered_df.head()"
   ]
  },
  {
   "cell_type": "code",
   "execution_count": 164,
   "id": "b5300182",
   "metadata": {},
   "outputs": [],
   "source": [
    "# Get the subset of the DataFrame that contains the chunks with issues\n",
    "chunks_to_delete_df = cleanlab_df[cleanlab_df[is_columns].any(axis=1)][document_data_columns]\n",
    "\n",
    "# Get the chunk IDs for the chunks that have issues to update our Pinecone index\n",
    "chunks_to_delete_ids = chunks_to_delete_df['chunk_id'].tolist()"
   ]
  },
  {
   "cell_type": "code",
   "execution_count": 228,
   "id": "a17491e7",
   "metadata": {},
   "outputs": [],
   "source": [
    "# Confirm the number of chunks to delete is equal to the total number of chunks minus the number of filtered chunks we have after removing Cleanlab detected issues\n",
    "assert(len(chunk_df) - len(filtered_df) == len(chunks_to_delete_ids))"
   ]
  },
  {
   "cell_type": "code",
   "execution_count": 170,
   "id": "8b054428",
   "metadata": {},
   "outputs": [
    {
     "name": "stdout",
     "output_type": "stream",
     "text": [
      "Successfully deleted 509 chunks from the index.\n",
      "Finished deletion process for 509 chunks.\n"
     ]
    }
   ],
   "source": [
    "# Delete the identified chunks from the index\n",
    "rag_pipeline.delete_chunks(chunks_to_delete_ids)"
   ]
  },
  {
   "cell_type": "code",
   "execution_count": 171,
   "id": "00245478",
   "metadata": {},
   "outputs": [
    {
     "name": "stdout",
     "output_type": "stream",
     "text": [
      "Index name: cleanlab-pinecone-index\n",
      "Total vectors according to stats: 2207\n",
      "Vector dimension: 384\n",
      "Total chunks retrieved: 2207\n"
     ]
    },
    {
     "data": {
      "text/html": [
       "<div>\n",
       "<style scoped>\n",
       "    .dataframe tbody tr th:only-of-type {\n",
       "        vertical-align: middle;\n",
       "    }\n",
       "\n",
       "    .dataframe tbody tr th {\n",
       "        vertical-align: top;\n",
       "    }\n",
       "\n",
       "    .dataframe thead th {\n",
       "        text-align: right;\n",
       "    }\n",
       "</style>\n",
       "<table border=\"1\" class=\"dataframe\">\n",
       "  <thead>\n",
       "    <tr style=\"text-align: right;\">\n",
       "      <th></th>\n",
       "      <th>chunk_id</th>\n",
       "      <th>chunk_index</th>\n",
       "      <th>filename</th>\n",
       "      <th>quality</th>\n",
       "      <th>text</th>\n",
       "      <th>topic</th>\n",
       "      <th>total_chunks</th>\n",
       "    </tr>\n",
       "  </thead>\n",
       "  <tbody>\n",
       "    <tr>\n",
       "      <th>0</th>\n",
       "      <td>0b40f9e7-7c5a-463c-80a6-3e61293be98c</td>\n",
       "      <td>2.0</td>\n",
       "      <td>documents/Blackstone-Third-Quarter-2023-Invest...</td>\n",
       "      <td>good</td>\n",
       "      <td>release and slide presentation, which are avai...</td>\n",
       "      <td>finance</td>\n",
       "      <td>127.0</td>\n",
       "    </tr>\n",
       "    <tr>\n",
       "      <th>1</th>\n",
       "      <td>76383af4-6812-4afa-8e63-e5e6818e7876</td>\n",
       "      <td>3.0</td>\n",
       "      <td>documents/Blackstone-Third-Quarter-2023-Invest...</td>\n",
       "      <td>good</td>\n",
       "      <td>10-K We'll also refer to certain non-GAAP meas...</td>\n",
       "      <td>finance</td>\n",
       "      <td>127.0</td>\n",
       "    </tr>\n",
       "    <tr>\n",
       "      <th>2</th>\n",
       "      <td>366d2c66-2501-4c63-ae9d-ce14b4fa439e</td>\n",
       "      <td>4.0</td>\n",
       "      <td>documents/Blackstone-Third-Quarter-2023-Invest...</td>\n",
       "      <td>good</td>\n",
       "      <td>$1.2 billion, or $0.94 per common share, and w...</td>\n",
       "      <td>finance</td>\n",
       "      <td>127.0</td>\n",
       "    </tr>\n",
       "    <tr>\n",
       "      <th>3</th>\n",
       "      <td>f033924c-1511-4286-9984-d0681b9e0268</td>\n",
       "      <td>5.0</td>\n",
       "      <td>documents/Blackstone-Third-Quarter-2023-Invest...</td>\n",
       "      <td>good</td>\n",
       "      <td>shared human values, and we are deeply saddene...</td>\n",
       "      <td>finance</td>\n",
       "      <td>127.0</td>\n",
       "    </tr>\n",
       "    <tr>\n",
       "      <th>4</th>\n",
       "      <td>b63bd1dc-42f3-47f9-8a3b-2fa82f5e398f</td>\n",
       "      <td>6.0</td>\n",
       "      <td>documents/Blackstone-Third-Quarter-2023-Invest...</td>\n",
       "      <td>good</td>\n",
       "      <td>year-to-year basis. Higher interest rates, alo...</td>\n",
       "      <td>finance</td>\n",
       "      <td>127.0</td>\n",
       "    </tr>\n",
       "  </tbody>\n",
       "</table>\n",
       "</div>"
      ],
      "text/plain": [
       "                               chunk_id  chunk_index  \\\n",
       "0  0b40f9e7-7c5a-463c-80a6-3e61293be98c          2.0   \n",
       "1  76383af4-6812-4afa-8e63-e5e6818e7876          3.0   \n",
       "2  366d2c66-2501-4c63-ae9d-ce14b4fa439e          4.0   \n",
       "3  f033924c-1511-4286-9984-d0681b9e0268          5.0   \n",
       "4  b63bd1dc-42f3-47f9-8a3b-2fa82f5e398f          6.0   \n",
       "\n",
       "                                            filename quality  \\\n",
       "0  documents/Blackstone-Third-Quarter-2023-Invest...    good   \n",
       "1  documents/Blackstone-Third-Quarter-2023-Invest...    good   \n",
       "2  documents/Blackstone-Third-Quarter-2023-Invest...    good   \n",
       "3  documents/Blackstone-Third-Quarter-2023-Invest...    good   \n",
       "4  documents/Blackstone-Third-Quarter-2023-Invest...    good   \n",
       "\n",
       "                                                text    topic  total_chunks  \n",
       "0  release and slide presentation, which are avai...  finance         127.0  \n",
       "1  10-K We'll also refer to certain non-GAAP meas...  finance         127.0  \n",
       "2  $1.2 billion, or $0.94 per common share, and w...  finance         127.0  \n",
       "3  shared human values, and we are deeply saddene...  finance         127.0  \n",
       "4  year-to-year basis. Higher interest rates, alo...  finance         127.0  "
      ]
     },
     "execution_count": 171,
     "metadata": {},
     "output_type": "execute_result"
    }
   ],
   "source": [
    "# Sleep timer to allow the deletion process to complete\n",
    "time.sleep(30)\n",
    "\n",
    "# Verify the update went through and we have the correct number of chunks\n",
    "updated_chunks_df = rag_pipeline.extract_chunks_from_index()\n",
    "updated_chunks_df.head()"
   ]
  },
  {
   "cell_type": "markdown",
   "id": "7eb9c280-1c36-4bd5-8bf4-e3a09059353d",
   "metadata": {},
   "source": [
    "### How to search for documents with metadata\n",
    "\n",
    "Below is an example on how you can search for your curated documents based on a query of your choice and use metadata to help filter for the relevant information. \n",
    "\n",
    "In this case, we specify `topic = finance` and `quality = good` to find the `top k` (where k is number of results to return and equal to 2 here) documents that best match the search query/metadata filters."
   ]
  },
  {
   "cell_type": "code",
   "execution_count": 173,
   "id": "f825333b-f2aa-44fb-9bcb-40ef6d3cd72b",
   "metadata": {},
   "outputs": [
    {
     "name": "stdout",
     "output_type": "stream",
     "text": [
      "Document: demand is there? How do you manage that? Is that perhaps by having a large proportion that you can a...\n",
      "Metadata: {'chunk_id': '3d033601-ecd2-4d20-a69e-db85fcd35c3f', 'chunk_index': 122.0, 'filename': 'documents/Blackstone-Third-Quarter-2023-Investor-Call.pdf', 'quality': 'good', 'topic': 'finance', 'total_chunks': 127.0}\n",
      "---\n",
      "Document: %20 %12 %2 %5 %15 %—13 %Cover Page Cover PageSep. 29, 2022Cover [Abstract] Document Type Document Pe...\n",
      "Metadata: {'chunk_id': '77a9db10-bd1c-46f9-b158-56a124d59205', 'chunk_index': 36.0, 'filename': 'documents/8k-nike.pdf', 'quality': 'good', 'topic': 'finance', 'total_chunks': 70.0}\n",
      "---\n"
     ]
    }
   ],
   "source": [
    "results = rag_pipeline.search(\n",
    "    query=\"YOUR SEARCH QUERY HERE\",\n",
    "    top_k=2,\n",
    "    filter_query={\n",
    "        \"topic\": {\"$eq\": \"finance\"},\n",
    "        \"quality\": {\"$eq\": \"good\"}\n",
    "    }\n",
    ")\n",
    "\n",
    "for doc_text, metadata in results:\n",
    "    print(f\"Document: {doc_text[:100]}...\")\n",
    "    print(f\"Metadata: {metadata}\")\n",
    "    print(\"---\")"
   ]
  },
  {
   "cell_type": "markdown",
   "id": "160b19ad",
   "metadata": {},
   "source": [
    "\n",
    "Suppose our application asks this user which topic their question is about from a pre-defined list. Alternatively, we could train a classifier to predict the topic from the question (automatically using Cleanlab Studio AutoML).\n",
    "\n",
    "Below, you can specify the topic (or other metadata) when filtering to help search for the relevant content in your RAG index."
   ]
  },
  {
   "cell_type": "code",
   "execution_count": 174,
   "id": "379aa3bf-c488-46ff-8c4a-6a52e6e49c89",
   "metadata": {},
   "outputs": [
    {
     "name": "stdout",
     "output_type": "stream",
     "text": [
      "Top doc for this query: \n",
      "\n",
      "('Welcome to the topic on the sales process.In this topic, we will examine the basic steps in the sales process in SAP Business One. Then we will perform a streamlined sales process.2Imagine that your company has set customer satisfaction as its top priority. You review the basic steps in the sales process and decide to use a streamlined process for rush orders to ensure that customer demands can be met as quickly as possible.3(cid:132) The sales-A/R process moves', {'chunk_id': '6ddd27d2-7f72-451f-93a6-afd8f8c15907', 'chunk_index': 0.0, 'filename': 'documents/sap-sales-overview.pdf', 'quality': 'unknown', 'topic': 'sales', 'total_chunks': 15.0})\n"
     ]
    }
   ],
   "source": [
    "# Simple query regarding our documents\n",
    "question = \"Tell me about the sales principles at SAP Business One\"\n",
    "\n",
    "top_doc = rag_pipeline.search(question, top_k=1, filter_query={\"topic\": {\"$eq\": \"sales\"}})\n",
    "print(f\"Top doc for this query: \\n\\n{top_doc[0]}\")"
   ]
  },
  {
   "cell_type": "markdown",
   "id": "2de70264-3808-49df-bad1-87673534453d",
   "metadata": {},
   "source": [
    "## Use TLM to get Trustworthiness Score for RAG Outputs"
   ]
  },
  {
   "cell_type": "markdown",
   "id": "d2f32e3c-3933-4544-aa39-49cdc8437e45",
   "metadata": {},
   "source": [
    "### Build the Prompt"
   ]
  },
  {
   "cell_type": "code",
   "execution_count": 194,
   "id": "a49ada0f-b00a-4a2a-aedf-a008219fda66",
   "metadata": {},
   "outputs": [
    {
     "data": {
      "text/plain": [
       "{'response': 'In SAP Business One, item information is typically stored in the item master data. This master data includes details about each item, such as its description, pricing, inventory levels, and other relevant attributes. This information is then utilized throughout the sales process, from creating sales orders to invoicing and delivery, ensuring that all relevant data is consistently available and updated across the various documents involved in the sales workflow.',\n",
       " 'trustworthiness_score': 0.9196129070099817}"
      ]
     },
     "execution_count": 194,
     "metadata": {},
     "output_type": "execute_result"
    }
   ],
   "source": [
    "question = \"Based on the sales principles at SAP Business One, where is item information stored?\"\n",
    "top_docs = \"\".join(rag_pipeline.search(question, top_k=1, filter_query={\"topic\": {\"$eq\": \"sales\"}})[0][0])\n",
    "\n",
    "\n",
    "prompt = f\"Based on the following documents, answer the given question. \\n\\\n",
    "Documents: {top_docs} \\n\\\n",
    "Question: {question}\""
   ]
  },
  {
   "cell_type": "markdown",
   "id": "889207a3",
   "metadata": {},
   "source": [
    "### Instantiate and Query TLM\n",
    "\n",
    "Using the `studio` object we instantiated earlier, we will a Cleanlab [Trustworthy Language Model (TLM)](https://cleanlab.ai/tlm/) object. You can use the TLM pretty much like any other LLM API.\n",
    "\n",
    "We also specify a `quality_preset`: An optional preset configuration to control the quality of TLM responses and trustworthiness scores vs. runtimes/costs. The default quality is `medium`, see more details about the various presets [here](https://help.cleanlab.ai/reference/python/trustworthy_language_model/#class-tlm).\n",
    "\n",
    "Below we are using `quality_preset='low'` to optimize for speed/cost over accuracy. You can try setting the `quality_preset='best'` to get even more accurate LLM answers along with the trustworthiness scores.\n"
   ]
  },
  {
   "cell_type": "code",
   "execution_count": 195,
   "id": "1f9694bf",
   "metadata": {},
   "outputs": [],
   "source": [
    "tlm = studio.TLM(quality_preset=\"low\")"
   ]
  },
  {
   "cell_type": "markdown",
   "id": "57bec132",
   "metadata": {},
   "source": [
    "Now let's quey TLM using the prompt we previously created using our user query + document context passed from our RAG Pinecone index."
   ]
  },
  {
   "cell_type": "code",
   "execution_count": 196,
   "id": "7c3f8830",
   "metadata": {},
   "outputs": [
    {
     "data": {
      "text/plain": [
       "{'response': 'In SAP Business One, item information is typically stored in the item master data. This master data includes details about each item, such as its description, pricing, inventory levels, and other relevant attributes. This information is then utilized throughout the sales process, from creating sales orders to invoicing and delivery, ensuring that all relevant data is consistently available and updated across the various documents involved in the sales workflow.',\n",
       " 'trustworthiness_score': 0.9196129070099817}"
      ]
     },
     "execution_count": 196,
     "metadata": {},
     "output_type": "execute_result"
    }
   ],
   "source": [
    "output = tlm.prompt(prompt)\n",
    "output"
   ]
  },
  {
   "cell_type": "markdown",
   "id": "e9a8dcac-518d-420c-aee5-51f8566bfe31",
   "metadata": {},
   "source": [
    "### Is this response correct?"
   ]
  },
  {
   "cell_type": "code",
   "execution_count": 192,
   "id": "6ece66fa-b3f5-4167-b9c4-7af3c265f336",
   "metadata": {},
   "outputs": [
    {
     "data": {
      "text/plain": [
       "'Like customer master data, item information is stored in master data records.'"
      ]
     },
     "execution_count": 192,
     "metadata": {},
     "output_type": "execute_result"
    }
   ],
   "source": [
    "df.iloc[78][\"text\"][3063:3140]\n"
   ]
  },
  {
   "cell_type": "markdown",
   "id": "7ee253b8-1ecf-4ea2-a423-13bbe016e11e",
   "metadata": {},
   "source": [
    "### Can we find a hallucination?"
   ]
  },
  {
   "cell_type": "code",
   "execution_count": 226,
   "id": "214fe620",
   "metadata": {},
   "outputs": [
    {
     "data": {
      "text/plain": [
       "{'response': 'Yes, the TurboCharge EV6000 supports the CCS/CE/ISO charger protocols.',\n",
       " 'trustworthiness_score': 0.6108415301123387}"
      ]
     },
     "execution_count": 226,
     "metadata": {},
     "output_type": "execute_result"
    }
   ],
   "source": [
    "question = \"Does the TurboCharge EV6000 support the CCS/CE/ISO charger protocols?. Answer succinctly.\"\n",
    "top_docs = \" | \".join(rag_pipeline.search(question, top_k=1, filter_query={\"topic\": {\"$eq\": \"product\"}})[0][0])\n",
    "\n",
    "\n",
    "prompt = f\"Based on the following documents, answer the given question. \\n\\\n",
    "Documents: {top_docs} \\n\\\n",
    "Question: {question}\"\n",
    "\n",
    "# Runs the Cleanlab TLM with confidence reliablity scores on cheaper model with default quality preset\n",
    "tlm_35_turbo = studio.TLM(options={\"model\":\"gpt-3.5-turbo-16k\"})\n",
    "output = tlm_35_turbo.prompt(prompt)\n",
    "output"
   ]
  },
  {
   "cell_type": "markdown",
   "id": "0b2ea643-4621-4d3c-8bf7-afc438e65fa3",
   "metadata": {},
   "source": [
    "### Is this correct?"
   ]
  },
  {
   "cell_type": "code",
   "execution_count": 227,
   "id": "0f4ae7e8-c60a-4bcb-8f9f-8c19811c61b0",
   "metadata": {},
   "outputs": [
    {
     "data": {
      "text/plain": [
       "'Charging Standards CHAdeMO, CCS, Tesla Supercharger Supported'"
      ]
     },
     "execution_count": 227,
     "metadata": {},
     "output_type": "execute_result"
    }
   ],
   "source": [
    "df.iloc[106][\"text\"][2239:2300]"
   ]
  },
  {
   "cell_type": "markdown",
   "id": "929c75a5-e2f3-4116-a905-0147f92c86c5",
   "metadata": {},
   "source": [
    "### Apply TLM to Existing RAG Pipeline or any LLM"
   ]
  },
  {
   "cell_type": "code",
   "execution_count": 204,
   "id": "d825b76f-8c07-4d17-8a45-732cc572c1e7",
   "metadata": {},
   "outputs": [
    {
     "name": "stdout",
     "output_type": "stream",
     "text": [
      "TLM Score for Response A: 0.851492279706765\n",
      "TLM Score for Response B: 0.10077150131270729\n"
     ]
    }
   ],
   "source": [
    "prompt = \"Based on the following documents, answer the given question. \\n\\\n",
    "Documents:  We're getting new desks! Specs are here: Staples Model RTG120XLDBL BasePage \\\n",
    "CollectionModel | Dimensions width = 60.0in height = 48.0in depth = 24.0in Base Color Black \\\n",
    "Top Color White | Specs SheetsPowered by TCPDF (www.tcpdf.org)\\\n",
    "Question: What is the width of the new desks?\"\n",
    "\n",
    "response_A = \"60 inches\"\n",
    "response_B = \"24 inches\" \n",
    "\n",
    "trust_score_A = tlm.get_trustworthiness_score(prompt, response_A)\n",
    "trust_score_B = tlm.get_trustworthiness_score(prompt, response_B)\n",
    "\n",
    "print(f\"TLM Score for Response A: {trust_score_A}\")\n",
    "print(f\"TLM Score for Response B: {trust_score_B}\")"
   ]
  },
  {
   "cell_type": "markdown",
   "id": "b6438b38",
   "metadata": {},
   "source": [
    "To summarize, we used Cleanlab and Pinecone to build a reliable, curated, and accurate RAG system.\n",
    "\n",
    "We used Pinecone to create the DB to actually store our document data and help us create accurate metadata to label our documents/chunks. We used Cleanlab Studio to ensure no PII, duplicates, non-English text, toxic-language, etc. exists in the document DB in order to curate more accurate and reliable documents. This ensures that, during retrieval from the RAG system, only the most relevant subset of  documents is considered. Lastly, we used TLM to show how to get Trustworthiness Score for RAG Outputs to eliminate hallucinations and nonsensical answers.\n",
    "\n",
    "For more guidance on how you can leverage TLM in RAG applications, you can refer to this Cleanlab Python API [tutorial](https://help.cleanlab.ai/tutorials/tlm_rag/)."
   ]
  }
 ],
 "metadata": {
  "kernelspec": {
   "display_name": "Python 3 (ipykernel)",
   "language": "python",
   "name": "python3"
  },
  "language_info": {
   "codemirror_mode": {
    "name": "ipython",
    "version": 3
   },
   "file_extension": ".py",
   "mimetype": "text/x-python",
   "name": "python",
   "nbconvert_exporter": "python",
   "pygments_lexer": "ipython3",
   "version": "3.11.9"
  }
 },
 "nbformat": 4,
 "nbformat_minor": 5
}
