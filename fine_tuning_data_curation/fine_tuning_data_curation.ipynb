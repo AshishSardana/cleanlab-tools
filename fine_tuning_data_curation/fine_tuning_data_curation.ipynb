{
 "cells": [
  {
   "attachments": {},
   "cell_type": "markdown",
   "id": "d464bda4-e89a-4b15-832e-8b5fab9a82b9",
   "metadata": {},
   "source": [
    "# How to Filter Bad Data in Instruction Tuning Datasets"
   ]
  },
  {
   "attachments": {},
   "cell_type": "markdown",
   "id": "6198b195-884f-4a0e-809f-341110ba59d8",
   "metadata": {},
   "source": [
    "This notebook demonstrates how to use Cleanlab TLM to detect low-quality prompt-response datapoints in a fine-tuning dataset. "
   ]
  },
  {
   "attachments": {},
   "cell_type": "markdown",
   "id": "7b8e2ec2-dbb9-4f48-9128-4a67550d8053",
   "metadata": {},
   "source": [
    "## Import Dependencies"
   ]
  },
  {
   "cell_type": "code",
   "execution_count": null,
   "id": "4d00bfbb-31a9-405e-97fb-da223d7c60b1",
   "metadata": {},
   "outputs": [],
   "source": [
    "!pip install cleanlab_studio pandas tqdm"
   ]
  },
  {
   "cell_type": "code",
   "execution_count": 1,
   "id": "cf3d3894-ee53-4a2e-b051-f809c347550b",
   "metadata": {},
   "outputs": [],
   "source": [
    "from cleanlab_studio import Studio\n",
    "import pandas as pd\n",
    "from tqdm import tqdm\n",
    "\n",
    "pd.set_option(\"display.max_columns\", None)\n",
    "pd.set_option(\"display.max_colwidth\", None)"
   ]
  },
  {
   "attachments": {},
   "cell_type": "markdown",
   "id": "e523f531-73ac-4aa0-bab2-46c29d413678",
   "metadata": {},
   "source": [
    "## Initialize TLM using Cleanlab Studio API Key"
   ]
  },
  {
   "attachments": {},
   "cell_type": "markdown",
   "id": "23370904-c413-4269-894d-0bb28b687f57",
   "metadata": {},
   "source": [
    "Replace with your own key. If you do not yet have an account, sign up for a free one here: https://app.cleanlab.ai/"
   ]
  },
  {
   "cell_type": "code",
   "execution_count": 11,
   "id": "a13ed8ad-0f5e-4dea-bdfd-8b9b2c4d2c88",
   "metadata": {},
   "outputs": [],
   "source": [
    "api_key = # Replace with your key\n",
    "batch_size = 64\n",
    "studio = Studio(api_key)\n",
    "tlm = studio.TLM(quality_preset=\"medium\", max_concurrent_requests=batch_size)"
   ]
  },
  {
   "attachments": {},
   "cell_type": "markdown",
   "id": "eee127e1-d7f5-472c-91af-df7de91d49d9",
   "metadata": {},
   "source": [
    "## Fetching Data"
   ]
  },
  {
   "attachments": {},
   "cell_type": "markdown",
   "id": "40526349-2ad7-4ab2-addb-59656f6520b6",
   "metadata": {},
   "source": [
    "Download the dataset here: https://huggingface.co/datasets/databricks/databricks-dolly-15k\n",
    "\n",
    "The fine-tuning dataset contains 15000 instruction-response pairings covering 7 categories. Three of these categories (open q&a, classification, creative writing, brainstorming) do not incorporate context in their input while the remaining four categories (closed q&a, information extraction, summarization, brainstorming) do. For the sake of this tutorial, we will work with a subset of the dataset by sampling datapoints from each category. After you are familiar with TLM by the end of this tutorial, we encourage you to investigate the rest of the dataset on your own, or any other dataset you are interested in! "
   ]
  },
  {
   "cell_type": "code",
   "execution_count": 5,
   "id": "16d92d54-417a-4891-98e7-263f3d8c37d1",
   "metadata": {},
   "outputs": [
    {
     "data": {
      "text/html": [
       "<div>\n",
       "<style scoped>\n",
       "    .dataframe tbody tr th:only-of-type {\n",
       "        vertical-align: middle;\n",
       "    }\n",
       "\n",
       "    .dataframe tbody tr th {\n",
       "        vertical-align: top;\n",
       "    }\n",
       "\n",
       "    .dataframe thead th {\n",
       "        text-align: right;\n",
       "    }\n",
       "</style>\n",
       "<table border=\"1\" class=\"dataframe\">\n",
       "  <thead>\n",
       "    <tr style=\"text-align: right;\">\n",
       "      <th></th>\n",
       "      <th>instruction</th>\n",
       "      <th>response</th>\n",
       "      <th>category</th>\n",
       "    </tr>\n",
       "  </thead>\n",
       "  <tbody>\n",
       "    <tr>\n",
       "      <th>0</th>\n",
       "      <td>Give me a list of the best movies I've never seen.</td>\n",
       "      <td>Top 10 movies I've ever seen, in no particular order. The Godfather, Dead Poet's Society, Rear Window, Scarface, Inception, Top Gun, Jaws, Skyfall, The Shawshank Redemption, A Few Good Men</td>\n",
       "      <td>brainstorming</td>\n",
       "    </tr>\n",
       "    <tr>\n",
       "      <th>1</th>\n",
       "      <td>Can you show me a list of all the major league baseball teams in the MLB for 2023?</td>\n",
       "      <td>Yes, see below:\\nAtlanta Braves\\nArizona Diamondbacks\\nMilwaukee Brewers\\nLos Angeles Dodgers\\nCincinnati Reds\\nPittsburg Pirates\\nNew York Mets\\nSan Diego Padres\\nSan Francisco Giants\\nChicago Cubs\\nSt. Louis Cardinals\\nColorado Rockies\\nMiami Marlins\\nPhiledelphia Phillies\\nWashington Nationals\\nTampa Bay Rays\\nMinnesota Twins\\nLos Angeles Angels\\nCleveland Guardians\\nBaltimore Orioles\\nNew York Yankees\\nTexas Rangers\\nBoston Red Sox\\nChicago White Sox\\nDetroit Tigers\\nOakland Athletics\\nToronto Blue Jays\\nHouston Astros\\nSeattle Mariners\\nKansas City Royals</td>\n",
       "      <td>brainstorming</td>\n",
       "    </tr>\n",
       "    <tr>\n",
       "      <th>2</th>\n",
       "      <td>Give me a list of the best high fantasy books or series that I should read</td>\n",
       "      <td>The Farseer trilogy, The Lord of the Rings, Mistborn series, A Song of Ice and Fire series, The Name of the Wind, Stardust, The Witcher.</td>\n",
       "      <td>brainstorming</td>\n",
       "    </tr>\n",
       "    <tr>\n",
       "      <th>3</th>\n",
       "      <td>What are some great comets named after people?</td>\n",
       "      <td>Great comets named after people: \\n- Aristotle's Comet\\n- Caesar's Comet\\n- Donati's Comet\\n- Halley's Comet\\n- Comet Skjellerup–Maristany\\n- Comet Arend–Roland\\n- Comet Mrkos\\n- Comet Ikeya–Seki\\n- Comet Bennett\\n- Comet Kohoutek\\n- Comet West\\n- Comet Hyakutake\\n- Comet Hale–Bopp\\n- Comet McNaught\\n- Comet Lovejoy</td>\n",
       "      <td>brainstorming</td>\n",
       "    </tr>\n",
       "    <tr>\n",
       "      <th>4</th>\n",
       "      <td>Give me a bunch of excuses about why I don't have my homework to turn in</td>\n",
       "      <td>Your dog ate your homework, you forget it at home, you spilled water all over it, your printer broke, you had a test in another class and were too busy studying</td>\n",
       "      <td>brainstorming</td>\n",
       "    </tr>\n",
       "  </tbody>\n",
       "</table>\n",
       "</div>"
      ],
      "text/plain": [
       "                                                                          instruction  \\\n",
       "0                                  Give me a list of the best movies I've never seen.   \n",
       "1  Can you show me a list of all the major league baseball teams in the MLB for 2023?   \n",
       "2          Give me a list of the best high fantasy books or series that I should read   \n",
       "3                                      What are some great comets named after people?   \n",
       "4            Give me a bunch of excuses about why I don't have my homework to turn in   \n",
       "\n",
       "                                                                                                                                                                                                                                                                                                                                                                                                                                                                                                                                                                                 response  \\\n",
       "0                                                                                                                                                                                                                                                                                                                                                                                            Top 10 movies I've ever seen, in no particular order. The Godfather, Dead Poet's Society, Rear Window, Scarface, Inception, Top Gun, Jaws, Skyfall, The Shawshank Redemption, A Few Good Men   \n",
       "1  Yes, see below:\\nAtlanta Braves\\nArizona Diamondbacks\\nMilwaukee Brewers\\nLos Angeles Dodgers\\nCincinnati Reds\\nPittsburg Pirates\\nNew York Mets\\nSan Diego Padres\\nSan Francisco Giants\\nChicago Cubs\\nSt. Louis Cardinals\\nColorado Rockies\\nMiami Marlins\\nPhiledelphia Phillies\\nWashington Nationals\\nTampa Bay Rays\\nMinnesota Twins\\nLos Angeles Angels\\nCleveland Guardians\\nBaltimore Orioles\\nNew York Yankees\\nTexas Rangers\\nBoston Red Sox\\nChicago White Sox\\nDetroit Tigers\\nOakland Athletics\\nToronto Blue Jays\\nHouston Astros\\nSeattle Mariners\\nKansas City Royals   \n",
       "2                                                                                                                                                                                                                                                                                                                                                                                                                                                The Farseer trilogy, The Lord of the Rings, Mistborn series, A Song of Ice and Fire series, The Name of the Wind, Stardust, The Witcher.   \n",
       "3                                                                                                                                                                                                                                                           Great comets named after people: \\n- Aristotle's Comet\\n- Caesar's Comet\\n- Donati's Comet\\n- Halley's Comet\\n- Comet Skjellerup–Maristany\\n- Comet Arend–Roland\\n- Comet Mrkos\\n- Comet Ikeya–Seki\\n- Comet Bennett\\n- Comet Kohoutek\\n- Comet West\\n- Comet Hyakutake\\n- Comet Hale–Bopp\\n- Comet McNaught\\n- Comet Lovejoy   \n",
       "4                                                                                                                                                                                                                                                                                                                                                                                                                        Your dog ate your homework, you forget it at home, you spilled water all over it, your printer broke, you had a test in another class and were too busy studying   \n",
       "\n",
       "        category  \n",
       "0  brainstorming  \n",
       "1  brainstorming  \n",
       "2  brainstorming  \n",
       "3  brainstorming  \n",
       "4  brainstorming  "
      ]
     },
     "execution_count": 5,
     "metadata": {},
     "output_type": "execute_result"
    }
   ],
   "source": [
    "data = pd.read_json(\"databricks-dolly-15k.jsonl\", lines=True)\n",
    "# For datapoints that incoporate context, we can simply prepend the context to the instruction\n",
    "data.loc[data['context'].str.len() > 0, 'instruction'] = 'context: ' + data['context'].astype(str) + '\\nquestion: ' + data['instruction'].astype(str)\n",
    "data = data.drop(columns=['context'])\n",
    "\n",
    "sample_size_per_category = 200\n",
    "grouped = data.groupby('category')\n",
    "df = pd.DataFrame(columns=data.columns)\n",
    "\n",
    "for category, group in grouped:\n",
    "    sampled_group = group.sample(sample_size_per_category)\n",
    "    df = pd.concat([df, sampled_group])\n",
    "\n",
    "df.reset_index(drop=True, inplace=True)\n",
    "df.head()"
   ]
  },
  {
   "attachments": {},
   "cell_type": "markdown",
   "id": "f9a59ab8-8576-47ab-ab2b-b94cbce4286d",
   "metadata": {},
   "source": [
    "## Obtaining Confidence Scores on Datapoints\n",
    "We leverage ```batch_get_confidence_score``` to efficiently obtain the confidence scores. Each call can process up to a batch of 64 input-output pairs at once, and takes around a minute to execute. The resulting scores will be saved in our ```open_qa_results``` dataframe."
   ]
  },
  {
   "cell_type": "code",
   "execution_count": null,
   "id": "ad4b16cc-b9c0-48ab-b4e5-1edeb2f7033e",
   "metadata": {},
   "outputs": [],
   "source": [
    "idx_start = 0\n",
    "results = df.copy(deep=True) \n",
    "results[\"confidence_score\"] = None\n",
    "\n",
    "for i in tqdm(range(0, len(results), batch_size)):\n",
    "    end_index = min(i + batch_size, len(results))\n",
    "    \n",
    "    try:\n",
    "        batch_instructions = results.iloc[i:end_index][\"instruction\"].tolist()\n",
    "        batch_responses = results.iloc[i:end_index][\"response\"].tolist()\n",
    "    \n",
    "        batch_scores = tlm.batch_get_confidence_score(\n",
    "            batch_instructions, batch_responses, retries=1\n",
    "        )\n",
    "        \n",
    "        batch_scores = list(batch_scores)\n",
    "        results.iloc[i:end_index, results.columns.get_loc(\"confidence_score\")] = batch_scores\n",
    "    \n",
    "    except Exception as error:\n",
    "        print(\"Failed at index \", i, \" Error: \", str(error))"
   ]
  },
  {
   "attachments": {},
   "cell_type": "markdown",
   "id": "056ce7aa-10bd-420c-af23-b9301ecc6ebc",
   "metadata": {},
   "source": [
    "Now that TLM has finished running, let's inspect some low-confidence datapoints for one of our categories:"
   ]
  },
  {
   "cell_type": "code",
   "execution_count": 21,
   "id": "06efa7e1-b2b4-4820-a2d2-7d62e4389dd5",
   "metadata": {},
   "outputs": [
    {
     "data": {
      "text/html": [
       "<div>\n",
       "<style scoped>\n",
       "    .dataframe tbody tr th:only-of-type {\n",
       "        vertical-align: middle;\n",
       "    }\n",
       "\n",
       "    .dataframe tbody tr th {\n",
       "        vertical-align: top;\n",
       "    }\n",
       "\n",
       "    .dataframe thead th {\n",
       "        text-align: right;\n",
       "    }\n",
       "</style>\n",
       "<table border=\"1\" class=\"dataframe\">\n",
       "  <thead>\n",
       "    <tr style=\"text-align: right;\">\n",
       "      <th></th>\n",
       "      <th>instruction</th>\n",
       "      <th>response</th>\n",
       "      <th>category</th>\n",
       "      <th>confidence_score</th>\n",
       "    </tr>\n",
       "  </thead>\n",
       "  <tbody>\n",
       "    <tr>\n",
       "      <th>585</th>\n",
       "      <td>context: From February 2019 – 2020, average monthly temperatures in Germany ranged from a low of 3.3 °C (37.9 °F) in January 2020 to a high of 19.8 °C (67.6 °F) in June 2019. Average monthly precipitation ranged from 30 litres per square metre in February and April 2019 to 125 litres per square metre in February 2020. Average monthly hours of sunshine ranged from 45 in November 2019 to 300 in June 2019.\\nquestion: Based on this text, what average temperature in degree celsius can I expect in April in Germany?</td>\n",
       "      <td>The average temperature in April in Germany is 13.2 °C.</td>\n",
       "      <td>closed_qa</td>\n",
       "      <td>0.077344</td>\n",
       "    </tr>\n",
       "    <tr>\n",
       "      <th>599</th>\n",
       "      <td>context: \"It's a Great Day to Be Alive\" is a song written by Darrell Scott. It was originally recorded by American country music artist Jon Randall, of whose version was to have been included on an album titled Great Day to Be Alive, which would have been released in the late 1990s via BNA Records. Scott released his own version of his song on his 1997 album Aloha from Nashville.\\n\\nThe song was also recorded by The Sky Kings, an American country-rock supergroup consisting of Bill Lloyd (Foster &amp; Lloyd), Rusty Young (Poco), and John Cowan (New Grass Revival) around 1995/1996. Their version sat unreleased until Rhino Handmade released the compilation \"From Out Of The Blue\" in 2000.\\n\\nThe song was later covered more famously by American country music artist Travis Tritt. It was released in December 2000 as the second single from his album Down the Road I Go. It peaked at number 2 on the U.S. Billboard Hot Country Singles &amp; Tracks chart and at number 33 on the U.S. Billboard Hot 100 chart.\\n\\nIt was subsequently covered by Pat Green and Cory Morrow on their March 2001 album Songs We Wish We'd Written and by Niko Moon for his 2021 album Good Time.\\nquestion: Given the reference text below, who sang \"It's a Great Day to Be Alive\"?</td>\n",
       "      <td>\"It's a Great Day to Be Alive\" is a song written by Darrell Scott which was released in December 2000.</td>\n",
       "      <td>closed_qa</td>\n",
       "      <td>0.334004</td>\n",
       "    </tr>\n",
       "    <tr>\n",
       "      <th>439</th>\n",
       "      <td>context: The Big Bang event is a physical theory that describes how the universe expanded from an initial state of high density and temperature. Various cosmological models of the Big Bang explain the evolution of the observable universe from the earliest known periods through its subsequent large-scale form. These models offer a comprehensive explanation for a broad range of observed phenomena, including the abundance of light elements, the cosmic microwave background (CMB) radiation, and large-scale structure. The overall uniformity of the Universe, known as the flatness problem, is explained through cosmic inflation: a sudden and very rapid expansion of space during the earliest moments. However, physics currently lacks a widely accepted theory of quantum gravity that can successfully model the earliest conditions of the Big Bang.\\nquestion: How was the universe created?</td>\n",
       "      <td>We can't know for sure but a popular theory called the Big Bang suggests that the universe was created from an infinitesimally small point of infinite energy some four and a half billion years ago.</td>\n",
       "      <td>closed_qa</td>\n",
       "      <td>0.35459</td>\n",
       "    </tr>\n",
       "    <tr>\n",
       "      <th>436</th>\n",
       "      <td>context: Octavia Estelle Butler (June 22, 1947 – February 24, 2006) was an American science fiction author and a multiple recipient of the Hugo and Nebula awards. In 1995, Butler became the first science-fiction writer to receive a MacArthur Fellowship. Born in Pasadena, California, Butler was raised by her widowed mother. Extremely shy as a child, Butler found an outlet at the library reading fantasy, and in writing. She began writing science fiction as a teenager. She attended community college during the Black Power movement. While participating in a local writer's workshop, she was encouraged to attend the Clarion Workshop, then held in Pennsylvania, which focused on science fiction.\\nquestion: How old was Octavia Butler when she died?</td>\n",
       "      <td>At the time of her death in 2006, Octavia Butler was 58 years old.</td>\n",
       "      <td>closed_qa</td>\n",
       "      <td>0.390879</td>\n",
       "    </tr>\n",
       "    <tr>\n",
       "      <th>521</th>\n",
       "      <td>context: Time travel is the concept of movement between certain points in time, analogous to movement between different points in space by an object or a person, typically with the use of a hypothetical device known as a time machine. Time travel is a widely recognized concept in philosophy and fiction, particularly science fiction. The idea of a time machine was popularized by H. G. Wells' 1895 novel The Time Machine.\\nquestion: Given this paragraph about time travel, how practical is it</td>\n",
       "      <td>Yes, time travel is indeed a real thing. But it's not quite what you've probably seen in the movies. Under certain conditions, it is possible to experience time passing at a different rate than 1 second per second. And there are important reasons why we need to understand this real-world form of time travel.</td>\n",
       "      <td>closed_qa</td>\n",
       "      <td>0.395864</td>\n",
       "    </tr>\n",
       "  </tbody>\n",
       "</table>\n",
       "</div>"
      ],
      "text/plain": [
       "                                                                                                                                                                                                                                                                                                                                                                                                                                                                                                                                                                                                                                                                                                                                                                                                                                                                                                                                                                                                                                                                                                                                                                                                                                                                                        instruction  \\\n",
       "585                                                                                                                                                                                                                                                                                                                                                                                                                                                                                                                                                                                                                                                                                                                                                              context: From February 2019 – 2020, average monthly temperatures in Germany ranged from a low of 3.3 °C (37.9 °F) in January 2020 to a high of 19.8 °C (67.6 °F) in June 2019. Average monthly precipitation ranged from 30 litres per square metre in February and April 2019 to 125 litres per square metre in February 2020. Average monthly hours of sunshine ranged from 45 in November 2019 to 300 in June 2019.\\nquestion: Based on this text, what average temperature in degree celsius can I expect in April in Germany?   \n",
       "599  context: \"It's a Great Day to Be Alive\" is a song written by Darrell Scott. It was originally recorded by American country music artist Jon Randall, of whose version was to have been included on an album titled Great Day to Be Alive, which would have been released in the late 1990s via BNA Records. Scott released his own version of his song on his 1997 album Aloha from Nashville.\\n\\nThe song was also recorded by The Sky Kings, an American country-rock supergroup consisting of Bill Lloyd (Foster & Lloyd), Rusty Young (Poco), and John Cowan (New Grass Revival) around 1995/1996. Their version sat unreleased until Rhino Handmade released the compilation \"From Out Of The Blue\" in 2000.\\n\\nThe song was later covered more famously by American country music artist Travis Tritt. It was released in December 2000 as the second single from his album Down the Road I Go. It peaked at number 2 on the U.S. Billboard Hot Country Singles & Tracks chart and at number 33 on the U.S. Billboard Hot 100 chart.\\n\\nIt was subsequently covered by Pat Green and Cory Morrow on their March 2001 album Songs We Wish We'd Written and by Niko Moon for his 2021 album Good Time.\\nquestion: Given the reference text below, who sang \"It's a Great Day to Be Alive\"?   \n",
       "439                                                                                                                                                                                                                                                                                                                                                                          context: The Big Bang event is a physical theory that describes how the universe expanded from an initial state of high density and temperature. Various cosmological models of the Big Bang explain the evolution of the observable universe from the earliest known periods through its subsequent large-scale form. These models offer a comprehensive explanation for a broad range of observed phenomena, including the abundance of light elements, the cosmic microwave background (CMB) radiation, and large-scale structure. The overall uniformity of the Universe, known as the flatness problem, is explained through cosmic inflation: a sudden and very rapid expansion of space during the earliest moments. However, physics currently lacks a widely accepted theory of quantum gravity that can successfully model the earliest conditions of the Big Bang.\\nquestion: How was the universe created?   \n",
       "436                                                                                                                                                                                                                                                                                                                                                                                                                                                                                                                   context: Octavia Estelle Butler (June 22, 1947 – February 24, 2006) was an American science fiction author and a multiple recipient of the Hugo and Nebula awards. In 1995, Butler became the first science-fiction writer to receive a MacArthur Fellowship. Born in Pasadena, California, Butler was raised by her widowed mother. Extremely shy as a child, Butler found an outlet at the library reading fantasy, and in writing. She began writing science fiction as a teenager. She attended community college during the Black Power movement. While participating in a local writer's workshop, she was encouraged to attend the Clarion Workshop, then held in Pennsylvania, which focused on science fiction.\\nquestion: How old was Octavia Butler when she died?   \n",
       "521                                                                                                                                                                                                                                                                                                                                                                                                                                                                                                                                                                                                                                                                                                                                                                                   context: Time travel is the concept of movement between certain points in time, analogous to movement between different points in space by an object or a person, typically with the use of a hypothetical device known as a time machine. Time travel is a widely recognized concept in philosophy and fiction, particularly science fiction. The idea of a time machine was popularized by H. G. Wells' 1895 novel The Time Machine.\\nquestion: Given this paragraph about time travel, how practical is it   \n",
       "\n",
       "                                                                                                                                                                                                                                                                                                                  response  \\\n",
       "585                                                                                                                                                                                                                                                                The average temperature in April in Germany is 13.2 °C.   \n",
       "599                                                                                                                                                                                                                 \"It's a Great Day to Be Alive\" is a song written by Darrell Scott which was released in December 2000.   \n",
       "439                                                                                                                  We can't know for sure but a popular theory called the Big Bang suggests that the universe was created from an infinitesimally small point of infinite energy some four and a half billion years ago.   \n",
       "436                                                                                                                                                                                                                                                     At the time of her death in 2006, Octavia Butler was 58 years old.   \n",
       "521  Yes, time travel is indeed a real thing. But it's not quite what you've probably seen in the movies. Under certain conditions, it is possible to experience time passing at a different rate than 1 second per second. And there are important reasons why we need to understand this real-world form of time travel.   \n",
       "\n",
       "      category confidence_score  \n",
       "585  closed_qa         0.077344  \n",
       "599  closed_qa         0.334004  \n",
       "439  closed_qa          0.35459  \n",
       "436  closed_qa         0.390879  \n",
       "521  closed_qa         0.395864  "
      ]
     },
     "execution_count": 21,
     "metadata": {},
     "output_type": "execute_result"
    }
   ],
   "source": [
    "results = results.sort_values(by=\"confidence_score\")\n",
    "# results.to_csv('results.csv', index=False)\n",
    "\n",
    "closed_qa_results = results[results['category'] == 'closed_qa']\n",
    "closed_qa_results.head()"
   ]
  },
  {
   "attachments": {},
   "cell_type": "markdown",
   "id": "326ba532-bfb1-477e-9db4-d80ff0a1eafc",
   "metadata": {},
   "source": [
    "At this point, we would manually verify each datapoint, and choose to either correct or remove the low-quality ones. Try to find mistakes in the other categories on your own!"
   ]
  },
  {
   "attachments": {},
   "cell_type": "markdown",
   "id": "010a6a74-1107-479f-9226-8b5a4d87c8b4",
   "metadata": {},
   "source": [
    "## Using Cleanlab Studio to Detect Further Text Issues"
   ]
  },
  {
   "attachments": {},
   "cell_type": "markdown",
   "id": "986a5580-12c8-4ce8-8a54-d10a9438d617",
   "metadata": {},
   "source": [
    "In this section, we demonstrate how Cleanlab Studio can automatically generate metadata for any text dataset. This metadata (returned as Cleanlab Columns) helps you discover various problems in your dataset and understand their severity. Currently, Cleanlab Studio mainly supports classification tasks, and thus requires a label column and only processes one desiginated text column per dataset. However, we can work around this by simply combining the ```instruction``` and ```response``` columns and using ```category``` as the label. If your dataset does not have an appropriate label cateogry, you can artificially generate labels by randomly assigning 0s and 1s to datapoints. The labeling issues metadata do not matter to us as we are only concerned about text issues.\n",
    "\n",
    "\n",
    "After preparing our dataset, we load the data into Cleanlab Studio.\n",
    "\n"
   ]
  },
  {
   "cell_type": "code",
   "execution_count": 14,
   "id": "fde9d7d2-4eb6-4137-b1b6-fab8d2ce3431",
   "metadata": {},
   "outputs": [
    {
     "name": "stderr",
     "output_type": "stream",
     "text": [
      "Uploading dataset...: 100%|████████████████████████████████████████████████|\n",
      "Generating schema...: 100%|████████████████████████████████████████████████|\n",
      "Ingesting Dataset...: 100%|████████████████████████████████████████████████|"
     ]
    },
    {
     "name": "stdout",
     "output_type": "stream",
     "text": [
      "Dataset ID: 6237e7d3664b4a1492e9f76eb675b9bf\n"
     ]
    },
    {
     "name": "stderr",
     "output_type": "stream",
     "text": [
      "\n"
     ]
    }
   ],
   "source": [
    "df['text'] = 'Prompt: ' + df['instruction'] + ' Response: ' + df['response']\n",
    "df = df.drop(columns=['instruction', 'response'])\n",
    "\n",
    "dataset_id = studio.upload_dataset(df, dataset_name=\"dolly-subset\")\n",
    "print(f\"Dataset ID: {dataset_id}\")"
   ]
  },
  {
   "attachments": {},
   "cell_type": "markdown",
   "id": "e346d8cd-9af3-4b6b-a8b4-2d43db2c696d",
   "metadata": {},
   "source": [
    "Now that we have a dataset_id, we can use it to launch a Cleanlab Dtudio project. A project automatically trains ML models to provide AI-based analysis of your dataset."
   ]
  },
  {
   "cell_type": "code",
   "execution_count": 16,
   "id": "cd7b7fe0-3f10-4013-92af-93f246c62f43",
   "metadata": {},
   "outputs": [
    {
     "name": "stdout",
     "output_type": "stream",
     "text": [
      "Project successfully created and training has begun! project_id: 93ebea807443433e915392dc772b89e8\n"
     ]
    }
   ],
   "source": [
    "project_id = studio.create_project(\n",
    "    dataset_id=dataset_id,\n",
    "    project_name=\"dolly-text-issues\",\n",
    "    modality=\"text\",\n",
    "    label_column=\"category\",\n",
    "    text_column=\"text\"\n",
    ")\n",
    "print(f\"Project successfully created and training has begun! project_id: {project_id}\")"
   ]
  },
  {
   "attachments": {},
   "cell_type": "markdown",
   "id": "8d015873-243a-41a0-a7b0-9fb25a7b9828",
   "metadata": {},
   "source": [
    "Once the project has been launched successfully and you see your project_id you can feel free to close this notebook. You should only execute the above cell once per dataset -- it will take some time for Cleanlab’s AI to train on your data and analyze it. Come back after training is complete (you will receive an email) and continue with the notebook to review your results.\n",
    "\n",
    "Once your results are ready, you can optionally view your project in the [Cleanlab Studio web interface](https://app.cleanlab.ai/) and interactively improve your dataset. If you want to learn further programmatic workflows for Cleanlab Studio, check out our [full tutorial](https://help.cleanlab.ai/tutorials/text_data_quickstart/)!"
   ]
  }
 ],
 "metadata": {
  "kernelspec": {
   "display_name": "ag",
   "language": "python",
   "name": "ag"
  },
  "language_info": {
   "codemirror_mode": {
    "name": "ipython",
    "version": 3
   },
   "file_extension": ".py",
   "mimetype": "text/x-python",
   "name": "python",
   "nbconvert_exporter": "python",
   "pygments_lexer": "ipython3",
   "version": "3.8.10"
  }
 },
 "nbformat": 4,
 "nbformat_minor": 5
}
