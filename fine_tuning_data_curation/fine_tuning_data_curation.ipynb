{
 "cells": [
  {
   "attachments": {},
   "cell_type": "markdown",
   "id": "d464bda4-e89a-4b15-832e-8b5fab9a82b9",
   "metadata": {},
   "source": [
    "# How to Filter Bad Data in Instruction Tuning Datasets"
   ]
  },
  {
   "attachments": {},
   "cell_type": "markdown",
   "id": "6198b195-884f-4a0e-809f-341110ba59d8",
   "metadata": {},
   "source": [
    "This notebook demonstrates how to use Cleanlab TLM to detect low-quality prompt-response datapoints in a fine-tuning dataset. "
   ]
  },
  {
   "attachments": {},
   "cell_type": "markdown",
   "id": "7b8e2ec2-dbb9-4f48-9128-4a67550d8053",
   "metadata": {},
   "source": [
    "## Import Dependencies"
   ]
  },
  {
   "cell_type": "code",
   "execution_count": null,
   "id": "4d00bfbb-31a9-405e-97fb-da223d7c60b1",
   "metadata": {},
   "outputs": [],
   "source": [
    "!pip install cleanlab_studio pandas tqdm"
   ]
  },
  {
   "cell_type": "code",
   "execution_count": 30,
   "id": "cf3d3894-ee53-4a2e-b051-f809c347550b",
   "metadata": {},
   "outputs": [],
   "source": [
    "from cleanlab_studio import Studio\n",
    "import pandas as pd\n",
    "from tqdm import tqdm\n",
    "\n",
    "pd.set_option(\"display.max_columns\", None)\n",
    "pd.set_option(\"display.max_colwidth\", None)"
   ]
  },
  {
   "attachments": {},
   "cell_type": "markdown",
   "id": "e523f531-73ac-4aa0-bab2-46c29d413678",
   "metadata": {},
   "source": [
    "## Initialize TLM using Cleanlab Studio API Key"
   ]
  },
  {
   "attachments": {},
   "cell_type": "markdown",
   "id": "23370904-c413-4269-894d-0bb28b687f57",
   "metadata": {},
   "source": [
    "Replace with your own key. If you do not yet have an account, sign up for a free one here: https://app.cleanlab.ai/"
   ]
  },
  {
   "cell_type": "code",
   "execution_count": 31,
   "id": "a13ed8ad-0f5e-4dea-bdfd-8b9b2c4d2c88",
   "metadata": {},
   "outputs": [],
   "source": [
    "api_key = 'e8509775a2cd4f5eb1195c7441dd530e'\n",
    "batch_size = 64\n",
    "tlm = Studio(api_key).TLM(quality_preset=\"medium\", max_concurrent_requests=batch_size)"
   ]
  },
  {
   "attachments": {},
   "cell_type": "markdown",
   "id": "eee127e1-d7f5-472c-91af-df7de91d49d9",
   "metadata": {},
   "source": [
    "## Fetching Data"
   ]
  },
  {
   "attachments": {},
   "cell_type": "markdown",
   "id": "40526349-2ad7-4ab2-addb-59656f6520b6",
   "metadata": {},
   "source": [
    "Download the dataset here: https://huggingface.co/datasets/databricks/databricks-dolly-15k\n",
    "\n",
    "The fine-tuning dataset contains 15000 instruction-response pairings covering 7 categories. Three of these categories (open q&a, classification, creative writing, brainstorming) do not incorporate context in their input while the remaining four categories (closed q&a, information extraction, summarization, brainstorming) do."
   ]
  },
  {
   "cell_type": "code",
   "execution_count": 32,
   "id": "16d92d54-417a-4891-98e7-263f3d8c37d1",
   "metadata": {},
   "outputs": [
    {
     "data": {
      "text/html": [
       "<div>\n",
       "<style scoped>\n",
       "    .dataframe tbody tr th:only-of-type {\n",
       "        vertical-align: middle;\n",
       "    }\n",
       "\n",
       "    .dataframe tbody tr th {\n",
       "        vertical-align: top;\n",
       "    }\n",
       "\n",
       "    .dataframe thead th {\n",
       "        text-align: right;\n",
       "    }\n",
       "</style>\n",
       "<table border=\"1\" class=\"dataframe\">\n",
       "  <thead>\n",
       "    <tr style=\"text-align: right;\">\n",
       "      <th></th>\n",
       "      <th>instruction</th>\n",
       "      <th>context</th>\n",
       "      <th>response</th>\n",
       "      <th>category</th>\n",
       "    </tr>\n",
       "  </thead>\n",
       "  <tbody>\n",
       "    <tr>\n",
       "      <th>0</th>\n",
       "      <td>When did Virgin Australia start operating?</td>\n",
       "      <td>Virgin Australia, the trading name of Virgin Australia Airlines Pty Ltd, is an Australian-based airline. It is the largest airline by fleet size to use the Virgin brand. It commenced services on 31 August 2000 as Virgin Blue, with two aircraft on a single route. It suddenly found itself as a major airline in Australia's domestic market after the collapse of Ansett Australia in September 2001. The airline has since grown to directly serve 32 cities in Australia, from hubs in Brisbane, Melbourne and Sydney.</td>\n",
       "      <td>Virgin Australia commenced services on 31 August 2000 as Virgin Blue, with two aircraft on a single route.</td>\n",
       "      <td>closed_qa</td>\n",
       "    </tr>\n",
       "    <tr>\n",
       "      <th>1</th>\n",
       "      <td>Which is a species of fish? Tope or Rope</td>\n",
       "      <td></td>\n",
       "      <td>Tope</td>\n",
       "      <td>classification</td>\n",
       "    </tr>\n",
       "    <tr>\n",
       "      <th>2</th>\n",
       "      <td>Why can camels survive for long without water?</td>\n",
       "      <td></td>\n",
       "      <td>Camels use the fat in their humps to keep them filled with energy and hydration for long periods of time.</td>\n",
       "      <td>open_qa</td>\n",
       "    </tr>\n",
       "    <tr>\n",
       "      <th>3</th>\n",
       "      <td>Alice's parents have three daughters: Amy, Jessy, and what’s the name of the third daughter?</td>\n",
       "      <td></td>\n",
       "      <td>The name of the third daughter is Alice</td>\n",
       "      <td>open_qa</td>\n",
       "    </tr>\n",
       "    <tr>\n",
       "      <th>4</th>\n",
       "      <td>When was Tomoaki Komorida born?</td>\n",
       "      <td>Komorida was born in Kumamoto Prefecture on July 10, 1981. After graduating from high school, he joined the J1 League club Avispa Fukuoka in 2000. Although he debuted as a midfielder in 2001, he did not play much and the club was relegated to the J2 League at the end of the 2001 season. In 2002, he moved to the J2 club Oita Trinita. He became a regular player as a defensive midfielder and the club won the championship in 2002 and was promoted in 2003. He played many matches until 2005. In September 2005, he moved to the J2 club Montedio Yamagata. In 2006, he moved to the J2 club Vissel Kobe. Although he became a regular player as a defensive midfielder, his gradually was played less during the summer. In 2007, he moved to the Japan Football League club Rosso Kumamoto (later Roasso Kumamoto) based in his local region. He played as a regular player and the club was promoted to J2 in 2008. Although he did not play as much, he still played in many matches. In 2010, he moved to Indonesia and joined Persela Lamongan. In July 2010, he returned to Japan and joined the J2 club Giravanz Kitakyushu. He played often as a defensive midfielder and center back until 2012 when he retired.</td>\n",
       "      <td>Tomoaki Komorida was born on July 10,1981.</td>\n",
       "      <td>closed_qa</td>\n",
       "    </tr>\n",
       "  </tbody>\n",
       "</table>\n",
       "</div>"
      ],
      "text/plain": [
       "                                                                                    instruction  \\\n",
       "0                                                    When did Virgin Australia start operating?   \n",
       "1                                                      Which is a species of fish? Tope or Rope   \n",
       "2                                                Why can camels survive for long without water?   \n",
       "3  Alice's parents have three daughters: Amy, Jessy, and what’s the name of the third daughter?   \n",
       "4                                                               When was Tomoaki Komorida born?   \n",
       "\n",
       "                                                                                                                                                                                                                                                                                                                                                                                                                                                                                                                                                                                                                                                                                                                                                                                                                                                                                                                                                                                                                                                                                                                                                                                                                                   context  \\\n",
       "0                                                                                                                                                                                                                                                                                                                                                                                                                                                                                                                                                                                                                                                                                                           Virgin Australia, the trading name of Virgin Australia Airlines Pty Ltd, is an Australian-based airline. It is the largest airline by fleet size to use the Virgin brand. It commenced services on 31 August 2000 as Virgin Blue, with two aircraft on a single route. It suddenly found itself as a major airline in Australia's domestic market after the collapse of Ansett Australia in September 2001. The airline has since grown to directly serve 32 cities in Australia, from hubs in Brisbane, Melbourne and Sydney.   \n",
       "1                                                                                                                                                                                                                                                                                                                                                                                                                                                                                                                                                                                                                                                                                                                                                                                                                                                                                                                                                                                                                                                                                                                                                                                                                                            \n",
       "2                                                                                                                                                                                                                                                                                                                                                                                                                                                                                                                                                                                                                                                                                                                                                                                                                                                                                                                                                                                                                                                                                                                                                                                                                                            \n",
       "3                                                                                                                                                                                                                                                                                                                                                                                                                                                                                                                                                                                                                                                                                                                                                                                                                                                                                                                                                                                                                                                                                                                                                                                                                                            \n",
       "4  Komorida was born in Kumamoto Prefecture on July 10, 1981. After graduating from high school, he joined the J1 League club Avispa Fukuoka in 2000. Although he debuted as a midfielder in 2001, he did not play much and the club was relegated to the J2 League at the end of the 2001 season. In 2002, he moved to the J2 club Oita Trinita. He became a regular player as a defensive midfielder and the club won the championship in 2002 and was promoted in 2003. He played many matches until 2005. In September 2005, he moved to the J2 club Montedio Yamagata. In 2006, he moved to the J2 club Vissel Kobe. Although he became a regular player as a defensive midfielder, his gradually was played less during the summer. In 2007, he moved to the Japan Football League club Rosso Kumamoto (later Roasso Kumamoto) based in his local region. He played as a regular player and the club was promoted to J2 in 2008. Although he did not play as much, he still played in many matches. In 2010, he moved to Indonesia and joined Persela Lamongan. In July 2010, he returned to Japan and joined the J2 club Giravanz Kitakyushu. He played often as a defensive midfielder and center back until 2012 when he retired.   \n",
       "\n",
       "                                                                                                     response  \\\n",
       "0  Virgin Australia commenced services on 31 August 2000 as Virgin Blue, with two aircraft on a single route.   \n",
       "1                                                                                                        Tope   \n",
       "2   Camels use the fat in their humps to keep them filled with energy and hydration for long periods of time.   \n",
       "3                                                                     The name of the third daughter is Alice   \n",
       "4                                                                  Tomoaki Komorida was born on July 10,1981.   \n",
       "\n",
       "         category  \n",
       "0       closed_qa  \n",
       "1  classification  \n",
       "2         open_qa  \n",
       "3         open_qa  \n",
       "4       closed_qa  "
      ]
     },
     "execution_count": 32,
     "metadata": {},
     "output_type": "execute_result"
    }
   ],
   "source": [
    "df = pd.read_json(\"databricks-dolly-15k.jsonl\", lines=True)\n",
    "df.head(5)"
   ]
  },
  {
   "attachments": {},
   "cell_type": "markdown",
   "id": "f9a59ab8-8576-47ab-ab2b-b94cbce4286d",
   "metadata": {},
   "source": [
    "## Obtaining Scores on No-Context Datapoints\n",
    "In the following example, we will filter for ```open_qa``` datapoints. This category contains direct questions and answers regarding general world knowledge. For the sake of this tutorial, we will work with a subset of the dataset. After you are familiar with TLM by the end of this tutorial, we encourage you to investigate the rest of the dataset on your own, or any other dataset you are interested in!"
   ]
  },
  {
   "cell_type": "code",
   "execution_count": 36,
   "id": "ad4b16cc-b9c0-48ab-b4e5-1edeb2f7033e",
   "metadata": {},
   "outputs": [
    {
     "data": {
      "text/html": [
       "<div>\n",
       "<style scoped>\n",
       "    .dataframe tbody tr th:only-of-type {\n",
       "        vertical-align: middle;\n",
       "    }\n",
       "\n",
       "    .dataframe tbody tr th {\n",
       "        vertical-align: top;\n",
       "    }\n",
       "\n",
       "    .dataframe thead th {\n",
       "        text-align: right;\n",
       "    }\n",
       "</style>\n",
       "<table border=\"1\" class=\"dataframe\">\n",
       "  <thead>\n",
       "    <tr style=\"text-align: right;\">\n",
       "      <th></th>\n",
       "      <th>instruction</th>\n",
       "      <th>response</th>\n",
       "      <th>category</th>\n",
       "    </tr>\n",
       "  </thead>\n",
       "  <tbody>\n",
       "    <tr>\n",
       "      <th>13826</th>\n",
       "      <td>What is a 'Public' School in the UK?</td>\n",
       "      <td>Public School is a term used for an independent fee-paying school in the UK.  This is because when the schools were initially set-up, they were for the use of fee-paying parents who would share a teacher as a replacement for a dedicated at-home tutor for their children</td>\n",
       "      <td>open_qa</td>\n",
       "    </tr>\n",
       "    <tr>\n",
       "      <th>4315</th>\n",
       "      <td>What are some of the causes for the 1929 US stock market crash?</td>\n",
       "      <td>The 1920’s were a booming time for Americans as the stock market was surging due to speculative investing.  Stock prices rose to records heights which drove the public to invest their liquid assets into securities.  Billions of dollars were drawn from banks for broker’s loans to carry margin accounts.  People were mortgaging their homes to pour money into stocks.  In late 1929, the market eventually overheated and prices began to fall despite efforts by the banks to buy up large blocks of stock to stem the losses.  Eventually, the panic was too much and the market crashed on Black Monday, October 24th when the market closed down 12.8 percent.  The sharp decline in the 1929 stock market eventually led to the Great Depression of the 1930’s.</td>\n",
       "      <td>open_qa</td>\n",
       "    </tr>\n",
       "    <tr>\n",
       "      <th>1409</th>\n",
       "      <td>Why do people live in homes?</td>\n",
       "      <td>People live in homes because its a way to protect you from the elements of nature like storms, heavy rain, lightning, heat and humidity.  Its a place that offers comfort with air conditioning, offers a comfortable place to sleep, and offers a comfortable place to cook and eat and have entertaining activities like television, and spending time with your family.</td>\n",
       "      <td>open_qa</td>\n",
       "    </tr>\n",
       "    <tr>\n",
       "      <th>7931</th>\n",
       "      <td>What are the best places to eat and top Japanese sushi  restaurant in San Mateo?</td>\n",
       "      <td>The best Japanese Restaurant in San Mateo are Sushi Sam and Sushi Maruyama</td>\n",
       "      <td>open_qa</td>\n",
       "    </tr>\n",
       "    <tr>\n",
       "      <th>9273</th>\n",
       "      <td>Give me a title of one of the \"Harry Potter\" novels.</td>\n",
       "      <td>Harry Potter and the Half-Blood Prince</td>\n",
       "      <td>open_qa</td>\n",
       "    </tr>\n",
       "  </tbody>\n",
       "</table>\n",
       "</div>"
      ],
      "text/plain": [
       "                                                                            instruction  \\\n",
       "13826                                              What is a 'Public' School in the UK?   \n",
       "4315                    What are some of the causes for the 1929 US stock market crash?   \n",
       "1409                                                       Why do people live in homes?   \n",
       "7931   What are the best places to eat and top Japanese sushi  restaurant in San Mateo?   \n",
       "9273                               Give me a title of one of the \"Harry Potter\" novels.   \n",
       "\n",
       "                                                                                                                                                                                                                                                                                                                                                                                                                                                                                                                                                                                                                                                                                                                                                                           response  \\\n",
       "13826                                                                                                                                                                                                                                                                                                                                                                                                                                                                                                 Public School is a term used for an independent fee-paying school in the UK.  This is because when the schools were initially set-up, they were for the use of fee-paying parents who would share a teacher as a replacement for a dedicated at-home tutor for their children   \n",
       "4315   The 1920’s were a booming time for Americans as the stock market was surging due to speculative investing.  Stock prices rose to records heights which drove the public to invest their liquid assets into securities.  Billions of dollars were drawn from banks for broker’s loans to carry margin accounts.  People were mortgaging their homes to pour money into stocks.  In late 1929, the market eventually overheated and prices began to fall despite efforts by the banks to buy up large blocks of stock to stem the losses.  Eventually, the panic was too much and the market crashed on Black Monday, October 24th when the market closed down 12.8 percent.  The sharp decline in the 1929 stock market eventually led to the Great Depression of the 1930’s.   \n",
       "1409                                                                                                                                                                                                                                                                                                                                                                                                     People live in homes because its a way to protect you from the elements of nature like storms, heavy rain, lightning, heat and humidity.  Its a place that offers comfort with air conditioning, offers a comfortable place to sleep, and offers a comfortable place to cook and eat and have entertaining activities like television, and spending time with your family.   \n",
       "7931                                                                                                                                                                                                                                                                                                                                                                                                                                                                                                                                                                                                                                                                                                     The best Japanese Restaurant in San Mateo are Sushi Sam and Sushi Maruyama   \n",
       "9273                                                                                                                                                                                                                                                                                                                                                                                                                                                                                                                                                                                                                                                                                                                                         Harry Potter and the Half-Blood Prince   \n",
       "\n",
       "      category  \n",
       "13826  open_qa  \n",
       "4315   open_qa  \n",
       "1409   open_qa  \n",
       "7931   open_qa  \n",
       "9273   open_qa  "
      ]
     },
     "execution_count": 36,
     "metadata": {},
     "output_type": "execute_result"
    }
   ],
   "source": [
    "open_qa_df = df[df['category'] == 'open_qa'].copy(deep=True)\n",
    "open_qa_df = open_qa_df[open_qa_df['context'].str.len() == 0]\n",
    "open_qa_df = open_qa_df.drop(columns=['context'])\n",
    "open_qa_df = open_qa_df.sample(n=600, random_state=42)\n",
    "\n",
    "open_qa_df.head(5)"
   ]
  },
  {
   "attachments": {},
   "cell_type": "markdown",
   "id": "85dfe1d1-a5e8-4ec6-b305-241bc2bdecee",
   "metadata": {},
   "source": [
    "We leverage ```batch_get_confidence_score``` to efficiently obtain the confidence scores. Each call can process up to a batch of 64 input-output pairs at once, and takes around a minute to execute. The resulting scores will be saved in our ```open_qa_results``` dataframe."
   ]
  },
  {
   "cell_type": "code",
   "execution_count": 38,
   "id": "e65cf056-9840-4333-96b7-a5fedbcf4583",
   "metadata": {},
   "outputs": [
    {
     "name": "stderr",
     "output_type": "stream",
     "text": [
      " 10%|████▏                                     | 1/10 [00:42<06:26, 42.93s/it]"
     ]
    },
    {
     "name": "stdout",
     "output_type": "stream",
     "text": [
      "Updating rows: 0 to 63\n"
     ]
    },
    {
     "name": "stderr",
     "output_type": "stream",
     "text": [
      " 20%|████████▍                                 | 2/10 [01:22<05:26, 40.79s/it]"
     ]
    },
    {
     "name": "stdout",
     "output_type": "stream",
     "text": [
      "Updating rows: 64 to 127\n"
     ]
    },
    {
     "name": "stderr",
     "output_type": "stream",
     "text": [
      " 30%|████████████▌                             | 3/10 [02:00<04:36, 39.43s/it]"
     ]
    },
    {
     "name": "stdout",
     "output_type": "stream",
     "text": [
      "Updating rows: 128 to 191\n"
     ]
    },
    {
     "name": "stderr",
     "output_type": "stream",
     "text": [
      " 40%|████████████████▊                         | 4/10 [02:34<03:44, 37.37s/it]"
     ]
    },
    {
     "name": "stdout",
     "output_type": "stream",
     "text": [
      "Updating rows: 192 to 255\n"
     ]
    },
    {
     "name": "stderr",
     "output_type": "stream",
     "text": [
      " 50%|█████████████████████                     | 5/10 [03:08<03:00, 36.09s/it]"
     ]
    },
    {
     "name": "stdout",
     "output_type": "stream",
     "text": [
      "Updating rows: 256 to 319\n"
     ]
    },
    {
     "name": "stderr",
     "output_type": "stream",
     "text": [
      " 60%|█████████████████████████▏                | 6/10 [03:46<02:27, 37.00s/it]"
     ]
    },
    {
     "name": "stdout",
     "output_type": "stream",
     "text": [
      "Updating rows: 320 to 383\n"
     ]
    },
    {
     "name": "stderr",
     "output_type": "stream",
     "text": [
      " 70%|█████████████████████████████▍            | 7/10 [04:23<01:50, 36.91s/it]"
     ]
    },
    {
     "name": "stdout",
     "output_type": "stream",
     "text": [
      "Updating rows: 384 to 447\n"
     ]
    },
    {
     "name": "stderr",
     "output_type": "stream",
     "text": [
      " 80%|█████████████████████████████████▌        | 8/10 [05:01<01:14, 37.29s/it]"
     ]
    },
    {
     "name": "stdout",
     "output_type": "stream",
     "text": [
      "Updating rows: 448 to 511\n"
     ]
    },
    {
     "name": "stderr",
     "output_type": "stream",
     "text": [
      " 90%|█████████████████████████████████████▊    | 9/10 [05:40<00:37, 37.83s/it]"
     ]
    },
    {
     "name": "stdout",
     "output_type": "stream",
     "text": [
      "Updating rows: 512 to 575\n"
     ]
    },
    {
     "name": "stderr",
     "output_type": "stream",
     "text": [
      "100%|█████████████████████████████████████████| 10/10 [05:54<00:00, 35.46s/it]"
     ]
    },
    {
     "name": "stdout",
     "output_type": "stream",
     "text": [
      "Updating rows: 576 to 599\n"
     ]
    },
    {
     "name": "stderr",
     "output_type": "stream",
     "text": [
      "\n"
     ]
    }
   ],
   "source": [
    "idx_start = 0\n",
    "open_qa_results = open_qa_df.copy(deep=True) \n",
    "open_qa_results[\"confidence_score\"] = None\n",
    "\n",
    "for i in tqdm(range(0, len(open_qa_results), batch_size)):\n",
    "    end_index = min(i + batch_size, len(open_qa_results))\n",
    "    \n",
    "    try:\n",
    "        batch_instructions = open_qa_results.iloc[i:end_index][\"instruction\"].tolist()\n",
    "        batch_responses = open_qa_results.iloc[i:end_index][\"response\"].tolist()\n",
    "    \n",
    "        batch_scores = tlm.batch_get_confidence_score(\n",
    "            batch_instructions, batch_responses, retries=1\n",
    "        )\n",
    "        \n",
    "        batch_scores = list(batch_scores)\n",
    "        print(\"Updating rows:\", i, \"to\", end_index-1)\n",
    "        open_qa_results.iloc[i:end_index, open_qa_results.columns.get_loc(\"confidence_score\")] = batch_scores\n",
    "    \n",
    "    except Exception as error:\n",
    "        print(\"Failed at index \", i, \" Error: \", str(error))"
   ]
  },
  {
   "attachments": {},
   "cell_type": "markdown",
   "id": "056ce7aa-10bd-420c-af23-b9301ecc6ebc",
   "metadata": {},
   "source": [
    "Now that TLM has finished running, let's inspect our low-confidence datapoints:"
   ]
  },
  {
   "cell_type": "code",
   "execution_count": 39,
   "id": "06efa7e1-b2b4-4820-a2d2-7d62e4389dd5",
   "metadata": {},
   "outputs": [
    {
     "data": {
      "text/html": [
       "<div>\n",
       "<style scoped>\n",
       "    .dataframe tbody tr th:only-of-type {\n",
       "        vertical-align: middle;\n",
       "    }\n",
       "\n",
       "    .dataframe tbody tr th {\n",
       "        vertical-align: top;\n",
       "    }\n",
       "\n",
       "    .dataframe thead th {\n",
       "        text-align: right;\n",
       "    }\n",
       "</style>\n",
       "<table border=\"1\" class=\"dataframe\">\n",
       "  <thead>\n",
       "    <tr style=\"text-align: right;\">\n",
       "      <th></th>\n",
       "      <th>instruction</th>\n",
       "      <th>response</th>\n",
       "      <th>category</th>\n",
       "      <th>confidence_score</th>\n",
       "    </tr>\n",
       "  </thead>\n",
       "  <tbody>\n",
       "    <tr>\n",
       "      <th>3235</th>\n",
       "      <td>What did Stevie Ray Vaughan name his most beloved guitar?</td>\n",
       "      <td>Jimbo.</td>\n",
       "      <td>open_qa</td>\n",
       "      <td>0.002569</td>\n",
       "    </tr>\n",
       "    <tr>\n",
       "      <th>6265</th>\n",
       "      <td>In the series A Song of Ice and Fire, who is the founder of House Casterly?</td>\n",
       "      <td>Corlos, son of Caster</td>\n",
       "      <td>open_qa</td>\n",
       "      <td>0.015284</td>\n",
       "    </tr>\n",
       "    <tr>\n",
       "      <th>14531</th>\n",
       "      <td>In the series A Song of Ice and Fire, who is the founder of House Tyrell?</td>\n",
       "      <td>Ser Alester Tyrell</td>\n",
       "      <td>open_qa</td>\n",
       "      <td>0.016146</td>\n",
       "    </tr>\n",
       "    <tr>\n",
       "      <th>14039</th>\n",
       "      <td>Name a famous American author who wrote stories about the American South during the early 20th century.</td>\n",
       "      <td>Erskine Caldwell is a celebrated American author who wrote short stories on the rural deep south in the United States of America.  Most of his work was published in the 1930’s through the 1950’s with a few being Tobacco Road, Georgia Boy, and God’s Little acre.</td>\n",
       "      <td>open_qa</td>\n",
       "      <td>0.060823</td>\n",
       "    </tr>\n",
       "    <tr>\n",
       "      <th>7182</th>\n",
       "      <td>How many Anglo-Dutch wars were there?</td>\n",
       "      <td>There were six Anglo-Dutch wars between 1585 and 1604.</td>\n",
       "      <td>open_qa</td>\n",
       "      <td>0.061104</td>\n",
       "    </tr>\n",
       "    <tr>\n",
       "      <th>8267</th>\n",
       "      <td>Which NFL team has won every Super Bowl they played in?</td>\n",
       "      <td>Tampa Bay Buccaneers, Baltimore Ravens, New Orleans Saints, New York Jets</td>\n",
       "      <td>open_qa</td>\n",
       "      <td>0.062069</td>\n",
       "    </tr>\n",
       "    <tr>\n",
       "      <th>10777</th>\n",
       "      <td>Which artist's entire 1985 Live Aid set consisted of just a single cover song?</td>\n",
       "      <td>Elvis Costello.</td>\n",
       "      <td>open_qa</td>\n",
       "      <td>0.064325</td>\n",
       "    </tr>\n",
       "    <tr>\n",
       "      <th>7069</th>\n",
       "      <td>FTX Crypto Cup Chess was played at</td>\n",
       "      <td>Miami</td>\n",
       "      <td>open_qa</td>\n",
       "      <td>0.071002</td>\n",
       "    </tr>\n",
       "    <tr>\n",
       "      <th>2641</th>\n",
       "      <td>Panchatantra stories were written by</td>\n",
       "      <td>Panchatantra stories were written by Kautilya in Sanskrit. The stories are about animals and humans living together in harmony. They teach valuable lessons about justice, compassion, and loyalty.</td>\n",
       "      <td>open_qa</td>\n",
       "      <td>0.076307</td>\n",
       "    </tr>\n",
       "    <tr>\n",
       "      <th>4449</th>\n",
       "      <td>In the series A Song of Ice and Fire, who is the founder of House Towers?</td>\n",
       "      <td>Walton Towers</td>\n",
       "      <td>open_qa</td>\n",
       "      <td>0.082063</td>\n",
       "    </tr>\n",
       "  </tbody>\n",
       "</table>\n",
       "</div>"
      ],
      "text/plain": [
       "                                                                                                   instruction  \\\n",
       "3235                                                 What did Stevie Ray Vaughan name his most beloved guitar?   \n",
       "6265                               In the series A Song of Ice and Fire, who is the founder of House Casterly?   \n",
       "14531                                In the series A Song of Ice and Fire, who is the founder of House Tyrell?   \n",
       "14039  Name a famous American author who wrote stories about the American South during the early 20th century.   \n",
       "7182                                                                     How many Anglo-Dutch wars were there?   \n",
       "8267                                                   Which NFL team has won every Super Bowl they played in?   \n",
       "10777                           Which artist's entire 1985 Live Aid set consisted of just a single cover song?   \n",
       "7069                                                                        FTX Crypto Cup Chess was played at   \n",
       "2641                                                                      Panchatantra stories were written by   \n",
       "4449                                 In the series A Song of Ice and Fire, who is the founder of House Towers?   \n",
       "\n",
       "                                                                                                                                                                                                                                                                    response  \\\n",
       "3235                                                                                                                                                                                                                                                                  Jimbo.   \n",
       "6265                                                                                                                                                                                                                                                   Corlos, son of Caster   \n",
       "14531                                                                                                                                                                                                                                                     Ser Alester Tyrell   \n",
       "14039  Erskine Caldwell is a celebrated American author who wrote short stories on the rural deep south in the United States of America.  Most of his work was published in the 1930’s through the 1950’s with a few being Tobacco Road, Georgia Boy, and God’s Little acre.   \n",
       "7182                                                                                                                                                                                                                  There were six Anglo-Dutch wars between 1585 and 1604.   \n",
       "8267                                                                                                                                                                                               Tampa Bay Buccaneers, Baltimore Ravens, New Orleans Saints, New York Jets   \n",
       "10777                                                                                                                                                                                                                                                        Elvis Costello.   \n",
       "7069                                                                                                                                                                                                                                                                   Miami   \n",
       "2641                                                                     Panchatantra stories were written by Kautilya in Sanskrit. The stories are about animals and humans living together in harmony. They teach valuable lessons about justice, compassion, and loyalty.   \n",
       "4449                                                                                                                                                                                                                                                           Walton Towers   \n",
       "\n",
       "      category confidence_score  \n",
       "3235   open_qa         0.002569  \n",
       "6265   open_qa         0.015284  \n",
       "14531  open_qa         0.016146  \n",
       "14039  open_qa         0.060823  \n",
       "7182   open_qa         0.061104  \n",
       "8267   open_qa         0.062069  \n",
       "10777  open_qa         0.064325  \n",
       "7069   open_qa         0.071002  \n",
       "2641   open_qa         0.076307  \n",
       "4449   open_qa         0.082063  "
      ]
     },
     "execution_count": 39,
     "metadata": {},
     "output_type": "execute_result"
    }
   ],
   "source": [
    "open_qa_results = open_qa_results.sort_values(by=\"confidence_score\")\n",
    "# open_qa_results.to_csv('open_qa_results.csv', index=False)\n",
    "open_qa_results.head(10)"
   ]
  },
  {
   "attachments": {},
   "cell_type": "markdown",
   "id": "326ba532-bfb1-477e-9db4-d80ff0a1eafc",
   "metadata": {},
   "source": [
    "At this point, we would manually verify each datapoint, and choose to either correct or remove the low-quality ones."
   ]
  },
  {
   "attachments": {},
   "cell_type": "markdown",
   "id": "fa4b05af-bf16-4910-8e0d-a1108289b074",
   "metadata": {},
   "source": [
    "## Obtaining Scores on Datapoints with Context\n",
    "In the following example, we filter for ```closed_qa``` datapoints. This category contains questions that can be answered using only the information contained in the given context. For datapoints that incoporate context, we can simply prepend the context text to the instruction as follows. The rest of the steps are the same as the previous example."
   ]
  },
  {
   "cell_type": "code",
   "execution_count": 42,
   "id": "908c9dae-d820-4c7c-bd17-33fa1776bea3",
   "metadata": {},
   "outputs": [
    {
     "data": {
      "text/html": [
       "<div>\n",
       "<style scoped>\n",
       "    .dataframe tbody tr th:only-of-type {\n",
       "        vertical-align: middle;\n",
       "    }\n",
       "\n",
       "    .dataframe tbody tr th {\n",
       "        vertical-align: top;\n",
       "    }\n",
       "\n",
       "    .dataframe thead th {\n",
       "        text-align: right;\n",
       "    }\n",
       "</style>\n",
       "<table border=\"1\" class=\"dataframe\">\n",
       "  <thead>\n",
       "    <tr style=\"text-align: right;\">\n",
       "      <th></th>\n",
       "      <th>instruction</th>\n",
       "      <th>response</th>\n",
       "      <th>category</th>\n",
       "    </tr>\n",
       "  </thead>\n",
       "  <tbody>\n",
       "    <tr>\n",
       "      <th>10117</th>\n",
       "      <td>context: Douglas Stuart Moore (August 10, 1893 – July 25, 1969) was an American composer, songwriter, organist, pianist, conductor, educator, actor, and author. A composer who mainly wrote works with an American subject, his music is generally characterized by lyricism in a popular or conservative style which generally eschewed the more experimental progressive trends of musical modernism. Composer Virgil Thomson described Moore as a neoromantic composer who was influenced by American folk music. While several of his works enjoyed popularity during his lifetime, only his folk opera The Ballad of Baby Doe (1956) has remained well known into the 21st century.\\nquestion: What is Douglas Stuart Moore's best remembered for?</td>\n",
       "      <td>The Ballad of Baby Doe (1956) as it has remained well known into the 21st century.</td>\n",
       "      <td>closed_qa</td>\n",
       "    </tr>\n",
       "    <tr>\n",
       "      <th>10001</th>\n",
       "      <td>context: Oak Island has been a subject for treasure hunters ever since the late 1700s, with rumours that Captain Kidd's treasure was buried there. While there is little evidence to support what went on during the early excavations, stories began to be published and documented as early as 1856. Since that time there have been many theories that extend beyond that of Captain Kidd which include among others religious artifacts, manuscripts, and Marie Antoinette's jewels. The \"treasure\" has also been prone to criticism by those who have dismissed search areas as natural phenomena.\\nquestion: What is hidden at Oak Island?</td>\n",
       "      <td>Oak Island is rumored to have Captain Kidd's treasure buried. However despite numerous excavation attempts over the past 100 years nothing has been discovered. There are other theories which claim religious artifacts, manuscripts, or Marie Antionette's jewels are hidden at Oak Island.</td>\n",
       "      <td>closed_qa</td>\n",
       "    </tr>\n",
       "    <tr>\n",
       "      <th>6734</th>\n",
       "      <td>context: Belize, formerly known as British Honduras, is a Caribbean country located on the northeastern coast of Central America. Belize is bordered on the northwest by Mexico, on the east by the Caribbean Sea, and on the south and west by Guatemala. It has an area of 22,970 square kilometres (8,867 sq mi) and a population of 408,487 (2019). Its mainland is about 290 km (180 mi) long and 110 km (68 mi) wide. It has the lowest population and population density in Central America.\\nquestion: Given this short paragraph about Belize, how many people live there and what is notable about its population density?</td>\n",
       "      <td>Belize has a population of 408,487 people and has the lowest population density in Central America.</td>\n",
       "      <td>closed_qa</td>\n",
       "    </tr>\n",
       "    <tr>\n",
       "      <th>13939</th>\n",
       "      <td>context: In 1950s Japan, university professor Tatsuo Kusakabe and his daughters Satsuki and Mei (approximately ten and four years old, respectively) move into an old house close to the hospital where the girls' mother Yasuko is recovering from a long-term illness. The house is inhabited by small, dark, dust-like house spirits called susuwatari, which can be seen when moving from bright places to dark ones.[note 1] When the girls become comfortable in their new house, the susuwatari leave to find another empty house. Mei later discovers two small spirits who lead her into the hollow of a large camphor tree. She befriends a larger spirit, which identifies itself using a series of roars she interprets as \"Totoro\". Mei thinks Totoro is the troll from her illustrated book Three Billy Goats Gruff, with her mispronouncing troll. Mei falls asleep atop Totoro but when Satsuki finds her, she is on the ground. Despite many attempts, Mei cannot show her family Totoro's tree. Tatsuo comforts her by telling her Totoro will reveal himself when he wants to.\\nquestion: Who are the little Japanese girls who find Totoro?</td>\n",
       "      <td>Mei and Satsuki are the two Japanese girls who discover Totoro in the famous Japanese anime My Neighbour Totoro.</td>\n",
       "      <td>closed_qa</td>\n",
       "    </tr>\n",
       "    <tr>\n",
       "      <th>9779</th>\n",
       "      <td>context: The Bakersfield Majestics, formerly the Bakersfield Magic, are an American basketball team based in Bakersfield, California, and members in the minor professional The Basketball League (TBL).\\n\\nStarting The Franchise\\nFrom 2006 to 2016, Bakersfield, California, was home to the Bakersfield Jam of the NBA Development League. The team played at Rabobank Arena until 2009 and later at the Jam Events Center. On May 9, 2014, the Jam entered a hybrid affiliation with the Phoenix Suns, giving the Suns exclusive affiliation with the team while allowing the Jam to operate under their own management. On April 12, 2016, the Suns announced that the organization had purchased the Jam and were relocating the franchise to the town of Prescott Valley, Arizona, for the 2016–17 season to become the Northern Arizona Suns. In response, the previous owners of the Jam franchise, Stan Ellis and David Higdon, announced that they had been working with the D-League in securing a new franchise and affiliation before the 2016–17 season, although it did not come to fruition.\\n\\nIn June 2021, it was first reported by KGET-TV that Bakersfield would host the Bakersfield Magic in The Basketball League for the 2022 season. On August 5, 2021, it was announced that Spencer Norman, previously announced as the team market owner for the Fresno Fire, would be the team market owner. Karaya Gage was initially announced as the team's first head coach, making her the first African-American woman to serve as Head Coach of a men's professional basketball team. However, after coaching the team during a pre-season exhibition against members of the Bakersfield Police Department on January 29, 2022, Gage quietly left the organization. The team then announced that Peter Pang would serve as the new Head Coach, becoming the first Chinese-American to coach a professional basketball team in the United States. Lawrence \"Doc\" Holliday was the team's initial General Manager. However, the team had announced on March 22, 2022, that Holliday had died.\\n\\nOn April 1, 2022, The Bakersfield Magic announced that L. Dee Slade would take over as the new General Manager of the team.\\nquestion: Given a reference text about the Bakersfield Majestics, where did the team play its games?</td>\n",
       "      <td>The Bakersfield Majestics played its games at Rabobank Arena until 2009 and then the Jam Events Center in Bakersfield, California.</td>\n",
       "      <td>closed_qa</td>\n",
       "    </tr>\n",
       "  </tbody>\n",
       "</table>\n",
       "</div>"
      ],
      "text/plain": [
       "                                                                                                                                                                                                                                                                                                                                                                                                                                                                                                                                                                                                                                                                                                                                                                                                                                                                                                                                                                                                                                                                                                                                                                                                                                                                                                                                                                                                                                                                                                                                                                                                                                                                                                                                                                                                                                                                                                                                                                                                                                                                                                                                                                                                                                                                                                                                                   instruction  \\\n",
       "10117                                                                                                                                                                                                                                                                                                                                                                                                                                                                                                                                                                                                                                                                                                                                                                                                                                                                                                                                                                                                                                                                                                                                                                                                                                                                                                                                                                                                                                                                                                                                                                                                 context: Douglas Stuart Moore (August 10, 1893 – July 25, 1969) was an American composer, songwriter, organist, pianist, conductor, educator, actor, and author. A composer who mainly wrote works with an American subject, his music is generally characterized by lyricism in a popular or conservative style which generally eschewed the more experimental progressive trends of musical modernism. Composer Virgil Thomson described Moore as a neoromantic composer who was influenced by American folk music. While several of his works enjoyed popularity during his lifetime, only his folk opera The Ballad of Baby Doe (1956) has remained well known into the 21st century.\\nquestion: What is Douglas Stuart Moore's best remembered for?   \n",
       "10001                                                                                                                                                                                                                                                                                                                                                                                                                                                                                                                                                                                                                                                                                                                                                                                                                                                                                                                                                                                                                                                                                                                                                                                                                                                                                                                                                                                                                                                                                                                                                                                                                                                                                                         context: Oak Island has been a subject for treasure hunters ever since the late 1700s, with rumours that Captain Kidd's treasure was buried there. While there is little evidence to support what went on during the early excavations, stories began to be published and documented as early as 1856. Since that time there have been many theories that extend beyond that of Captain Kidd which include among others religious artifacts, manuscripts, and Marie Antoinette's jewels. The \"treasure\" has also been prone to criticism by those who have dismissed search areas as natural phenomena.\\nquestion: What is hidden at Oak Island?   \n",
       "6734                                                                                                                                                                                                                                                                                                                                                                                                                                                                                                                                                                                                                                                                                                                                                                                                                                                                                                                                                                                                                                                                                                                                                                                                                                                                                                                                                                                                                                                                                                                                                                                                                                                                                                                      context: Belize, formerly known as British Honduras, is a Caribbean country located on the northeastern coast of Central America. Belize is bordered on the northwest by Mexico, on the east by the Caribbean Sea, and on the south and west by Guatemala. It has an area of 22,970 square kilometres (8,867 sq mi) and a population of 408,487 (2019). Its mainland is about 290 km (180 mi) long and 110 km (68 mi) wide. It has the lowest population and population density in Central America.\\nquestion: Given this short paragraph about Belize, how many people live there and what is notable about its population density?   \n",
       "13939                                                                                                                                                                                                                                                                                                                                                                                                                                                                                                                                                                                                                                                                                                                                                                                                                                                                                                                                                                                                                                                                                                                                                                                          context: In 1950s Japan, university professor Tatsuo Kusakabe and his daughters Satsuki and Mei (approximately ten and four years old, respectively) move into an old house close to the hospital where the girls' mother Yasuko is recovering from a long-term illness. The house is inhabited by small, dark, dust-like house spirits called susuwatari, which can be seen when moving from bright places to dark ones.[note 1] When the girls become comfortable in their new house, the susuwatari leave to find another empty house. Mei later discovers two small spirits who lead her into the hollow of a large camphor tree. She befriends a larger spirit, which identifies itself using a series of roars she interprets as \"Totoro\". Mei thinks Totoro is the troll from her illustrated book Three Billy Goats Gruff, with her mispronouncing troll. Mei falls asleep atop Totoro but when Satsuki finds her, she is on the ground. Despite many attempts, Mei cannot show her family Totoro's tree. Tatsuo comforts her by telling her Totoro will reveal himself when he wants to.\\nquestion: Who are the little Japanese girls who find Totoro?   \n",
       "9779   context: The Bakersfield Majestics, formerly the Bakersfield Magic, are an American basketball team based in Bakersfield, California, and members in the minor professional The Basketball League (TBL).\\n\\nStarting The Franchise\\nFrom 2006 to 2016, Bakersfield, California, was home to the Bakersfield Jam of the NBA Development League. The team played at Rabobank Arena until 2009 and later at the Jam Events Center. On May 9, 2014, the Jam entered a hybrid affiliation with the Phoenix Suns, giving the Suns exclusive affiliation with the team while allowing the Jam to operate under their own management. On April 12, 2016, the Suns announced that the organization had purchased the Jam and were relocating the franchise to the town of Prescott Valley, Arizona, for the 2016–17 season to become the Northern Arizona Suns. In response, the previous owners of the Jam franchise, Stan Ellis and David Higdon, announced that they had been working with the D-League in securing a new franchise and affiliation before the 2016–17 season, although it did not come to fruition.\\n\\nIn June 2021, it was first reported by KGET-TV that Bakersfield would host the Bakersfield Magic in The Basketball League for the 2022 season. On August 5, 2021, it was announced that Spencer Norman, previously announced as the team market owner for the Fresno Fire, would be the team market owner. Karaya Gage was initially announced as the team's first head coach, making her the first African-American woman to serve as Head Coach of a men's professional basketball team. However, after coaching the team during a pre-season exhibition against members of the Bakersfield Police Department on January 29, 2022, Gage quietly left the organization. The team then announced that Peter Pang would serve as the new Head Coach, becoming the first Chinese-American to coach a professional basketball team in the United States. Lawrence \"Doc\" Holliday was the team's initial General Manager. However, the team had announced on March 22, 2022, that Holliday had died.\\n\\nOn April 1, 2022, The Bakersfield Magic announced that L. Dee Slade would take over as the new General Manager of the team.\\nquestion: Given a reference text about the Bakersfield Majestics, where did the team play its games?   \n",
       "\n",
       "                                                                                                                                                                                                                                                                                            response  \\\n",
       "10117                                                                                                                                                                                                             The Ballad of Baby Doe (1956) as it has remained well known into the 21st century.   \n",
       "10001  Oak Island is rumored to have Captain Kidd's treasure buried. However despite numerous excavation attempts over the past 100 years nothing has been discovered. There are other theories which claim religious artifacts, manuscripts, or Marie Antionette's jewels are hidden at Oak Island.   \n",
       "6734                                                                                                                                                                                             Belize has a population of 408,487 people and has the lowest population density in Central America.   \n",
       "13939                                                                                                                                                                               Mei and Satsuki are the two Japanese girls who discover Totoro in the famous Japanese anime My Neighbour Totoro.   \n",
       "9779                                                                                                                                                              The Bakersfield Majestics played its games at Rabobank Arena until 2009 and then the Jam Events Center in Bakersfield, California.   \n",
       "\n",
       "        category  \n",
       "10117  closed_qa  \n",
       "10001  closed_qa  \n",
       "6734   closed_qa  \n",
       "13939  closed_qa  \n",
       "9779   closed_qa  "
      ]
     },
     "execution_count": 42,
     "metadata": {},
     "output_type": "execute_result"
    }
   ],
   "source": [
    "closed_qa_df = df[df['category'] == 'closed_qa'].copy(deep=True)\n",
    "closed_qa_df['instruction'] = 'context: ' + closed_qa_df['context'].astype(str) + '\\nquestion: ' + closed_qa_df['instruction'].astype(str)\n",
    "closed_qa_df = closed_qa_df.drop(columns=['context'])\n",
    "closed_qa_df = closed_qa_df.sample(n=600, random_state=42)\n",
    "\n",
    "closed_qa_df.head(5)"
   ]
  },
  {
   "cell_type": "code",
   "execution_count": null,
   "id": "74505644-765b-424d-933e-66c08709ba78",
   "metadata": {},
   "outputs": [],
   "source": [
    "idx_start = 0\n",
    "closed_qa_results = closed_qa_df.copy(deep=True) \n",
    "closed_qa_results[\"confidence_score\"] = None\n",
    "\n",
    "for i in tqdm(range(0, len(closed_qa_results), batch_size)):\n",
    "    end_index = min(i + batch_size, len(closed_qa_results))\n",
    "    try:\n",
    "        batch_instructions = closed_qa_results.iloc[i:end_index][\"instruction\"].tolist()\n",
    "        batch_responses = closed_qa_results.iloc[i:end_index][\"response\"].tolist()\n",
    "    \n",
    "        batch_scores = tlm.batch_get_confidence_score(\n",
    "            batch_instructions, batch_responses, retries=1\n",
    "        )\n",
    "        \n",
    "        batch_scores = list(batch_scores)\n",
    "        closed_qa_results.iloc[i:end_index, closed_qa_results.columns.get_loc(\"confidence_score\")] = batch_scores\n",
    "        \n",
    "    except Exception as error:\n",
    "        print(\"Failed at index \", i, \" Error: \", str(error))"
   ]
  },
  {
   "cell_type": "code",
   "execution_count": 44,
   "id": "0378a48b-83e0-4ea3-862c-dbfe9f611225",
   "metadata": {},
   "outputs": [
    {
     "data": {
      "text/html": [
       "<div>\n",
       "<style scoped>\n",
       "    .dataframe tbody tr th:only-of-type {\n",
       "        vertical-align: middle;\n",
       "    }\n",
       "\n",
       "    .dataframe tbody tr th {\n",
       "        vertical-align: top;\n",
       "    }\n",
       "\n",
       "    .dataframe thead th {\n",
       "        text-align: right;\n",
       "    }\n",
       "</style>\n",
       "<table border=\"1\" class=\"dataframe\">\n",
       "  <thead>\n",
       "    <tr style=\"text-align: right;\">\n",
       "      <th></th>\n",
       "      <th>instruction</th>\n",
       "      <th>response</th>\n",
       "      <th>category</th>\n",
       "      <th>confidence_score</th>\n",
       "    </tr>\n",
       "  </thead>\n",
       "  <tbody>\n",
       "    <tr>\n",
       "      <th>6770</th>\n",
       "      <td>context: In 2011 Kathy Ryan, director of photography for The New York Times Magazine commissioned Prager to shoot 12, 1 minute films with some film actors from that year, inspired by \"cinematic villainy\". Prager won a News and Documentary Emmy Award for New Approaches to News &amp; Documentary Programming: Arts, Lifestyle &amp; Culture for her Touch of Evil short films.\\nquestion: What magazine was Alex Prager the director of Photography for?</td>\n",
       "      <td>Alex Prager was the director of photography for the New York Times Magazine.</td>\n",
       "      <td>closed_qa</td>\n",
       "      <td>0.064139</td>\n",
       "    </tr>\n",
       "    <tr>\n",
       "      <th>9452</th>\n",
       "      <td>context: The relative size of a Foley catheter is described using French units (F). Alternatively, the size of a 10 F catheter might be expressed as 10 Ch (Charriere units – named after a 19th century French scientific instrument maker, Joseph-Frédéric-Benoît Charrière). The most common sizes are 10 F to 28 F. 1 F is equivalent to 0.33 mm = .013\" = 1/77\" of diameter. Foley catheters are usually color coded by size with a solid color band at the external end of the balloon inflation tube, allowing for easy identification of the size. Note: Colors for French sizes 5, 6, 8, 10 may vary significantly if intended for pediatric patients. Color for French size 26 may also be pink instead of black.\\nhttps://en.wikipedia.org/wiki/Foley_catheter\\nquestion: Based on this paragraph, what is the diameter of a 10 F Foley catheter in mm?</td>\n",
       "      <td>According to this paragraph, the diameter of a 1 F catheter is 1/77mm so the diameter of a 10 F catheter is 10/77mm.</td>\n",
       "      <td>closed_qa</td>\n",
       "      <td>0.113954</td>\n",
       "    </tr>\n",
       "    <tr>\n",
       "      <th>956</th>\n",
       "      <td>context: The dead man zone is the area directly around a bushfire that is likely to burn within five minutes given the current wind conditions or an anticipated change in wind direction. The distance this zone extends from the firefront is highly dependent on terrain, windspeed, fuel type and composition, relative humidity and ambient temperature, and can range from under 100 metres (330 ft) to well over 1 kilometre (3,300 ft).\\nquestion: Based on this article, considerations of what time zone is used for determining what land is in the dead man zone?</td>\n",
       "      <td>A five minute period in the future is used for creating the dead man zone.</td>\n",
       "      <td>closed_qa</td>\n",
       "      <td>0.142538</td>\n",
       "    </tr>\n",
       "    <tr>\n",
       "      <th>9953</th>\n",
       "      <td>context: Charles André Weiss (September 30, 1858 in Mulhouse - August 31, 1928 in the Hague) was a French jurist. He was professor at the Universities of Dijon and Paris and served from 1922 until his death as judge of the Permanent Court of International Justice.\\n\\nLife\\nAndré Weiss was born in Mulhouse in 1858 and completed a degree in law at the University of Paris in 1880. The following year he became a professor at the University of Dijon. In 1891 he moved to the Law School of the University of Paris. There he was from 1896 to 1908 a full professor of civil law, and from 1908 he held the chair for international law and private international law. From 1907 he also acted as legal advisor to the French Ministry of Foreign Affairs. He was a close associate of Secretary of State Aristide Briand and participated as a delegate to the Paris Peace Conference at the end of World War I. He led one of the subcommissions of the conference.\\n\\nFrom 1920, he was a member of the Permanent Court of Arbitration in The Hague. In September 1921, he was elected by the Assembly and the Council of the League of Nations to the post of judge on the newly formed Permanent International Court. His fellow judges elected him vice president at the beginning of the Tribunal's work on February 3, 1922. He was confirmed in this office in 1924 and 1927. He died before the end of his term as Judge and Vice President in August 1928 in the Hague. His compatriot, Henri Fromageot, was elected his successor, and in the office of vice-president he was succeeded by the Swiss Max Huber.\\n\\nAndré Weiss taught in 1923 as a lecturer at the Hague Academy of International Law. He was a member of the Institut de Droit International from 1887, acting as president of its 30th session in 1922 in Grenoble. From 1914 he was a member of the Académie des sciences morales et politiques.\\nquestion: here is some text about Andre Weiss, how many years was Andre at University of Dijon in Paris?</td>\n",
       "      <td>Andre Weiss was at the University of Dijon in Paris for 10 years, 1881 to 1891, before moving to the University of Paris Law School.</td>\n",
       "      <td>closed_qa</td>\n",
       "      <td>0.193244</td>\n",
       "    </tr>\n",
       "    <tr>\n",
       "      <th>145</th>\n",
       "      <td>context: The law of triviality is C. Northcote Parkinson's 1957 argument that people within an organization commonly or typically give disproportionate weight to trivial issues. Parkinson provides the example of a fictional committee whose job was to approve the plans for a nuclear power plant spending the majority of its time on discussions about relatively minor but easy-to-grasp issues, such as what materials to use for the staff bicycle shed, while neglecting the proposed design of the plant itself, which is far more important and a far more difficult and complex task.\\n\\nThe law has been applied to software development and other activities. The terms bicycle-shed effect, bike-shed effect, and bike-shedding were coined based on Parkinson's example; it was popularised in the Berkeley Software Distribution community by the Danish software developer Poul-Henning Kamp in 1999 and, due to that, has since become popular within the field of software development generally.\\n\\nArgument\\n\\nA bicycle shed\\nThe concept was first presented as a corollary of his broader \"Parkinson's law\" spoof of management. He dramatizes this \"law of triviality\" with the example of a committee's deliberations on an atomic reactor, contrasting it to deliberations on a bicycle shed. As he put it: \"The time spent on any item of the agenda will be in inverse proportion to the sum [of money] involved.\" A reactor is so vastly expensive and complicated that an average person cannot understand it (see ambiguity aversion), so one assumes that those who work on it understand it. However, everyone can visualize a cheap, simple bicycle shed, so planning one can result in endless discussions because everyone involved wants to implement their own proposal and demonstrate personal contribution.\\n\\nAfter a suggestion of building something new for the community, like a bike shed, problems arise when everyone involved argues about the details. This is a metaphor indicating that it is not necessary to argue about every little feature based simply on having the knowledge to do so. Some people have commented that the amount of noise generated by a change is inversely proportional to the complexity of the change.\\n\\nThe law of triviality is supported by behavioural research. People tend to spend more time on small decisions than they should, and less time on big decisions than they should. A simple explanation is that during the process of making a decision, one has to assess whether enough information has been collected to make the decision. If people make mistakes about whether they have enough information, they will tend to stop too early for big decisions. The reason is that big decisions require collecting information for a long time. It leaves more time to make a mistake (and stop) before getting enough information. Conversely, for small decisions, where people should stop early, they may continue to ponder for too long by mistake.\\n\\nRelated principles and formulations \\nThere are several other principles, well-known in specific problem domains, which express a similar sentiment.\\n\\nWadler's law, named for computer scientist Philip Wadler, is a principle which asserts that the bulk of discussion on programming-language design centers on syntax (which, for purposes of the argument, is considered a solved problem), as opposed to semantics.\\n\\nSayre's law is a more general principle, which holds (among other formulations) that \"In any dispute, the intensity of feeling is inversely proportional to the value of the issues at stake\"; many formulations of the principle focus on academia.\\nquestion: Who coined the phrase \"Bike-shedding\" and when?</td>\n",
       "      <td>The phrase \"bike-shedding\" was introduced in 1957 by C. Northcote Parkinson.</td>\n",
       "      <td>closed_qa</td>\n",
       "      <td>0.203536</td>\n",
       "    </tr>\n",
       "    <tr>\n",
       "      <th>13869</th>\n",
       "      <td>context: In the United States between 1973 and 1999, September 16 is the most common birthday in the United States and December 25 the least common birthday (other than February 29, because of leap years). In 2011, October 5 and 6 were reported as the most frequently occurring birthdays.\\nquestion: What is the least common birthday in the United States?</td>\n",
       "      <td>The least common birthday in the United States between 1973 and 1999 was February 29 because of leap years.</td>\n",
       "      <td>closed_qa</td>\n",
       "      <td>0.253206</td>\n",
       "    </tr>\n",
       "    <tr>\n",
       "      <th>14865</th>\n",
       "      <td>context: Especially among growers in the US, the UK, and Australia, there has been a competition since the 1990s to grow the hottest chili pepper. Chili pepper species and cultivars registering over 1,000,000 Scoville Heat units (SHU) are called \"super-hots\". Past Guinness World Record holders (in increasing order of hotness) include the ghost pepper, Infinity chili, Trinidad Moruga scorpion, Naga Viper pepper, and Trinidad Scorpion Butch T. The current record holder, declared in 2017, is the Carolina Reaper, at more than 1.6 million SHU.\\nquestion: Given the information provided about hottest chili pepper, which is the hottest naturally grown chili pepper in the world?</td>\n",
       "      <td>Although Carolina Reaper currently holds the Guinness World Record for the hottest chili pepper, it is not the hottest chili pepper that is cultivated naturally. The Ghost Pepper, also known as Bhut Jholokia, is the spiciest chili pepper in the world that is grown naturally. It is most commonly found in Bangladesh and northeastern India. This pepper is frequently referred to as the \"ghost pepper\" in the West since \"bhut\" means \"ghost\" in the Assamese language. These peppers have thin, easily tearing, dented skin.\\n\\nA ghost pepper and an Ed Currie-bred Carolina Reaper can be compared because both are extremely fiery and have a sweet, fruity flavor. The Carolina Reaper has more than twice the heat of the ghost pepper when it is at its fiercest, despite the fact that both peppers are extremely spicy. Ghost peppers have a maximum SHU of 1,041,427, while the Carolina Reaper has a maximum SHU of 2.2 million.\\n\\nGhost peppers have a potent, sweet-fruity chili flavor. The first 30 to 45 seconds do not experience any heat. After the heat sets in, anticipate to experience shortness of breath, hiccups, perspiration, and watery eyes. The burning typically worsens over 10 to 15 minutes before going away after 30 to 40 minutes.</td>\n",
       "      <td>closed_qa</td>\n",
       "      <td>0.280514</td>\n",
       "    </tr>\n",
       "    <tr>\n",
       "      <th>10513</th>\n",
       "      <td>context: Anne Elizabeth Howells (12 January 1941 – 18 May 2022) was a British operatic mezzo-soprano.\\n\\nBiography\\nHowells was born in Southport, Lancashire on 12 January 1941, the daughter of Trevor Howells and Mona Howells (née Hewart). She was educated at Sale Grammar School, where her teachers included Alfred Higson. She further studied music at the Royal Manchester College of Music (now the Royal Northern College of Music), where her teachers included Frederic Cox. Howells continued singing studies with Vera Rózsa.\\n\\nHowells sang in productions at Glyndebourne, the Royal Opera House, and with the Metropolitan Opera in New York, the Lyric Opera of Chicago, the opera houses of both San Francisco and Los Angeles, the four Parisian opera houses, the Grand Théâtre de Genève, the Salzburger Festspiele, the Vienna Staatsoper, the Carnegie Hall, and the Musikverein of Vienna. She sang in the premieres of Rolf Liebermann's Forêt (as Régine), Nicholas Maw's The Rising of the Moon (as Cathleen) and of Richard Rodney Bennett's Victory (as Lena). Following her retirement from public performance, Howells taught at the Royal Academy of Music.\\nquestion: Given a reference text about Anne Elizabeth Howells, tell me the names' of her parents and how she died.</td>\n",
       "      <td>Anne Elizabeth Howells parents are Trevor and Mona Howells. She died from myeloma.</td>\n",
       "      <td>closed_qa</td>\n",
       "      <td>0.365155</td>\n",
       "    </tr>\n",
       "    <tr>\n",
       "      <th>5127</th>\n",
       "      <td>context: Malayalam (/ˌmæləˈjɑːləm/; Malayalam: മലയാളം, Malayāḷam, [mɐlɐjaːɭɐm] (listen)) is a Dravidian language spoken in the Indian state of Kerala and the union territories of Lakshadweep and Puducherry (Mahé district) by the Malayali people. It is one of 22 scheduled languages of India. Malayalam was designated a \"Classical Language of India\" in 2013. Malayalam has official language status in Kerala and Puducherry (Mahé), and is also the primary spoken language of Lakshadweep and is spoken by 34 million people in India. Malayalam is also spoken by linguistic minorities in the neighbouring states; with a significant number of speakers in the Kodagu and Dakshina Kannada districts of Karnataka, and Kanyakumari, district of Tamil Nadu. It is also spoken by the Malayali Diaspora worldwide, especially in the Persian Gulf countries, due to the large populations of Malayali expatriates there. They are a significant population in each city in India including Mumbai, Bengaluru, Delhi, Kolkata, Pune etc.\\nquestion: Is the language spoken in Kerala a palindrome?</td>\n",
       "      <td>Yes, malayalam is the language spoken in Kerala and it is a palindrome</td>\n",
       "      <td>closed_qa</td>\n",
       "      <td>0.365852</td>\n",
       "    </tr>\n",
       "    <tr>\n",
       "      <th>2220</th>\n",
       "      <td>context: Macroglossum insipida, the hermit hummingbird hawkmoth, is a moth of the family Sphingidae. It was described by Arthur Gardiner Butler in 1875.\\nquestion: Was the hermit hummingbird hawkmoth described in the 20th or 21st century?</td>\n",
       "      <td>Neither.  It was first described by Arthur Gardiner Butler in 1875, which is in the 19th century.</td>\n",
       "      <td>closed_qa</td>\n",
       "      <td>0.368751</td>\n",
       "    </tr>\n",
       "  </tbody>\n",
       "</table>\n",
       "</div>"
      ],
      "text/plain": [
       "                                                                                                                                                                                                                                                                                                                                                                                                                                                                                                                                                                                                                                                                                                                                                                                                                                                                                                                                                                                                                                                                                                                                                                                                                                                                                                                                                                                                                                                                                                                                                                                                                                                                                                                                                                                                                                                                                                                                                                                                                                                                                                                                                                                                                                                                                                                                                                                                                                                                                                                                                                                                                                                                                                                                                                                                                                                                                                                                                                                                                                                                                                                                                                                                                                                                                                                                                                                                                                                                                                                                                                                                                                                                                                                                                                                                             instruction  \\\n",
       "6770                                                                                                                                                                                                                                                                                                                                                                                                                                                                                                                                                                                                                                                                                                                                                                                                                                                                                                                                                                                                                                                                                                                                                                                                                                                                                                                                                                                                                                                                                                                                                                                                                                                                                                                                                                                                                                                                                                                                                                                                                                                                                                                                                                                                                                                                                                                                                                                                                                                                                                                                                                                                                                                                                                                                                                                                                                                                                                                                                                                                                                                                                                                                                                                                                                                                                                                                                              context: In 2011 Kathy Ryan, director of photography for The New York Times Magazine commissioned Prager to shoot 12, 1 minute films with some film actors from that year, inspired by \"cinematic villainy\". Prager won a News and Documentary Emmy Award for New Approaches to News & Documentary Programming: Arts, Lifestyle & Culture for her Touch of Evil short films.\\nquestion: What magazine was Alex Prager the director of Photography for?   \n",
       "9452                                                                                                                                                                                                                                                                                                                                                                                                                                                                                                                                                                                                                                                                                                                                                                                                                                                                                                                                                                                                                                                                                                                                                                                                                                                                                                                                                                                                                                                                                                                                                                                                                                                                                                                                                                                                                                                                                                                                                                                                                                                                                                                                                                                                                                                                                                                                                                                                                                                                                                                                                                                                                                                                                                                                                                                                                                                                                                                                                  context: The relative size of a Foley catheter is described using French units (F). Alternatively, the size of a 10 F catheter might be expressed as 10 Ch (Charriere units – named after a 19th century French scientific instrument maker, Joseph-Frédéric-Benoît Charrière). The most common sizes are 10 F to 28 F. 1 F is equivalent to 0.33 mm = .013\" = 1/77\" of diameter. Foley catheters are usually color coded by size with a solid color band at the external end of the balloon inflation tube, allowing for easy identification of the size. Note: Colors for French sizes 5, 6, 8, 10 may vary significantly if intended for pediatric patients. Color for French size 26 may also be pink instead of black.\\nhttps://en.wikipedia.org/wiki/Foley_catheter\\nquestion: Based on this paragraph, what is the diameter of a 10 F Foley catheter in mm?   \n",
       "956                                                                                                                                                                                                                                                                                                                                                                                                                                                                                                                                                                                                                                                                                                                                                                                                                                                                                                                                                                                                                                                                                                                                                                                                                                                                                                                                                                                                                                                                                                                                                                                                                                                                                                                                                                                                                                                                                                                                                                                                                                                                                                                                                                                                                                                                                                                                                                                                                                                                                                                                                                                                                                                                                                                                                                                                                                                                                                                                                                                                                                                                                                                                                                                                                                        context: The dead man zone is the area directly around a bushfire that is likely to burn within five minutes given the current wind conditions or an anticipated change in wind direction. The distance this zone extends from the firefront is highly dependent on terrain, windspeed, fuel type and composition, relative humidity and ambient temperature, and can range from under 100 metres (330 ft) to well over 1 kilometre (3,300 ft).\\nquestion: Based on this article, considerations of what time zone is used for determining what land is in the dead man zone?   \n",
       "9953                                                                                                                                                                                                                                                                                                                                                                                                                                                                                                                                                                                                                                                                                                                                                                                                                                                                                                                                                                                                                                                                                                                                                                                                                                                                                                                                                                                                                                                                                                                                                                                                                                                                                                                                                              context: Charles André Weiss (September 30, 1858 in Mulhouse - August 31, 1928 in the Hague) was a French jurist. He was professor at the Universities of Dijon and Paris and served from 1922 until his death as judge of the Permanent Court of International Justice.\\n\\nLife\\nAndré Weiss was born in Mulhouse in 1858 and completed a degree in law at the University of Paris in 1880. The following year he became a professor at the University of Dijon. In 1891 he moved to the Law School of the University of Paris. There he was from 1896 to 1908 a full professor of civil law, and from 1908 he held the chair for international law and private international law. From 1907 he also acted as legal advisor to the French Ministry of Foreign Affairs. He was a close associate of Secretary of State Aristide Briand and participated as a delegate to the Paris Peace Conference at the end of World War I. He led one of the subcommissions of the conference.\\n\\nFrom 1920, he was a member of the Permanent Court of Arbitration in The Hague. In September 1921, he was elected by the Assembly and the Council of the League of Nations to the post of judge on the newly formed Permanent International Court. His fellow judges elected him vice president at the beginning of the Tribunal's work on February 3, 1922. He was confirmed in this office in 1924 and 1927. He died before the end of his term as Judge and Vice President in August 1928 in the Hague. His compatriot, Henri Fromageot, was elected his successor, and in the office of vice-president he was succeeded by the Swiss Max Huber.\\n\\nAndré Weiss taught in 1923 as a lecturer at the Hague Academy of International Law. He was a member of the Institut de Droit International from 1887, acting as president of its 30th session in 1922 in Grenoble. From 1914 he was a member of the Académie des sciences morales et politiques.\\nquestion: here is some text about Andre Weiss, how many years was Andre at University of Dijon in Paris?   \n",
       "145    context: The law of triviality is C. Northcote Parkinson's 1957 argument that people within an organization commonly or typically give disproportionate weight to trivial issues. Parkinson provides the example of a fictional committee whose job was to approve the plans for a nuclear power plant spending the majority of its time on discussions about relatively minor but easy-to-grasp issues, such as what materials to use for the staff bicycle shed, while neglecting the proposed design of the plant itself, which is far more important and a far more difficult and complex task.\\n\\nThe law has been applied to software development and other activities. The terms bicycle-shed effect, bike-shed effect, and bike-shedding were coined based on Parkinson's example; it was popularised in the Berkeley Software Distribution community by the Danish software developer Poul-Henning Kamp in 1999 and, due to that, has since become popular within the field of software development generally.\\n\\nArgument\\n\\nA bicycle shed\\nThe concept was first presented as a corollary of his broader \"Parkinson's law\" spoof of management. He dramatizes this \"law of triviality\" with the example of a committee's deliberations on an atomic reactor, contrasting it to deliberations on a bicycle shed. As he put it: \"The time spent on any item of the agenda will be in inverse proportion to the sum [of money] involved.\" A reactor is so vastly expensive and complicated that an average person cannot understand it (see ambiguity aversion), so one assumes that those who work on it understand it. However, everyone can visualize a cheap, simple bicycle shed, so planning one can result in endless discussions because everyone involved wants to implement their own proposal and demonstrate personal contribution.\\n\\nAfter a suggestion of building something new for the community, like a bike shed, problems arise when everyone involved argues about the details. This is a metaphor indicating that it is not necessary to argue about every little feature based simply on having the knowledge to do so. Some people have commented that the amount of noise generated by a change is inversely proportional to the complexity of the change.\\n\\nThe law of triviality is supported by behavioural research. People tend to spend more time on small decisions than they should, and less time on big decisions than they should. A simple explanation is that during the process of making a decision, one has to assess whether enough information has been collected to make the decision. If people make mistakes about whether they have enough information, they will tend to stop too early for big decisions. The reason is that big decisions require collecting information for a long time. It leaves more time to make a mistake (and stop) before getting enough information. Conversely, for small decisions, where people should stop early, they may continue to ponder for too long by mistake.\\n\\nRelated principles and formulations \\nThere are several other principles, well-known in specific problem domains, which express a similar sentiment.\\n\\nWadler's law, named for computer scientist Philip Wadler, is a principle which asserts that the bulk of discussion on programming-language design centers on syntax (which, for purposes of the argument, is considered a solved problem), as opposed to semantics.\\n\\nSayre's law is a more general principle, which holds (among other formulations) that \"In any dispute, the intensity of feeling is inversely proportional to the value of the issues at stake\"; many formulations of the principle focus on academia.\\nquestion: Who coined the phrase \"Bike-shedding\" and when?   \n",
       "13869                                                                                                                                                                                                                                                                                                                                                                                                                                                                                                                                                                                                                                                                                                                                                                                                                                                                                                                                                                                                                                                                                                                                                                                                                                                                                                                                                                                                                                                                                                                                                                                                                                                                                                                                                                                                                                                                                                                                                                                                                                                                                                                                                                                                                                                                                                                                                                                                                                                                                                                                                                                                                                                                                                                                                                                                                                                                                                                                                                                                                                                                                                                                                                                                                                                                                                                                                                                                                                                context: In the United States between 1973 and 1999, September 16 is the most common birthday in the United States and December 25 the least common birthday (other than February 29, because of leap years). In 2011, October 5 and 6 were reported as the most frequently occurring birthdays.\\nquestion: What is the least common birthday in the United States?   \n",
       "14865                                                                                                                                                                                                                                                                                                                                                                                                                                                                                                                                                                                                                                                                                                                                                                                                                                                                                                                                                                                                                                                                                                                                                                                                                                                                                                                                                                                                                                                                                                                                                                                                                                                                                                                                                                                                                                                                                                                                                                                                                                                                                                                                                                                                                                                                                                                                                                                                                                                                                                                                                                                                                                                                                                                                                                                                                                                                                                                                                                                                                                                                                                             context: Especially among growers in the US, the UK, and Australia, there has been a competition since the 1990s to grow the hottest chili pepper. Chili pepper species and cultivars registering over 1,000,000 Scoville Heat units (SHU) are called \"super-hots\". Past Guinness World Record holders (in increasing order of hotness) include the ghost pepper, Infinity chili, Trinidad Moruga scorpion, Naga Viper pepper, and Trinidad Scorpion Butch T. The current record holder, declared in 2017, is the Carolina Reaper, at more than 1.6 million SHU.\\nquestion: Given the information provided about hottest chili pepper, which is the hottest naturally grown chili pepper in the world?   \n",
       "10513                                                                                                                                                                                                                                                                                                                                                                                                                                                                                                                                                                                                                                                                                                                                                                                                                                                                                                                                                                                                                                                                                                                                                                                                                                                                                                                                                                                                                                                                                                                                                                                                                                                                                                                                                                                                                                                                                                                                                                                                                                                                                                                                                                                                                                                                                                                                                                                                                                                                                               context: Anne Elizabeth Howells (12 January 1941 – 18 May 2022) was a British operatic mezzo-soprano.\\n\\nBiography\\nHowells was born in Southport, Lancashire on 12 January 1941, the daughter of Trevor Howells and Mona Howells (née Hewart). She was educated at Sale Grammar School, where her teachers included Alfred Higson. She further studied music at the Royal Manchester College of Music (now the Royal Northern College of Music), where her teachers included Frederic Cox. Howells continued singing studies with Vera Rózsa.\\n\\nHowells sang in productions at Glyndebourne, the Royal Opera House, and with the Metropolitan Opera in New York, the Lyric Opera of Chicago, the opera houses of both San Francisco and Los Angeles, the four Parisian opera houses, the Grand Théâtre de Genève, the Salzburger Festspiele, the Vienna Staatsoper, the Carnegie Hall, and the Musikverein of Vienna. She sang in the premieres of Rolf Liebermann's Forêt (as Régine), Nicholas Maw's The Rising of the Moon (as Cathleen) and of Richard Rodney Bennett's Victory (as Lena). Following her retirement from public performance, Howells taught at the Royal Academy of Music.\\nquestion: Given a reference text about Anne Elizabeth Howells, tell me the names' of her parents and how she died.   \n",
       "5127                                                                                                                                                                                                                                                                                                                                                                                                                                                                                                                                                                                                                                                                                                                                                                                                                                                                                                                                                                                                                                                                                                                                                                                                                                                                                                                                                                                                                                                                                                                                                                                                                                                                                                                                                                                                                                                                                                                                                                                                                                                                                                                                                                                                                                                                                                                                                                                                                                                                                                                                                                                                                                                                                                      context: Malayalam (/ˌmæləˈjɑːləm/; Malayalam: മലയാളം, Malayāḷam, [mɐlɐjaːɭɐm] (listen)) is a Dravidian language spoken in the Indian state of Kerala and the union territories of Lakshadweep and Puducherry (Mahé district) by the Malayali people. It is one of 22 scheduled languages of India. Malayalam was designated a \"Classical Language of India\" in 2013. Malayalam has official language status in Kerala and Puducherry (Mahé), and is also the primary spoken language of Lakshadweep and is spoken by 34 million people in India. Malayalam is also spoken by linguistic minorities in the neighbouring states; with a significant number of speakers in the Kodagu and Dakshina Kannada districts of Karnataka, and Kanyakumari, district of Tamil Nadu. It is also spoken by the Malayali Diaspora worldwide, especially in the Persian Gulf countries, due to the large populations of Malayali expatriates there. They are a significant population in each city in India including Mumbai, Bengaluru, Delhi, Kolkata, Pune etc.\\nquestion: Is the language spoken in Kerala a palindrome?   \n",
       "2220                                                                                                                                                                                                                                                                                                                                                                                                                                                                                                                                                                                                                                                                                                                                                                                                                                                                                                                                                                                                                                                                                                                                                                                                                                                                                                                                                                                                                                                                                                                                                                                                                                                                                                                                                                                                                                                                                                                                                                                                                                                                                                                                                                                                                                                                                                                                                                                                                                                                                                                                                                                                                                                                                                                                                                                                                                                                                                                                                                                                                                                                                                                                                                                                                                                                                                                                                                                                                                                                                                                                                                      context: Macroglossum insipida, the hermit hummingbird hawkmoth, is a moth of the family Sphingidae. It was described by Arthur Gardiner Butler in 1875.\\nquestion: Was the hermit hummingbird hawkmoth described in the 20th or 21st century?   \n",
       "\n",
       "                                                                                                                                                                                                                                                                                                                                                                                                                                                                                                                                                                                                                                                                                                                                                                                                                                                                                                                                                                                                                                                                                                                                                                                                                                                                                 response  \\\n",
       "6770                                                                                                                                                                                                                                                                                                                                                                                                                                                                                                                                                                                                                                                                                                                                                                                                                                                                                                                                                                                                                                                                                                                                                                                                         Alex Prager was the director of photography for the New York Times Magazine.   \n",
       "9452                                                                                                                                                                                                                                                                                                                                                                                                                                                                                                                                                                                                                                                                                                                                                                                                                                                                                                                                                                                                                                                                                                                                                                 According to this paragraph, the diameter of a 1 F catheter is 1/77mm so the diameter of a 10 F catheter is 10/77mm.   \n",
       "956                                                                                                                                                                                                                                                                                                                                                                                                                                                                                                                                                                                                                                                                                                                                                                                                                                                                                                                                                                                                                                                                                                                                                                                                            A five minute period in the future is used for creating the dead man zone.   \n",
       "9953                                                                                                                                                                                                                                                                                                                                                                                                                                                                                                                                                                                                                                                                                                                                                                                                                                                                                                                                                                                                                                                                                                                                                 Andre Weiss was at the University of Dijon in Paris for 10 years, 1881 to 1891, before moving to the University of Paris Law School.   \n",
       "145                                                                                                                                                                                                                                                                                                                                                                                                                                                                                                                                                                                                                                                                                                                                                                                                                                                                                                                                                                                                                                                                                                                                                                                                          The phrase \"bike-shedding\" was introduced in 1957 by C. Northcote Parkinson.   \n",
       "13869                                                                                                                                                                                                                                                                                                                                                                                                                                                                                                                                                                                                                                                                                                                                                                                                                                                                                                                                                                                                                                                                                                                                                                         The least common birthday in the United States between 1973 and 1999 was February 29 because of leap years.   \n",
       "14865  Although Carolina Reaper currently holds the Guinness World Record for the hottest chili pepper, it is not the hottest chili pepper that is cultivated naturally. The Ghost Pepper, also known as Bhut Jholokia, is the spiciest chili pepper in the world that is grown naturally. It is most commonly found in Bangladesh and northeastern India. This pepper is frequently referred to as the \"ghost pepper\" in the West since \"bhut\" means \"ghost\" in the Assamese language. These peppers have thin, easily tearing, dented skin.\\n\\nA ghost pepper and an Ed Currie-bred Carolina Reaper can be compared because both are extremely fiery and have a sweet, fruity flavor. The Carolina Reaper has more than twice the heat of the ghost pepper when it is at its fiercest, despite the fact that both peppers are extremely spicy. Ghost peppers have a maximum SHU of 1,041,427, while the Carolina Reaper has a maximum SHU of 2.2 million.\\n\\nGhost peppers have a potent, sweet-fruity chili flavor. The first 30 to 45 seconds do not experience any heat. After the heat sets in, anticipate to experience shortness of breath, hiccups, perspiration, and watery eyes. The burning typically worsens over 10 to 15 minutes before going away after 30 to 40 minutes.   \n",
       "10513                                                                                                                                                                                                                                                                                                                                                                                                                                                                                                                                                                                                                                                                                                                                                                                                                                                                                                                                                                                                                                                                                                                                                                                                  Anne Elizabeth Howells parents are Trevor and Mona Howells. She died from myeloma.   \n",
       "5127                                                                                                                                                                                                                                                                                                                                                                                                                                                                                                                                                                                                                                                                                                                                                                                                                                                                                                                                                                                                                                                                                                                                                                                                               Yes, malayalam is the language spoken in Kerala and it is a palindrome   \n",
       "2220                                                                                                                                                                                                                                                                                                                                                                                                                                                                                                                                                                                                                                                                                                                                                                                                                                                                                                                                                                                                                                                                                                                                                                                    Neither.  It was first described by Arthur Gardiner Butler in 1875, which is in the 19th century.   \n",
       "\n",
       "        category confidence_score  \n",
       "6770   closed_qa         0.064139  \n",
       "9452   closed_qa         0.113954  \n",
       "956    closed_qa         0.142538  \n",
       "9953   closed_qa         0.193244  \n",
       "145    closed_qa         0.203536  \n",
       "13869  closed_qa         0.253206  \n",
       "14865  closed_qa         0.280514  \n",
       "10513  closed_qa         0.365155  \n",
       "5127   closed_qa         0.365852  \n",
       "2220   closed_qa         0.368751  "
      ]
     },
     "execution_count": 44,
     "metadata": {},
     "output_type": "execute_result"
    }
   ],
   "source": [
    "closed_qa_results = closed_qa_results.sort_values(by=\"confidence_score\")\n",
    "# closed_qa_results.to_csv('closed_qa_results.csv', index=False)\n",
    "closed_qa_results.head(10)"
   ]
  }
 ],
 "metadata": {
  "kernelspec": {
   "display_name": "ag",
   "language": "python",
   "name": "ag"
  },
  "language_info": {
   "codemirror_mode": {
    "name": "ipython",
    "version": 3
   },
   "file_extension": ".py",
   "mimetype": "text/x-python",
   "name": "python",
   "nbconvert_exporter": "python",
   "pygments_lexer": "ipython3",
   "version": "3.8.10"
  }
 },
 "nbformat": 4,
 "nbformat_minor": 5
}
