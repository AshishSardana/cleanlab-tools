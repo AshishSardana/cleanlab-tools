{
 "cells": [
  {
   "cell_type": "code",
   "execution_count": 1,
   "metadata": {},
   "outputs": [],
   "source": [
    "from cleanlab_studio import Studio\n",
    "import pandas as pd\n",
    "from typing import List, Tuple"
   ]
  },
  {
   "cell_type": "code",
   "execution_count": 2,
   "metadata": {},
   "outputs": [],
   "source": [
    "# Initialize Cleanlab Studio\n",
    "studio = Studio(\"YOUR API KEY HERE\")\n",
    "tlm = studio.TLM(quality_preset=\"high\", options={\"model\": \"gpt-4o\", \"log\": [\"explanation\"]})"
   ]
  },
  {
   "cell_type": "code",
   "execution_count": 3,
   "metadata": {},
   "outputs": [],
   "source": [
    "# Load log entries dataset\n",
    "df = pd.read_csv(\"application_logs.csv\")"
   ]
  },
  {
   "cell_type": "code",
   "execution_count": 4,
   "metadata": {},
   "outputs": [],
   "source": [
    "def parse_gdpr_violation(response: str) -> bool:\n",
    "    \"\"\"\n",
    "    Extracts the GDPR violation status from the response.\n",
    "    \n",
    "    Args:\n",
    "        response (str): Response from the TLM\n",
    "    \n",
    "    Returns:\n",
    "        bool: True if violates GDPR, False otherwise\n",
    "    \"\"\"\n",
    "    return response.strip().lower() == 'true'\n",
    "\n",
    "def classify_gdpr_violations(texts: List[str], prompt_template: str) -> Tuple[List[bool], List[float], List[str]]:\n",
    "    \"\"\"\n",
    "    Classifies a list of log entries for GDPR violations using TLM.\n",
    "    \n",
    "    Args:\n",
    "        texts (List[str]): List of log entries to classify\n",
    "        prompt_template (str): Template string for formatting the prompt\n",
    "    \n",
    "    Returns:\n",
    "        Tuple[List[bool], List[float], List[str]]: A tuple containing three lists:\n",
    "            - List of GDPR violation statuses for each log entry\n",
    "            - List of trustworthiness scores for each prediction\n",
    "            - List of low trustworthiness explanations (empty string if trustworthiness is high)\n",
    "    \"\"\"\n",
    "    prompts = [prompt_template.format(text=text) for text in texts]\n",
    "    outputs = tlm.try_prompt(prompts)\n",
    "    \n",
    "    violations = [parse_gdpr_violation(output['response']) for output in outputs]\n",
    "    trustworthiness_scores = [output['trustworthiness_score'] for output in outputs]\n",
    "    low_trust_explanations = [output['log']['explanation'] if output['trustworthiness_score'] < 0.5 else '' for output in outputs]\n",
    "    \n",
    "    return violations, trustworthiness_scores, low_trust_explanations"
   ]
  },
  {
   "cell_type": "code",
   "execution_count": 5,
   "metadata": {},
   "outputs": [],
   "source": [
    "# Define the prompt template\n",
    "prompt_template = \"\"\"\n",
    "Analyze the following application log entry and determine if it violates GDPR by containing or processing personal data without proper safeguards.\n",
    "Consider things like user identifiers, names, email addresses, IP addresses, or any other personally identifiable information.\n",
    "Respond with only 'True' if it violates GDPR, or 'False' if it complies with GDPR.\n",
    "\n",
    "Log entry: {text}\n",
    "\n",
    "Violates GDPR (True/False):\n",
    "\"\"\""
   ]
  },
  {
   "cell_type": "code",
   "execution_count": 6,
   "metadata": {},
   "outputs": [
    {
     "name": "stderr",
     "output_type": "stream",
     "text": [
      "Querying TLM... 100%|██████████|"
     ]
    },
    {
     "name": "stdout",
     "output_type": "stream",
     "text": [
      "CPU times: user 1min 5s, sys: 17.8 s, total: 1min 23s\n",
      "Wall time: 2min 9s\n"
     ]
    },
    {
     "name": "stderr",
     "output_type": "stream",
     "text": [
      "\n"
     ]
    }
   ],
   "source": [
    "%%time\n",
    "\n",
    "# Classify all log entries in batch\n",
    "violations, trustworthiness_scores, low_trust_explanations = classify_gdpr_violations(df[\"log_entry\"].tolist(), prompt_template)\n",
    "\n",
    "# Add results to the DataFrame\n",
    "df['violates_GDPR'] = violations\n",
    "df['trustworthiness'] = trustworthiness_scores\n",
    "df['low_trust_explanation'] = low_trust_explanations"
   ]
  },
  {
   "cell_type": "code",
   "execution_count": 7,
   "metadata": {},
   "outputs": [
    {
     "name": "stdout",
     "output_type": "stream",
     "text": [
      "Top GDPR-violating log entries (high trustworthiness):\n"
     ]
    },
    {
     "data": {
      "text/html": [
       "<div>\n",
       "<style scoped>\n",
       "    .dataframe tbody tr th:only-of-type {\n",
       "        vertical-align: middle;\n",
       "    }\n",
       "\n",
       "    .dataframe tbody tr th {\n",
       "        vertical-align: top;\n",
       "    }\n",
       "\n",
       "    .dataframe thead th {\n",
       "        text-align: right;\n",
       "    }\n",
       "</style>\n",
       "<table border=\"1\" class=\"dataframe\">\n",
       "  <thead>\n",
       "    <tr style=\"text-align: right;\">\n",
       "      <th></th>\n",
       "      <th>log_entry</th>\n",
       "      <th>violates_GDPR</th>\n",
       "      <th>trustworthiness</th>\n",
       "    </tr>\n",
       "  </thead>\n",
       "  <tbody>\n",
       "    <tr>\n",
       "      <th>9</th>\n",
       "      <td>2024-09-14 22:23:46 DEBUG: Password reset requ...</td>\n",
       "      <td>True</td>\n",
       "      <td>0.998532</td>\n",
       "    </tr>\n",
       "    <tr>\n",
       "      <th>15</th>\n",
       "      <td>2024-09-11 16:27:24 INFO: Geo-location data up...</td>\n",
       "      <td>True</td>\n",
       "      <td>0.995860</td>\n",
       "    </tr>\n",
       "    <tr>\n",
       "      <th>22</th>\n",
       "      <td>2024-08-30 10:43:05 DEBUG: User login successf...</td>\n",
       "      <td>True</td>\n",
       "      <td>0.993578</td>\n",
       "    </tr>\n",
       "    <tr>\n",
       "      <th>23</th>\n",
       "      <td>2024-08-24 01:31:02 WARN: Newsletter subscript...</td>\n",
       "      <td>True</td>\n",
       "      <td>0.999325</td>\n",
       "    </tr>\n",
       "    <tr>\n",
       "      <th>28</th>\n",
       "      <td>2024-08-24 19:32:18 WARN: New user registered:...</td>\n",
       "      <td>True</td>\n",
       "      <td>0.996044</td>\n",
       "    </tr>\n",
       "  </tbody>\n",
       "</table>\n",
       "</div>"
      ],
      "text/plain": [
       "                                            log_entry  violates_GDPR  \\\n",
       "9   2024-09-14 22:23:46 DEBUG: Password reset requ...           True   \n",
       "15  2024-09-11 16:27:24 INFO: Geo-location data up...           True   \n",
       "22  2024-08-30 10:43:05 DEBUG: User login successf...           True   \n",
       "23  2024-08-24 01:31:02 WARN: Newsletter subscript...           True   \n",
       "28  2024-08-24 19:32:18 WARN: New user registered:...           True   \n",
       "\n",
       "    trustworthiness  \n",
       "9          0.998532  \n",
       "15         0.995860  \n",
       "22         0.993578  \n",
       "23         0.999325  \n",
       "28         0.996044  "
      ]
     },
     "execution_count": 7,
     "metadata": {},
     "output_type": "execute_result"
    }
   ],
   "source": [
    "# Filter for GDPR violations with high trustworthiness scores\n",
    "high_trust_threshold = 0.8\n",
    "gdpr_violations = df[(df['violates_GDPR'] == True) & (df['trustworthiness'] > high_trust_threshold)]\n",
    "\n",
    "print(\"Top GDPR-violating log entries (high trustworthiness):\")\n",
    "gdpr_violations[['log_entry', 'violates_GDPR', 'trustworthiness']].head()"
   ]
  },
  {
   "cell_type": "code",
   "execution_count": 8,
   "metadata": {},
   "outputs": [
    {
     "name": "stdout",
     "output_type": "stream",
     "text": [
      "\n",
      "Log entries with low trustworthiness scores:\n",
      "Log entry: 2024-09-09 12:25:00 INFO: Unauthorized access attempt to admin panel from IP: 53.125.88.241\n",
      "Violates GDPR: True\n",
      "Trustworthiness score: 0.2336285708561434\n",
      "Low trustworthiness explanation: The answer \"True\" indicates that the log entry violates GDPR by containing or processing personal data without proper safeguards. However, this assessment is not entirely accurate. The log entry contains an IP address, which can be considered personal data under GDPR if it can be linked to an individual. However, the mere presence of an IP address in a log entry does not automatically constitute a GDPR violation. The context of how the IP address is used, stored, and protected is crucial. If the IP address is used solely for security purposes and is adequately protected, it may not violate GDPR. Therefore, the answer \"True\" is not definitively correct without additional context.\n",
      "--------------------------------------------------\n",
      "Log entry: 2024-08-16 08:49:15 DEBUG: New social login via Google for user ID: TW_57200516\n",
      "Violates GDPR: False\n",
      "Trustworthiness score: 0.36489453508135933\n",
      "Low trustworthiness explanation: The prompt/response appear atypical or vague.\n",
      "--------------------------------------------------\n",
      "Log entry: 2024-09-02 11:49:41 WARN: Failed to charge credit card ending in 8041 for customer ID: CUST77289\n",
      "Violates GDPR: False\n",
      "Trustworthiness score: 0.38331069658744105\n",
      "Low trustworthiness explanation: The log entry provided does not contain any personally identifiable information (PII) such as names, email addresses, or IP addresses. The customer ID (CUST77289) and the last four digits of the credit card (8041) are not sufficient to identify an individual on their own. Therefore, this log entry does not violate GDPR as it does not process or contain personal data without proper safeguards. \n",
      "This response is untrustworthy due to lack of consistency in possible responses from the model. Here's one inconsistent alternate response that the model considered (which may not be accurate either): \n",
      "True.\n",
      "--------------------------------------------------\n",
      "Log entry: 2024-08-30 14:48:51 ERROR: Unauthorized access attempt to admin panel from IP: 8.118.70.251\n",
      "Violates GDPR: True\n",
      "Trustworthiness score: 0.3933484367633626\n",
      "Low trustworthiness explanation: The answer provided is \"True,\" indicating that the log entry violates GDPR. However, this conclusion is not necessarily accurate. The log entry contains an IP address, which can be considered personal data under GDPR if it can be linked to an individual. However, the mere presence of an IP address in a log entry does not automatically constitute a GDPR violation. The context of how the IP address is used, stored, and protected is crucial. If proper safeguards and justifications for processing the IP address are in place, it may comply with GDPR. Therefore, the answer is not fully accurate and lacks the necessary context to make a definitive judgment.\n",
      "--------------------------------------------------\n",
      "Log entry: 2024-08-26 06:07:39 ERROR: Unauthorized access attempt to admin panel from IP: 74.62.73.229\n",
      "Violates GDPR: True\n",
      "Trustworthiness score: 0.40525719781303643\n",
      "Low trustworthiness explanation: The answer \"True\" indicates that the log entry violates GDPR by containing or processing personal data without proper safeguards. However, this assessment is not entirely accurate. The log entry contains an IP address, which can be considered personal data under GDPR if it can be linked to an individual. However, the mere presence of an IP address in a log entry does not automatically constitute a GDPR violation. The context of how the data is used, stored, and protected is crucial. If the IP address is used solely for security purposes and is adequately protected, it may not violate GDPR. Therefore, the answer \"True\" is not definitively correct without additional context.\n",
      "--------------------------------------------------\n",
      "Log entry: 2024-08-22 00:01:31 ERROR: Unauthorized access attempt to admin panel from IP: 156.41.24.195\n",
      "Violates GDPR: True\n",
      "Trustworthiness score: 0.40636479363904343\n",
      "Low trustworthiness explanation: The answer provided is \"True,\" indicating that the log entry violates GDPR. However, this conclusion is not necessarily accurate. The log entry contains an IP address, which can be considered personal data under GDPR if it can be linked to an individual. However, the mere presence of an IP address in a log entry does not automatically constitute a GDPR violation. The context of how the data is processed, stored, and protected also matters. The log entry does not provide enough information to definitively conclude that GDPR is violated. Therefore, the answer is not fully accurate or justified. \n",
      "This response is untrustworthy due to lack of consistency in possible responses from the model. Here's one inconsistent alternate response that the model considered (which may not be accurate either): \n",
      "False.\n",
      "--------------------------------------------------\n",
      "Log entry: 2024-09-06 00:29:17 ERROR: Unauthorized access attempt to admin panel from IP: 78.29.194.147\n",
      "Violates GDPR: True\n",
      "Trustworthiness score: 0.4127898836101229\n",
      "Low trustworthiness explanation: The answer \"True\" indicates that the log entry violates GDPR by containing or processing personal data without proper safeguards. The log entry includes an IP address (78.29.194.147), which is considered personal data under GDPR as it can be used to identify an individual. However, the answer does not provide any reasoning or context to support the conclusion, making it difficult to assess its accuracy and completeness. Additionally, the log entry itself does not provide enough information to definitively determine whether proper safeguards are in place or not. Therefore, while the answer addresses the user's question, it lacks the necessary explanation and confidence to be considered fully accurate and helpful.\n",
      "--------------------------------------------------\n",
      "Log entry: 2024-09-15 06:52:55 INFO: Unusual activity detected from IP: 133.202.221.230\n",
      "Violates GDPR: True\n",
      "Trustworthiness score: 0.49032043086015886\n",
      "Low trustworthiness explanation: The answer \"True\" indicates that the log entry violates GDPR by containing or processing personal data without proper safeguards. However, this assessment is not entirely accurate. The log entry contains an IP address, which can be considered personal data under GDPR if it can be linked to an individual. However, the mere presence of an IP address in a log entry does not automatically constitute a GDPR violation. The context of how the IP address is used, stored, and protected, as well as whether proper safeguards and legal bases for processing are in place, are crucial factors in determining compliance. Therefore, the answer \"True\" is overly simplistic and does not fully consider these nuances.\n",
      "--------------------------------------------------\n",
      "Log entry: 2024-08-22 15:20:50 ERROR: Unauthorized access attempt to admin panel from IP: 190.248.208.39\n",
      "Violates GDPR: True\n",
      "Trustworthiness score: 0.4910890893010253\n",
      "Low trustworthiness explanation: The answer provided is \"True,\" indicating that the log entry violates GDPR. However, this conclusion is not necessarily accurate. The log entry contains an IP address, which can be considered personal data under GDPR if it can be linked to an individual. However, the mere presence of an IP address in a log entry does not automatically constitute a GDPR violation. The context of how the data is processed, stored, and protected is crucial. If proper safeguards and justifications for logging the IP address are in place, it may comply with GDPR. Therefore, the answer is not definitively nd lacks the necessary context to make a conclusive determination.\n",
      "--------------------------------------------------\n",
      "Log entry: 2024-08-17 16:13:32 ERROR: Unauthorized access attempt to admin panel from IP: 117.59.245.203\n",
      "Violates GDPR: True\n",
      "Trustworthiness score: 0.49124775309238206\n",
      "Low trustworthiness explanation: The answer \"True\" indicates that the log entry violates GDPR by containing or processing personal data without proper safeguards. However, this assessment is not entirely accurate. The log entry contains an IP address (117.59.245.203), which can be considered personal data under GDPR if it can be linked to an individual. However, the mere presence of an IP address in a log entry does not automatically constitute a GDPR violation. The context of how the IP address is used, stored, and protected is crucial. If the IP address is used solely for security purposes and is adequately protected, it may not violate GDPR. Therefore, the answer \"True\" is not definitively correct without additional context. \n",
      "This response is untrustworthy due to lack of consistency in possible responses from the model. Here's one inconsistent alternate response that the model considered (which may not be accurate either): \n",
      "False.\n",
      "--------------------------------------------------\n"
     ]
    }
   ],
   "source": [
    "# Filter for examples with low trustworthiness scores\n",
    "low_trust_threshold = 0.5\n",
    "low_trust_logs = df[df['trustworthiness'] < low_trust_threshold].sort_values('trustworthiness')\n",
    "\n",
    "print(\"\\nLog entries with low trustworthiness scores:\")\n",
    "for _, row in low_trust_logs.iterrows():\n",
    "    print(f\"Log entry: {row['log_entry']}\")\n",
    "    print(f\"Violates GDPR: {row['violates_GDPR']}\")\n",
    "    print(f\"Trustworthiness score: {row['trustworthiness']}\")\n",
    "    print(f\"Low trustworthiness explanation: {row['low_trust_explanation']}\")\n",
    "    print(\"-\" * 50)"
   ]
  },
  {
   "cell_type": "code",
   "execution_count": 9,
   "metadata": {},
   "outputs": [
    {
     "name": "stdout",
     "output_type": "stream",
     "text": [
      "\n",
      "Summary:\n",
      "Total log entries analyzed: 1000\n",
      "GDPR violations (high trustworthiness): 239 (23.90%)\n",
      "Low trustworthiness entries: 10 (1.00%)\n"
     ]
    }
   ],
   "source": [
    "# Calculate and print summary statistics\n",
    "total_logs = len(df)\n",
    "gdpr_violations_count = len(gdpr_violations)\n",
    "low_trust_count = len(low_trust_logs)\n",
    "\n",
    "print(f\"\\nSummary:\")\n",
    "print(f\"Total log entries analyzed: {total_logs}\")\n",
    "print(f\"GDPR violations (high trustworthiness): {gdpr_violations_count} ({gdpr_violations_count/total_logs:.2%})\")\n",
    "print(f\"Low trustworthiness entries: {low_trust_count} ({low_trust_count/total_logs:.2%})\")"
   ]
  },
  {
   "cell_type": "code",
   "execution_count": 10,
   "metadata": {},
   "outputs": [
    {
     "name": "stdout",
     "output_type": "stream",
     "text": [
      "\n",
      "Results saved to 'gdpr_analysis_results.csv'\n"
     ]
    }
   ],
   "source": [
    "# Save the results\n",
    "df.to_csv(\"gdpr_analysis_results.csv\", index=False)\n",
    "print(\"\\nResults saved to 'gdpr_analysis_results.csv'\")"
   ]
  },
  {
   "cell_type": "code",
   "execution_count": null,
   "metadata": {},
   "outputs": [],
   "source": []
  },
  {
   "cell_type": "code",
   "execution_count": null,
   "metadata": {},
   "outputs": [],
   "source": []
  },
  {
   "cell_type": "code",
   "execution_count": null,
   "metadata": {},
   "outputs": [],
   "source": []
  }
 ],
 "metadata": {
  "kernelspec": {
   "display_name": "mturk-env",
   "language": "python",
   "name": "python3"
  },
  "language_info": {
   "codemirror_mode": {
    "name": "ipython",
    "version": 3
   },
   "file_extension": ".py",
   "mimetype": "text/x-python",
   "name": "python",
   "nbconvert_exporter": "python",
   "pygments_lexer": "ipython3",
   "version": "3.11.9"
  }
 },
 "nbformat": 4,
 "nbformat_minor": 2
}
