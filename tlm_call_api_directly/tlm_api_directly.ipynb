{
 "cells": [
  {
   "cell_type": "markdown",
   "metadata": {},
   "source": [
    "# Example of how to call the TLM API directly\n",
    "\n",
    "Although the code below is in Python, it is just for reference. This is just making http requests and customers can use any programming language with http lib/tools by providing the necessary payload and headers."
   ]
  },
  {
   "cell_type": "code",
   "execution_count": 1,
   "metadata": {},
   "outputs": [],
   "source": [
    "# Define the TLM API key, model, and quality preset\n",
    "# More details on models supported and quality presets can be found here: https://help.cleanlab.ai/reference/python/trustworthy_language_model/#class-tlmoptions\n",
    "API_KEY = '<API_KEY>'\n",
    "MODEL = \"gpt-4o-mini\"\n",
    "QUALITY_PRESET = \"medium\""
   ]
  },
  {
   "cell_type": "markdown",
   "metadata": {},
   "source": [
    "## Make Prompt API request to TLM to get back a response and confidence score"
   ]
  },
  {
   "cell_type": "code",
   "execution_count": 3,
   "metadata": {},
   "outputs": [
    {
     "data": {
      "text/plain": [
       "{'confidence_score': 0.9895306135411333,\n",
       " 'deberta_success': True,\n",
       " 'response': 'The first month of the year is January.'}"
      ]
     },
     "execution_count": 3,
     "metadata": {},
     "output_type": "execute_result"
    }
   ],
   "source": [
    "import requests\n",
    "import json\n",
    "\n",
    "url = \"https://api.cleanlab.ai/api/v0/trustworthy_llm/prompt\"\n",
    "\n",
    "\n",
    "def make_prompt_api_request(prompt):\n",
    "    payload = json.dumps({\n",
    "        \"quality\": QUALITY_PRESET,\n",
    "        \"prompt\": prompt,\n",
    "        \"options\": {\n",
    "            \"model\": MODEL,\n",
    "        }\n",
    "    })\n",
    "    headers = {\n",
    "        'authorization': f'Bearer {API_KEY}',\n",
    "        'Content-Type': 'application/json'\n",
    "    }\n",
    "\n",
    "    response = requests.request(\"POST\", url, headers=headers, data=payload)\n",
    "    return response.json()\n",
    "\n",
    "make_prompt_api_request(\"What's the first month of the year?\")"
   ]
  },
  {
   "cell_type": "markdown",
   "metadata": {},
   "source": [
    "## Make Confidence Score API request to TLM to get back a confidence score"
   ]
  },
  {
   "cell_type": "code",
   "execution_count": 6,
   "metadata": {},
   "outputs": [
    {
     "data": {
      "text/plain": [
       "{'confidence_score': 0.04739682241488771, 'deberta_success': True}"
      ]
     },
     "execution_count": 6,
     "metadata": {},
     "output_type": "execute_result"
    }
   ],
   "source": [
    "url = \"https://api.cleanlab.ai/api/v0/trustworthy_llm/get_confidence_score\"\n",
    "\n",
    "def make_score_api_request(prompt, response):\n",
    "    payload = json.dumps({\n",
    "        \"quality\": QUALITY_PRESET,\n",
    "        \"prompt\": prompt,\n",
    "        \"response\": response,\n",
    "        \"options\": {\n",
    "            \"model\": MODEL\n",
    "        }\n",
    "    })\n",
    "    headers = {\n",
    "        'authorization': f'Bearer {API_KEY}',\n",
    "        'Content-Type': 'application/json'\n",
    "    }\n",
    "\n",
    "    response = requests.request(\"POST\", url, headers=headers, data=payload)\n",
    "    return response.json()\n",
    "\n",
    "make_score_api_request(\"What's the first month of the year?\", \"February\")"
   ]
  }
 ],
 "metadata": {
  "kernelspec": {
   "display_name": ".env",
   "language": "python",
   "name": "python3"
  },
  "language_info": {
   "codemirror_mode": {
    "name": "ipython",
    "version": 3
   },
   "file_extension": ".py",
   "mimetype": "text/x-python",
   "name": "python",
   "nbconvert_exporter": "python",
   "pygments_lexer": "ipython3",
   "version": "3.10.15"
  }
 },
 "nbformat": 4,
 "nbformat_minor": 2
}
